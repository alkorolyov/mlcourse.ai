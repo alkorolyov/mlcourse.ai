{
 "cells": [
  {
   "cell_type": "code",
   "execution_count": 1,
   "id": "41a5eb0a",
   "metadata": {},
   "outputs": [],
   "source": [
    "\n",
    "import numpy as np\n",
    "import pandas as pd\n",
    "from scipy.sparse import hstack, vstack, csr_matrix\n",
    "from matplotlib import pyplot as plt\n",
    "from sklearn.tree import DecisionTreeClassifier, plot_tree\n",
    "from sklearn.metrics import roc_auc_score\n",
    "from sklearn.model_selection import TimeSeriesSplit, cross_val_score, cross_validate, GridSearchCV\n",
    "from sklearn.ensemble import RandomForestClassifier\n",
    "from sklearn.linear_model import LogisticRegression\n",
    "from sklearn.feature_extraction.text import TfidfVectorizer\n",
    "from sklearn.preprocessing import StandardScaler, OneHotEncoder\n",
    "from typing import Union, List"
   ]
  },
  {
   "cell_type": "code",
   "execution_count": 5,
   "id": "4e2382ab",
   "metadata": {},
   "outputs": [
    {
     "name": "stdout",
     "output_type": "stream",
     "text": [
      "Wall time: 51.3 s\n"
     ]
    }
   ],
   "source": [
    "%%time\n",
    "def write_to_submission_file(predicted_probs, out_file: str = 'to_submission.csv.zip',\n",
    "                             target='target', index_label='session_id'):\n",
    "    df = pd.DataFrame(predicted_probs,\n",
    "                      index=np.arange(1, len(predicted_probs) + 1),\n",
    "                      columns=[target])\n",
    "    df.to_csv(out_file, index_label=index_label, compression=\"zip\")\n",
    "\n",
    "def convert_types(df: pd.DataFrame) -> pd.DataFrame:\n",
    "    \"\"\" Define all type transformations in a single function \"\"\"\n",
    "    sites = [s for s in df.columns if \"site\" in s]\n",
    "    df[sites] = df[sites].fillna(0).astype('uint16')\n",
    "    times = [t for t in df.columns if \"time\" in t]\n",
    "    df[times] = df[times].apply(pd.to_datetime)\n",
    "    if 'target' in df.columns:\n",
    "        df['target'] = df.target.astype('uint8')\n",
    "    return df\n",
    "\n",
    "train_df = pd.read_csv('../../../../data/catch-me-if-you-can-intruder-detection-through-webpage-session-tracking2/train_sessions.csv.zip')\n",
    "train_df = convert_types(train_df)\n",
    "train_df.sort_values(by='time1', inplace=True)\n",
    "\n",
    "test_df = pd.read_csv('../../../../data/catch-me-if-you-can-intruder-detection-through-webpage-session-tracking2/test_sessions.csv.zip')\n",
    "test_df = convert_types(test_df)\n",
    "\n",
    "sites = [s for s in train_df.columns if 'site' in s]\n",
    "times = [t for t in train_df.columns if 'time' in t]\n",
    "\n",
    "# Our target variable\n",
    "y_train = train_df[\"target\"]\n",
    "\n",
    "# United dataframe of the initial data\n",
    "full_df = pd.concat([train_df.drop(\"target\", axis=1), test_df])\n",
    "\n",
    "# Index to split the training and test data sets\n",
    "idx_split = train_df.shape[0]\n",
    "\n",
    "sites_corpus = full_df[sites].to_string(header=False, index=False).split('\\n')\n",
    "\n",
    "tfv = TfidfVectorizer(ngram_range=(1,2), max_features=20000)\n",
    "X_train = tfv.fit_transform(sites_corpus[:idx_split])\n",
    "X_test = tfv.transform(sites_corpus[idx_split:])\n",
    "\n",
    "X_full = vstack([X_train, X_test]).tocsr()\n",
    "\n",
    "def get_auc_logit_score(X, y, C=1.0, seed=17, n_splits=10):\n",
    "    # Split the data into the training and validation sets\n",
    "    time_split = TimeSeriesSplit(n_splits=n_splits)\n",
    "    logit = LogisticRegression(C=C, random_state=seed, solver='liblinear')\n",
    "    cv_scores = cross_val_score(logit, X, y, cv=time_split, scoring='roc_auc', n_jobs=-1)\n",
    "    return cv_scores.mean()\n",
    "\n",
    "def get_auc_logit_scores(X, y, C=1.0, seed=17, n_splits=10):\n",
    "    # Split the data into the training and validation sets\n",
    "    time_split = TimeSeriesSplit(n_splits=n_splits)\n",
    "    logit = LogisticRegression(C=C, random_state=seed, solver='liblinear')\n",
    "    cv_scores = cross_validate(logit, X, y, cv=time_split, scoring='roc_auc',\n",
    "                               return_train_score=True, n_jobs=-1)\n",
    "    return cv_scores\n",
    "\n",
    "\n",
    "def get_auc_rf_score(X, y, seed=17, max_depth=5, n_estimators=10, \n",
    "                     n_splits=10, max_features='auto'):\n",
    "    time_split = TimeSeriesSplit(n_splits=n_splits)\n",
    "    rf = RandomForestClassifier(random_state=seed, \n",
    "                                max_depth=max_depth, \n",
    "                                max_features=max_features, \n",
    "                                n_estimators=n_estimators)\n",
    "    cv_scores = cross_val_score(rf, X, y, cv=time_split, scoring='roc_auc', n_jobs=-1)\n",
    "    return cv_scores.mean()\n",
    "\n",
    "def get_auc_rf_scores(X, y, seed=17, max_depth=10, n_estimators=10, \n",
    "                     n_splits=10, max_features='auto'):\n",
    "    time_split = TimeSeriesSplit(n_splits=n_splits)\n",
    "    rf = RandomForestClassifier(random_state=seed, \n",
    "                                max_depth=max_depth, \n",
    "                                max_features=max_features, \n",
    "                                n_estimators=n_estimators)\n",
    "    cv_scores = cross_validate(rf, X, y, cv=time_split, scoring='roc_auc', \n",
    "                               return_train_score=True, n_jobs=-1)\n",
    "    return cv_scores\n",
    "\n",
    "\n",
    "def get_features(full_df) -> pd.DataFrame:\n",
    "    times = [t for t in full_df.columns if 'time' in t]\n",
    "    feat_df = pd.DataFrame(index=full_df.index)\n",
    "\n",
    "    feat_df['weekday'] = full_df['time1'].dt.weekday\n",
    "    for weekday in range(7):\n",
    "        feat_name = f'weekday_{weekday}'\n",
    "        feat_df[feat_name] = (full_df['time1'].dt.weekday == weekday).astype(int)\n",
    "    for hour in range(23):\n",
    "        feat_name = f'hour_{hour}'\n",
    "        feat_df[feat_name] = (full_df['time1'].dt.hour == hour).astype(int)\n",
    "\n",
    "    feat_df['duration'] = (full_df[times].max(axis=1) - full_df[times].min(axis=1)).dt.total_seconds()\n",
    "\n",
    "    feat_df['hour_sin'] = np.sin(full_df['time1'].dt.hour / 24)\n",
    "    feat_df['hour_cos'] = np.cos(full_df['time1'].dt.hour / 24)\n",
    "\n",
    "    feat_df['hour'] = full_df['time1'].dt.hour\n",
    "\n",
    "    feat_df['morning'] = feat_df['hour'].between(7, 11).astype(int)\n",
    "    feat_df['noon'] = feat_df['hour'].between(12, 18).astype(int)\n",
    "    feat_df['evening'] = feat_df['hour'].between(19, 23).astype(int)\n",
    "    feat_df['night'] = feat_df['hour'].between(0, 6).astype(int)\n",
    "\n",
    "    deltas = ['delta' + str(i) for i in range(1, 10)]    \n",
    "    delta_df = (full_df[times] - full_df[times].shift(1, axis=1)) \\\n",
    "        .copy() \\\n",
    "        .drop(columns='time1') \\\n",
    "        .apply(lambda x: x.dt.total_seconds())\n",
    "\n",
    "    delta_df.columns = deltas\n",
    "    for delta in deltas:\n",
    "        feat_df[delta] = delta_df[delta]\n",
    "\n",
    "    feat_df['delta_avg'] = delta_df.mean(axis=1, skipna=True).fillna(0.0)\n",
    "\n",
    "    best_hours = ['hour_7', 'hour_8', 'hour_9', 'hour_10', 'hour_11', 'hour_14', 'hour_16', 'hour_17', 'hour_18',\n",
    "                  'hour_19', 'hour_20', 'hour_21', 'hour_22']\n",
    "    best_weekdays = ['weekday_0']\n",
    "    best_previous = ['morning', 'noon', 'evening']\n",
    "\n",
    "    return feat_df.fillna(0.0)\n",
    "\n",
    "# Add the new feature to the sparse matrix\n",
    "def add_feature(feat: str, X_sparse=None, standardize=True, onehot=False):\n",
    "    tmp = feat_df[[feat]].values\n",
    "    if onehot:\n",
    "        enc = OneHotEncoder(dtype=np.uint8, sparse=False)\n",
    "        tmp = enc.fit_transform(tmp)\n",
    "    if standardize:\n",
    "        tmp = StandardScaler().fit_transform(tmp)\n",
    "    if X_sparse is not None:\n",
    "        return hstack([X_sparse, tmp]).tocsr()\n",
    "    else:\n",
    "        return csr_matrix(tmp)\n",
    "\n",
    "\n",
    "def add_multi_feature(feat_list: list, X_sparse=None):\n",
    "    X_new = X_sparse\n",
    "    for feat in feat_list:\n",
    "        X_new = add_feature(feat, X_new)\n",
    "    return X_new[:idx_split, :], X_new[idx_split:, :]\n",
    "\n",
    "\n",
    "def test_feature(features: Union[list, str], standardize=True, onehot=False, C=1):\n",
    "    print(f\"Testing:\\t{features}\")\n",
    "\n",
    "    if isinstance(features, str):\n",
    "        features = [features]\n",
    "    \n",
    "    X_new = X_full\n",
    "    for feat in features:\n",
    "        X_new = add_feature(feat, X_new, onehot=onehot, standardize=standardize)\n",
    "    X_train_new = X_new[:idx_split, :]\n",
    "    score = get_auc_logit_score(X_train_new, y_train, C=C)\n",
    "\n",
    "    print(f\"Score:\\t\\t{score:.4f}\\t\", end=\"\")\n",
    "\n",
    "    if score > BASELINE:\n",
    "        print(f\"+++ baseline:\\t{BASELINE:.4f}\")\n",
    "    else:\n",
    "        print(f\"--- baseline:\\t{BASELINE:.4f}\")\n",
    "    return score\n",
    "\n",
    "\n",
    "def test_multi_feature(feat_list: list, C=1):\n",
    "    \"\"\"\n",
    "    Deprecated\n",
    "    \"\"\"\n",
    "    print(f\"Testing:\\t{feat_list}\")\n",
    "\n",
    "    X_new = X_full\n",
    "    for feat in feat_list:\n",
    "        X_new = add_feature(feat, X_sparse=X_new)\n",
    "    X_train_new = X_new[:idx_split, :]\n",
    "    score = get_auc_logit_score(X_train_new, y_train, C=C)\n",
    "\n",
    "    print(f\"Score:\\t\\t{score:.4f}\\t\", end=\"\")\n",
    "    if score > BASELINE:\n",
    "        print(f\"+++ baseline: {BASELINE:.4f}\")\n",
    "    else:\n",
    "        print(f\"--- baseline: {BASELINE:.4f}\")\n",
    "    return score\n",
    "\n",
    "\n",
    "def predict_probs(feat_list: list = None, n_splits=10, calc_local = True,\n",
    "                  estimator=LogisticRegression(C=1, random_state=17, solver='liblinear')):\n",
    "    X_new = X_full\n",
    "\n",
    "    if feat_list is not None:\n",
    "        for feat in feat_list:\n",
    "            X_new = add_feature(feat, X_sparse=X_new)\n",
    "    else:\n",
    "        pass\n",
    "\n",
    "    X_train_new = X_new[:idx_split, :]\n",
    "    X_test_new = X_new[idx_split:, :]\n",
    "    estimator.fit(X_train_new, y_train)\n",
    "\n",
    "    if calc_local:\n",
    "        time_split = TimeSeriesSplit(n_splits=n_splits)\n",
    "        cv_scores = cross_val_score(estimator, X_train_new, y_train, cv=time_split, scoring='roc_auc', n_jobs=-1)\n",
    "        print(f\"Local score: {cv_scores.mean():.4f}\")\n",
    "    return estimator.predict_proba(X_test_new)[:, 1]\n",
    "\n",
    "def predict_probs_ex(X_train_new, X_test_new, calc_local = True,\n",
    "                     estimator=LogisticRegression(C=1, random_state=17, solver='liblinear')):\n",
    "    \n",
    "    estimator.fit(X_train_new, y_train)\n",
    "    if calc_local:\n",
    "        time_split = TimeSeriesSplit(n_splits=n_splits)\n",
    "        cv_scores = cross_val_score(estimator, X_train_new, y_train, \n",
    "                                    cv=time_split, scoring='roc_auc', n_jobs=-1)\n",
    "        print(f\"Local score: {cv_scores.mean():.4f}\")\n",
    "\n",
    "    return estimator.predict_proba(X_test_new)[:, 1]\n",
    "\n",
    "BASELINE = get_auc_logit_score(X_train, y_train)\n",
    "\n",
    "feat_df = get_features(full_df)"
   ]
  },
  {
   "cell_type": "code",
   "execution_count": 5,
   "id": "b7100b59",
   "metadata": {},
   "outputs": [
    {
     "data": {
      "text/plain": [
       "Index(['weekday', 'weekday_0', 'weekday_1', 'weekday_2', 'weekday_3',\n",
       "       'weekday_4', 'weekday_5', 'weekday_6', 'hour_0', 'hour_1', 'hour_2',\n",
       "       'hour_3', 'hour_4', 'hour_5', 'hour_6', 'hour_7', 'hour_8', 'hour_9',\n",
       "       'hour_10', 'hour_11', 'hour_12', 'hour_13', 'hour_14', 'hour_15',\n",
       "       'hour_16', 'hour_17', 'hour_18', 'hour_19', 'hour_20', 'hour_21',\n",
       "       'hour_22', 'duration', 'hour_sin', 'hour_cos', 'hour', 'morning',\n",
       "       'noon', 'evening', 'night', 'delta1', 'delta2', 'delta3', 'delta4',\n",
       "       'delta5', 'delta6', 'delta7', 'delta8', 'delta9', 'delta_avg'],\n",
       "      dtype='object')"
      ]
     },
     "execution_count": 5,
     "metadata": {},
     "output_type": "execute_result"
    }
   ],
   "source": [
    "feat_df.columns"
   ]
  },
  {
   "cell_type": "code",
   "execution_count": 29,
   "id": "5f25ac8e",
   "metadata": {},
   "outputs": [
    {
     "name": "stdout",
     "output_type": "stream",
     "text": [
      "Testing:\t['morning', 'noon', 'evening', 'duration', 'delta_avg', 'weekday']\n",
      "Score:\t\t0.9235\t+++ baseline:\t0.8692\n"
     ]
    },
    {
     "data": {
      "text/plain": [
       "0.9234871654513871"
      ]
     },
     "execution_count": 29,
     "metadata": {},
     "output_type": "execute_result"
    }
   ],
   "source": [
    "test_feature(['morning', 'noon', 'evening', 'duration', 'delta_avg', 'weekday'])"
   ]
  },
  {
   "cell_type": "code",
   "execution_count": 6,
   "id": "a1a4b013",
   "metadata": {},
   "outputs": [],
   "source": [
    "X_train_new, X_test_new = add_multi_feature(['morning', 'noon', 'evening', \n",
    "                                 'duration', 'delta_avg', 'weekday'], X_full)\n",
    "# X_train_new"
   ]
  },
  {
   "cell_type": "code",
   "execution_count": 23,
   "id": "9171d165",
   "metadata": {},
   "outputs": [
    {
     "name": "stdout",
     "output_type": "stream",
     "text": [
      "Fitting 10 folds for each of 30 candidates, totalling 300 fits\n"
     ]
    },
    {
     "data": {
      "text/plain": [
       "GridSearchCV(cv=TimeSeriesSplit(gap=0, max_train_size=None, n_splits=10, test_size=None),\n",
       "             estimator=LogisticRegression(random_state=17, solver='liblinear'),\n",
       "             n_jobs=-1,\n",
       "             param_grid={'C': array([1.00000000e-02, 1.37382380e-02, 1.88739182e-02, 2.59294380e-02,\n",
       "       3.56224789e-02, 4.89390092e-02, 6.72335754e-02, 9.23670857e-02,\n",
       "       1.26896100e-01, 1.74332882e-01, 2.39502662e-01, 3.29034456e-01,\n",
       "       4.52035366e-01, 6.21016942e-01, 8.53167852e-01, 1.17210230e+00,\n",
       "       1.61026203e+00, 2.21221629e+00, 3.03919538e+00, 4.17531894e+00,\n",
       "       5.73615251e+00, 7.88046282e+00, 1.08263673e+01, 1.48735211e+01,\n",
       "       2.04335972e+01, 2.80721620e+01, 3.85662042e+01, 5.29831691e+01,\n",
       "       7.27895384e+01, 1.00000000e+02])},\n",
       "             verbose=1)"
      ]
     },
     "execution_count": 23,
     "metadata": {},
     "output_type": "execute_result"
    }
   ],
   "source": [
    "# Сделаем инициализацию параметров, по которым хотим сделать полный перебор\n",
    "parameters = {'C': np.logspace(-2, 2, 30)}\n",
    "logit = LogisticRegression(random_state=17, solver='liblinear')\n",
    "time_split = TimeSeriesSplit(n_splits=10)\n",
    "gcv = GridSearchCV(logit, parameters, n_jobs=-1, cv=time_split, verbose=1)\n",
    "gcv.fit(X_train_new, y_train)"
   ]
  },
  {
   "cell_type": "code",
   "execution_count": 35,
   "id": "4e77d9e7",
   "metadata": {},
   "outputs": [
    {
     "data": {
      "text/plain": [
       "{'C': 0.06723357536499334}"
      ]
     },
     "execution_count": 35,
     "metadata": {},
     "output_type": "execute_result"
    }
   ],
   "source": [
    "gcv.best_params_"
   ]
  },
  {
   "cell_type": "code",
   "execution_count": 36,
   "id": "979827f0",
   "metadata": {},
   "outputs": [
    {
     "data": {
      "text/plain": [
       "0.9030448747744886"
      ]
     },
     "execution_count": 36,
     "metadata": {},
     "output_type": "execute_result"
    }
   ],
   "source": [
    "get_auc_logit_score(X_train_new, y_train, C=gcv.best_params_['C'])"
   ]
  },
  {
   "cell_type": "code",
   "execution_count": 37,
   "id": "0a00c6fc",
   "metadata": {},
   "outputs": [],
   "source": [
    "probs = gcv.predict_proba(X_test_new)[:, 1]\n",
    "write_to_submission_file(probs, \n",
    "                         out_file='logit_subm19.csv.zip')"
   ]
  },
  {
   "cell_type": "code",
   "execution_count": 38,
   "id": "3d6f6603",
   "metadata": {},
   "outputs": [
    {
     "data": {
      "text/plain": [
       "0.9226373145344808"
      ]
     },
     "execution_count": 38,
     "metadata": {},
     "output_type": "execute_result"
    }
   ],
   "source": [
    "get_auc_logit_score(X_train_new, y_train, C=4.6)"
   ]
  },
  {
   "cell_type": "code",
   "execution_count": 41,
   "id": "8625edea",
   "metadata": {},
   "outputs": [],
   "source": [
    "logit = LogisticRegression(C=4.6, random_state=17, solver='liblinear')\n",
    "logit.fit(X_train_new, y_train)\n",
    "probs = logit.predict_proba(X_test_new)[:, 1]\n",
    "write_to_submission_file(probs,\n",
    "                         out_file='logit_subm20.csv.zip')"
   ]
  },
  {
   "cell_type": "code",
   "execution_count": 7,
   "id": "f7e02f0c",
   "metadata": {},
   "outputs": [
    {
     "data": {
      "text/plain": [
       "{'fit_time': array([0.56768775, 1.5770483 , 3.25778556, 3.21892309, 3.99935031,\n",
       "        4.81857681, 3.73209739, 7.90569973, 7.32327533, 7.56456041]),\n",
       " 'score_time': array([0.01642871, 0.01795745, 0.02393937, 0.01695561, 0.01695609,\n",
       "        0.01562309, 0.01196909, 0.01521826, 0.01674914, 0.01582575]),\n",
       " 'test_score': array([0.8634096 , 0.78669862, 0.93202803, 0.96223785, 0.91339399,\n",
       "        0.94937796, 0.9562566 , 0.93982634, 0.96078755, 0.96235659]),\n",
       " 'train_score': array([0.99413486, 0.99043705, 0.98594927, 0.98590643, 0.98593509,\n",
       "        0.9858232 , 0.98605785, 0.98614976, 0.98663372, 0.98695624])}"
      ]
     },
     "execution_count": 7,
     "metadata": {},
     "output_type": "execute_result"
    }
   ],
   "source": [
    "%%time\n",
    "get_auc_logit_scores(X_train_new, y_train, C=4.6)"
   ]
  },
  {
   "cell_type": "code",
   "execution_count": 8,
   "id": "2610247f",
   "metadata": {},
   "outputs": [
    {
     "name": "stdout",
     "output_type": "stream",
     "text": [
      "1 / 30\n",
      "2 / 30\n",
      "3 / 30\n",
      "4 / 30\n",
      "5 / 30\n",
      "6 / 30\n",
      "7 / 30\n",
      "8 / 30\n",
      "9 / 30\n",
      "10 / 30\n",
      "11 / 30\n",
      "12 / 30\n",
      "13 / 30\n",
      "14 / 30\n",
      "15 / 30\n",
      "16 / 30\n",
      "17 / 30\n",
      "18 / 30\n",
      "19 / 30\n",
      "20 / 30\n",
      "21 / 30\n",
      "22 / 30\n",
      "23 / 30\n",
      "24 / 30\n",
      "25 / 30\n",
      "26 / 30\n",
      "27 / 30\n",
      "28 / 30\n",
      "29 / 30\n",
      "30 / 30\n"
     ]
    },
    {
     "ename": "NameError",
     "evalue": "name 'sns' is not defined",
     "output_type": "error",
     "traceback": [
      "\u001b[1;31m---------------------------------------------------------------------------\u001b[0m",
      "\u001b[1;31mNameError\u001b[0m                                 Traceback (most recent call last)",
      "\u001b[1;32m<timed exec>\u001b[0m in \u001b[0;36m<module>\u001b[1;34m\u001b[0m\n",
      "\u001b[1;31mNameError\u001b[0m: name 'sns' is not defined"
     ]
    }
   ],
   "source": [
    "%%time\n",
    "param_grid = np.logspace(-2, 2, 30)\n",
    "# param_grid = [2, 5]\n",
    "param_name = 'C'\n",
    "scores = []\n",
    "for i, param in enumerate(param_grid):\n",
    "    print(f\"{i + 1} / {len(param_grid)}\")\n",
    "    scores.append(get_auc_logit_scores(X_train_new, y_train, **{param_name: param}))\n",
    "    \n",
    "df = pd.DataFrame(scores, index=param_grid)\n",
    "df.index.name = param_name\n",
    "df = df.explode(list(df.columns)).reset_index()"
   ]
  },
  {
   "cell_type": "code",
   "execution_count": 10,
   "id": "e5d91ab1",
   "metadata": {},
   "outputs": [
    {
     "data": {
      "image/png": "[encoded data removed]",
      "text/plain": [
       "<Figure size 432x288 with 1 Axes>"
      ]
     },
     "metadata": {},
     "output_type": "display_data"
    }
   ],
   "source": [
    "import seaborn as sns\n",
    "sns.lineplot(y='train_score', x=param_name, data=df, label='train')\n",
    "sns.lineplot(y='test_score', x=param_name, data=df, label='test')\n",
    "plt.ylabel('roc_auc_score')\n",
    "plt.xscale('log')\n",
    "plt.show()"
   ]
  },
  {
   "cell_type": "code",
   "execution_count": 12,
   "id": "4d30c601",
   "metadata": {},
   "outputs": [
    {
     "name": "stdout",
     "output_type": "stream",
     "text": [
      "0.9241882100054593\n"
     ]
    }
   ],
   "source": [
    "logit = LogisticRegression(C=1.6, random_state=17, solver='liblinear')\n",
    "logit.fit(X_train_new, y_train)\n",
    "print(get_auc_logit_score(X_train_new, y_train, C=1.6))\n",
    "probs = logit.predict_proba(X_test_new)[:, 1]\n",
    "write_to_submission_file(probs,\n",
    "                         out_file='logit_subm21.csv.zip')"
   ]
  }
 ],
 "metadata": {
  "kernelspec": {
   "display_name": "Python 3 (ipykernel)",
   "language": "python",
   "name": "python3"
  },
  "language_info": {
   "codemirror_mode": {
    "name": "ipython",
    "version": 3
   },
   "file_extension": ".py",
   "mimetype": "text/x-python",
   "name": "python",
   "nbconvert_exporter": "python",
   "pygments_lexer": "ipython3",
   "version": "3.7.11"
  }
 },
 "nbformat": 4,
 "nbformat_minor": 5
}
