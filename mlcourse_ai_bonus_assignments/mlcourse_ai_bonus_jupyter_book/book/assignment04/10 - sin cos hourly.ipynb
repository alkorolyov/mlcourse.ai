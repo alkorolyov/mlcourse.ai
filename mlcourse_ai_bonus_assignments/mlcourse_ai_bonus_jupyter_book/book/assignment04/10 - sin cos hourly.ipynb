{
 "cells": [
  {
   "cell_type": "code",
   "execution_count": 5,
   "id": "41a5eb0a",
   "metadata": {},
   "outputs": [],
   "source": [
    "\n",
    "import numpy as np\n",
    "import pandas as pd\n",
    "from math import isclose\n",
    "from matplotlib import pyplot as plt\n",
    "from sklearn.tree import DecisionTreeClassifier, plot_tree\n",
    "from sklearn.metrics import roc_auc_score"
   ]
  },
  {
   "cell_type": "code",
   "execution_count": 2,
   "id": "4e2382ab",
   "metadata": {},
   "outputs": [
    {
     "name": "stdout",
     "output_type": "stream",
     "text": [
      "Wall time: 24.7 s\n"
     ]
    }
   ],
   "source": [
    "%%time\n",
    "import tools\n",
    "from tools import test_feature, predict_probs, write_to_submission_file\n",
    "import importlib\n",
    "\n",
    "importlib.reload(tools)\n",
    "tools.initialize()"
   ]
  },
  {
   "cell_type": "code",
   "execution_count": 3,
   "id": "b7100b59",
   "metadata": {},
   "outputs": [
    {
     "data": {
      "text/plain": [
       "Index(['weekday_0', 'weekday_1', 'weekday_2', 'weekday_3', 'weekday_4',\n",
       "       'weekday_5', 'weekday_6', 'hour_0', 'hour_1', 'hour_2', 'hour_3',\n",
       "       'hour_4', 'hour_5', 'hour_6', 'hour_7', 'hour_8', 'hour_9', 'hour_10',\n",
       "       'hour_11', 'hour_12', 'hour_13', 'hour_14', 'hour_15', 'hour_16',\n",
       "       'hour_17', 'hour_18', 'hour_19', 'hour_20', 'hour_21', 'hour_22',\n",
       "       'duration', 'morning', 'noon', 'evening', 'night', 'delta_avg'],\n",
       "      dtype='object')"
      ]
     },
     "execution_count": 3,
     "metadata": {},
     "output_type": "execute_result"
    }
   ],
   "source": [
    "tools.feat_df.columns"
   ]
  },
  {
   "cell_type": "code",
   "execution_count": 6,
   "id": "9d5ea3fd",
   "metadata": {},
   "outputs": [
    {
     "data": {
      "text/plain": [
       "21668     0.944957\n",
       "54842     0.944957\n",
       "77291     0.944957\n",
       "114020    0.944957\n",
       "146669    0.944957\n",
       "            ...   \n",
       "82792     0.731689\n",
       "82793     0.834631\n",
       "82794     0.896791\n",
       "82795     0.914443\n",
       "82796     0.914443\n",
       "Name: hour_cos, Length: 336358, dtype: float64"
      ]
     },
     "execution_count": 6,
     "metadata": {},
     "output_type": "execute_result"
    }
   ],
   "source": [
    "tools.feat_df['hour_cos'] = np.cos(tools.full_df['time1'].dt.hour / 24)\n",
    "tools.feat_df['hour_cos']"
   ]
  },
  {
   "cell_type": "code",
   "execution_count": 7,
   "id": "e0dc5a21",
   "metadata": {},
   "outputs": [
    {
     "data": {
      "text/plain": [
       "21668     0.327195\n",
       "54842     0.327195\n",
       "77291     0.327195\n",
       "114020    0.327195\n",
       "146669    0.327195\n",
       "            ...   \n",
       "82792     0.681639\n",
       "82793     0.550809\n",
       "82794     0.442454\n",
       "82795     0.404715\n",
       "82796     0.404715\n",
       "Name: hour_sin, Length: 336358, dtype: float64"
      ]
     },
     "execution_count": 7,
     "metadata": {},
     "output_type": "execute_result"
    }
   ],
   "source": [
    "tools.feat_df['hour_sin'] = np.sin(tools.full_df['time1'].dt.hour / 24)\n",
    "tools.feat_df['hour_sin']"
   ]
  },
  {
   "cell_type": "code",
   "execution_count": 10,
   "id": "a24390e6",
   "metadata": {},
   "outputs": [],
   "source": [
    "tools.feat_df['hour'] = tools.full_df['time1'].dt.hour"
   ]
  },
  {
   "cell_type": "code",
   "execution_count": 9,
   "id": "367f13f8",
   "metadata": {},
   "outputs": [
    {
     "name": "stdout",
     "output_type": "stream",
     "text": [
      "Testing:\t['morning', 'noon', 'evening']\n",
      "Score:\t\t0.9244\t+++ baseline:\t0.8692\n"
     ]
    },
    {
     "data": {
      "text/plain": [
       "0.9243770486898297"
      ]
     },
     "execution_count": 9,
     "metadata": {},
     "output_type": "execute_result"
    }
   ],
   "source": [
    "test_feature(['morning', 'noon', 'evening'])"
   ]
  },
  {
   "cell_type": "code",
   "execution_count": 12,
   "id": "03ffae61",
   "metadata": {},
   "outputs": [
    {
     "name": "stdout",
     "output_type": "stream",
     "text": [
      "Testing:\t['hour_sin', 'hour_cos']\n",
      "Score:\t\t0.9085\t+++ baseline:\t0.8692\n"
     ]
    },
    {
     "data": {
      "text/plain": [
       "0.9084871115897879"
      ]
     },
     "execution_count": 12,
     "metadata": {},
     "output_type": "execute_result"
    }
   ],
   "source": [
    "test_feature(['hour_sin', 'hour_cos'])"
   ]
  },
  {
   "cell_type": "code",
   "execution_count": 11,
   "id": "fa2758f9",
   "metadata": {},
   "outputs": [
    {
     "name": "stdout",
     "output_type": "stream",
     "text": [
      "Testing:\t['hour_sin', 'hour_cos', 'hour']\n",
      "Score:\t\t0.9085\t+++ baseline:\t0.8692\n"
     ]
    },
    {
     "data": {
      "text/plain": [
       "0.9085156313914204"
      ]
     },
     "execution_count": 11,
     "metadata": {},
     "output_type": "execute_result"
    }
   ],
   "source": [
    "test_feature(['hour_sin', 'hour_cos', 'hour'])"
   ]
  },
  {
   "cell_type": "code",
   "execution_count": null,
   "id": "98a9fc26",
   "metadata": {},
   "outputs": [],
   "source": []
  }
 ],
 "metadata": {
  "kernelspec": {
   "display_name": "Python 3",
   "language": "python",
   "name": "python3"
  },
  "language_info": {
   "codemirror_mode": {
    "name": "ipython",
    "version": 3
   },
   "file_extension": ".py",
   "mimetype": "text/x-python",
   "name": "python",
   "nbconvert_exporter": "python",
   "pygments_lexer": "ipython3",
   "version": "3.7.10"
  }
 },
 "nbformat": 4,
 "nbformat_minor": 5
}
