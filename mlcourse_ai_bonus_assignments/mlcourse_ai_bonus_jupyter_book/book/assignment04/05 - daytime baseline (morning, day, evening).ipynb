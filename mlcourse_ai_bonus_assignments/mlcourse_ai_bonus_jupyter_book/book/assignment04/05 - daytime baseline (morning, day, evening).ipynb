{
 "cells": [
  {
   "cell_type": "code",
   "execution_count": 1,
   "id": "bcdb8402",
   "metadata": {},
   "outputs": [],
   "source": [
    "import numpy as np\n",
    "import pandas as pd\n",
    "from math import isclose\n",
    "from matplotlib import pyplot as plt\n",
    "from scipy.sparse import hstack, vstack\n",
    "from sklearn.feature_extraction.text import CountVectorizer, TfidfVectorizer\n",
    "from sklearn.model_selection import TimeSeriesSplit, cross_val_score, GridSearchCV\n",
    "from sklearn.metrics import roc_auc_score\n",
    "from sklearn.linear_model import LogisticRegression\n",
    "from sklearn.preprocessing import StandardScaler, OneHotEncoder\n",
    "from sklearn.tree import DecisionTreeClassifier, plot_tree\n",
    "from typing import Union, List"
   ]
  },
  {
   "cell_type": "code",
   "execution_count": 2,
   "id": "c62bdc49",
   "metadata": {},
   "outputs": [],
   "source": [
    "def write_to_submission_file(predicted_probs, out_file: str = 'to_submission.csv.zip',\n",
    "                             target='target', index_label='session_id'):\n",
    "    df = pd.DataFrame(predicted_probs,\n",
    "                      index = np.arange(1, len(predicted_probs) + 1),\n",
    "                      columns=[target])\n",
    "    df.to_csv(out_file, index_label=index_label, compression=\"zip\")"
   ]
  },
  {
   "cell_type": "code",
   "execution_count": 3,
   "id": "5c200479",
   "metadata": {},
   "outputs": [],
   "source": [
    "\"\"\"Define all type transformations in a single function\"\"\"\n",
    "def convert_types(df: pd.DataFrame) -> pd.DataFrame:\n",
    "    sites = [s for s in df.columns if \"site\" in s]\n",
    "    df[sites] = df[sites].fillna(0).astype('uint16')\n",
    "    times = [t for t in df.columns if \"time\" in t]\n",
    "    df[times] = df[times].apply(pd.to_datetime)\n",
    "    if 'target' in df.columns:\n",
    "        df['target'] = df.target.astype('uint8')\n",
    "    return df"
   ]
  },
  {
   "cell_type": "code",
   "execution_count": 4,
   "id": "6bab86fb",
   "metadata": {},
   "outputs": [],
   "source": [
    "import os\n",
    "# os.getcwd()\n",
    "# os.listdir(\"../../../../\")\n",
    "\n",
    "train_df = pd.read_csv('../../../../data/catch-me-if-you-can-intruder-detection-through-webpage-session-tracking2/train_sessions.csv.zip')\n",
    "train_df = convert_types(train_df)\n",
    "train_df.sort_values(by='time1', inplace=True)\n",
    "\n",
    "test_df = pd.read_csv('../../../../data/catch-me-if-you-can-intruder-detection-through-webpage-session-tracking2/test_sessions.csv.zip')\n",
    "test_df = convert_types(test_df)"
   ]
  },
  {
   "cell_type": "code",
   "execution_count": 5,
   "id": "eb74a951",
   "metadata": {},
   "outputs": [],
   "source": [
    "sites = [s for s in train_df.columns if 'site' in s]\n",
    "times = [t for t in train_df.columns if 'time' in t]"
   ]
  },
  {
   "cell_type": "code",
   "execution_count": 6,
   "id": "c626c46d",
   "metadata": {},
   "outputs": [],
   "source": [
    "# Our target variable\n",
    "y_train = train_df[\"target\"]\n",
    "\n",
    "# United dataframe of the initial data\n",
    "full_df = pd.concat([train_df.drop(\"target\", axis=1), test_df])\n",
    "\n",
    "# Index to split the training and test data sets\n",
    "idx_split = train_df.shape[0]"
   ]
  },
  {
   "cell_type": "code",
   "execution_count": 7,
   "id": "fadd847a",
   "metadata": {},
   "outputs": [
    {
     "name": "stdout",
     "output_type": "stream",
     "text": [
      "Wall time: 8.52 s\n"
     ]
    }
   ],
   "source": [
    "%%time\n",
    "sites_corpus = full_df[sites].to_string(header=False, index=False).split('\\n')"
   ]
  },
  {
   "cell_type": "code",
   "execution_count": 8,
   "id": "906b14ef",
   "metadata": {},
   "outputs": [
    {
     "name": "stdout",
     "output_type": "stream",
     "text": [
      "Wall time: 16.2 s\n"
     ]
    },
    {
     "data": {
      "text/plain": [
       "<336358x50000 sparse matrix of type '<class 'numpy.float64'>'\n",
       "\twith 4392755 stored elements in Compressed Sparse Row format>"
      ]
     },
     "execution_count": 8,
     "metadata": {},
     "output_type": "execute_result"
    }
   ],
   "source": [
    "%%time\n",
    "tfv = TfidfVectorizer(ngram_range=(1,3), max_features=50000)\n",
    "# tfv = TfidfVectorizer(ngram_range=(1,2), max_features=20000)\n",
    "X_train = tfv.fit_transform(sites_corpus[:idx_split])\n",
    "X_test = tfv.transform(sites_corpus[idx_split:])\n",
    "\n",
    "X_full = vstack([X_train, X_test]).tocsr()\n",
    "X_full"
   ]
  },
  {
   "cell_type": "code",
   "execution_count": 9,
   "id": "f89d8305",
   "metadata": {},
   "outputs": [],
   "source": [
    "logit = LogisticRegression(C=1, random_state=17, solver='liblinear')\n",
    "time_split = TimeSeriesSplit(n_splits=10)\n",
    "\n",
    "def get_auc_logit_score(X, y, C=1.0, seed=17, n_splits=10):\n",
    "    # Split the data into the training and validation sets\n",
    "    time_split = TimeSeriesSplit(n_splits=n_splits)\n",
    "    logit = LogisticRegression(C=C, random_state=17, solver='liblinear')\n",
    "    cv_scores = cross_val_score(logit, X, y, cv=time_split, scoring='roc_auc', n_jobs=-1)\n",
    "    return cv_scores.mean()"
   ]
  },
  {
   "cell_type": "code",
   "execution_count": 10,
   "id": "82b38faf",
   "metadata": {},
   "outputs": [
    {
     "name": "stdout",
     "output_type": "stream",
     "text": [
      "0.8671\n",
      "Wall time: 13.6 s\n"
     ]
    }
   ],
   "source": [
    "%%time\n",
    "BASELINE = get_auc_logit_score(X_train, y_train)\n",
    "print(f\"{BASELINE:.4f}\")"
   ]
  },
  {
   "cell_type": "code",
   "execution_count": 11,
   "id": "2c638a5c",
   "metadata": {},
   "outputs": [],
   "source": [
    "# Features engineering\n",
    "feat_df = pd.DataFrame(index=full_df.index)"
   ]
  },
  {
   "cell_type": "code",
   "execution_count": 12,
   "id": "1dab6c99",
   "metadata": {},
   "outputs": [],
   "source": [
    "# Add the new feature to the sparse matrix\n",
    "def add_feature(feat: str, f_df: pd.DataFrame = feat_df, X_sparse = X_full, standardize=True, onehot=False):\n",
    "    tmp = f_df[[feat]].values\n",
    "    if onehot:\n",
    "        enc = OneHotEncoder(dtype=np.uint8, sparse=False)\n",
    "        tmp = enc.fit_transform(tmp)\n",
    "    if standardize:\n",
    "        tmp = StandardScaler().fit_transform(tmp)        \n",
    "    return hstack([X_sparse, tmp]).tocsr()"
   ]
  },
  {
   "cell_type": "code",
   "execution_count": 13,
   "id": "5faa2eb4",
   "metadata": {},
   "outputs": [],
   "source": [
    "def add_multi_feature(feat_list: list, f_df: pd.DataFrame = feat_df, X_sparse = X_full):\n",
    "    X_new = X_sparse\n",
    "    for feat in feat_list:\n",
    "        X_new = add_feature(feat, X_sparse=X_new)\n",
    "    return X_new[:idx_split, :], X_new[idx_split:, :]     "
   ]
  },
  {
   "cell_type": "code",
   "execution_count": 14,
   "id": "e1347bea",
   "metadata": {},
   "outputs": [],
   "source": [
    "def test_feature(feat: str, standardize=True, onehot=False, baseline=BASELINE, C=1):\n",
    "    print(f\"Testing:\\t{feat}\")\n",
    "        \n",
    "    X_new = add_feature(feat, standardize=standardize, onehot=onehot)\n",
    "    X_train = X_new[:idx_split, :]\n",
    "    score = get_auc_logit_score(X_train, y_train, C=C)\n",
    "    \n",
    "    print(f\"Score:\\t\\t{score:.4f}\\t\", end=\"\")\n",
    "    if score > baseline:\n",
    "        print(\"+++\")\n",
    "        return True\n",
    "    else:\n",
    "        print(\"---\")\n",
    "        return False"
   ]
  },
  {
   "cell_type": "code",
   "execution_count": 15,
   "id": "fd0c3e16",
   "metadata": {},
   "outputs": [],
   "source": [
    "def test_multi_feature(feat_list: list, baseline=BASELINE, C=1):    \n",
    "    print(f\"Testing:\\t{feat_list}\")\n",
    "    \n",
    "    X_new = X_full\n",
    "    for feat in feat_list:\n",
    "        X_new = add_feature(feat, X_sparse=X_new)\n",
    "    X_train = X_new[:idx_split, :]\n",
    "    score = get_auc_logit_score(X_train, y_train, C=C)\n",
    "    \n",
    "    print(f\"Score:\\t\\t{score:.4f}\\t\", end=\"\")\n",
    "    if score > baseline:\n",
    "        print(\"+++\")\n",
    "    else:\n",
    "        print(\"---\")\n",
    "    return\n",
    "    "
   ]
  },
  {
   "cell_type": "code",
   "execution_count": 16,
   "id": "97ea820c",
   "metadata": {},
   "outputs": [],
   "source": [
    "def predict_probs(feat_list: list, C=1):\n",
    "    X_new = X_full\n",
    "    for feat in feat_list:\n",
    "        X_new = add_feature(feat, X_sparse=X_new)\n",
    "    X_train = X_new[:idx_split, :]\n",
    "    X_test = X_new[idx_split:, :]\n",
    "    estimator = LogisticRegression(C=C, random_state=17, solver='liblinear')\n",
    "    estimator.fit(X_train, y_train)\n",
    "    return estimator.predict_proba(X_test)[:, 1]"
   ]
  },
  {
   "cell_type": "code",
   "execution_count": 17,
   "id": "35eafdc1",
   "metadata": {},
   "outputs": [],
   "source": [
    "# previous features\n",
    "for weekday in range(7):\n",
    "    feat_name = f'weekday_{weekday}'\n",
    "    feat_df[feat_name] = (full_df['time1'].dt.weekday == weekday).astype(int)\n",
    "for hour in range(23):\n",
    "    feat_name = f'hour_{hour}'\n",
    "    feat_df[feat_name] = (full_df['time1'].dt.hour == hour).astype(int)\n",
    "\n",
    "deltas = ['delta' + str(i) for i in range(1, 10)]\n",
    "delta_df = (full_df[times] - full_df[times].shift(1, axis=1)) \\\n",
    "                                        .copy() \\\n",
    "                                        .drop(columns='time1') \\\n",
    "                                        .apply(lambda x: x.dt.total_seconds())\n",
    "\n",
    "delta_df.columns = deltas\n",
    "for feat in deltas:\n",
    "    feat_df[feat] = delta_df[feat]\n",
    "    \n",
    "hour = full_df['time1'].dt.hour\n",
    "feat_df['morning'] = hour.between(7, 11).astype(int)\n",
    "feat_df['noon'] = hour.between(12, 18).astype(int)\n",
    "feat_df['evening'] = hour.between(19, 23).astype(int)\n",
    "feat_df['night'] = hour.between(0, 6).astype(int)    \n",
    "\n",
    "best_daytime = ['morning', 'noon', 'evening']\n",
    "best_hours = ['hour_7', 'hour_8', 'hour_9', 'hour_10', 'hour_11', 'hour_14', 'hour_16', 'hour_17', 'hour_18', 'hour_19', 'hour_20', 'hour_21', 'hour_22']\n",
    "best_deltas = ['delta3', 'delta4', 'delta6', 'delta8', 'delta9']\n",
    "best_weekdays = ['weekday_0']\n",
    "best_previous = best_hours + best_weekdays"
   ]
  },
  {
   "cell_type": "code",
   "execution_count": 18,
   "id": "0f9deb52",
   "metadata": {},
   "outputs": [
    {
     "name": "stdout",
     "output_type": "stream",
     "text": [
      "Testing:\t['hour_7', 'hour_8', 'hour_9', 'hour_10', 'hour_11', 'hour_14', 'hour_16', 'hour_17', 'hour_18', 'hour_19', 'hour_20', 'hour_21', 'hour_22', 'weekday_0']\n",
      "Score:\t\t0.9185\t+++\n"
     ]
    }
   ],
   "source": [
    "test_multi_feature(best_previous)"
   ]
  },
  {
   "cell_type": "code",
   "execution_count": 19,
   "id": "45cd6480",
   "metadata": {},
   "outputs": [
    {
     "name": "stdout",
     "output_type": "stream",
     "text": [
      "Testing:\t['morning', 'noon', 'evening']\n",
      "Score:\t\t0.9232\t+++\n"
     ]
    }
   ],
   "source": [
    "test_multi_feature(best_daytime)"
   ]
  },
  {
   "cell_type": "code",
   "execution_count": 20,
   "id": "7bc2927a",
   "metadata": {},
   "outputs": [],
   "source": [
    "write_to_submission_file(predict_probs(best_daytime), out_file='logit_subm05.csv.zip')"
   ]
  }
 ],
 "metadata": {
  "kernelspec": {
   "display_name": "Python 3",
   "language": "python",
   "name": "python3"
  },
  "language_info": {
   "codemirror_mode": {
    "name": "ipython",
    "version": 3
   },
   "file_extension": ".py",
   "mimetype": "text/x-python",
   "name": "python",
   "nbconvert_exporter": "python",
   "pygments_lexer": "ipython3",
   "version": "3.7.10"
  }
 },
 "nbformat": 4,
 "nbformat_minor": 5
}
