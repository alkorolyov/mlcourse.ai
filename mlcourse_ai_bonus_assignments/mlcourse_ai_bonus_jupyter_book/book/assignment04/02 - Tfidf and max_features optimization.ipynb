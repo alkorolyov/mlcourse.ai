{
 "cells": [
  {
   "cell_type": "code",
   "execution_count": 14,
   "id": "bcdb8402",
   "metadata": {},
   "outputs": [],
   "source": [
    "import numpy as np\n",
    "import pandas as pd\n",
    "from math import isclose\n",
    "from matplotlib import pyplot as plt\n",
    "from scipy.sparse import hstack, vstack\n",
    "from sklearn.feature_extraction.text import CountVectorizer, TfidfVectorizer\n",
    "from sklearn.model_selection import TimeSeriesSplit, cross_val_score, GridSearchCV\n",
    "from sklearn.metrics import roc_auc_score\n",
    "from sklearn.linear_model import LogisticRegression\n",
    "from sklearn.preprocessing import StandardScaler, OneHotEncoder\n",
    "from typing import Union, List"
   ]
  },
  {
   "cell_type": "code",
   "execution_count": 2,
   "id": "c62bdc49",
   "metadata": {},
   "outputs": [],
   "source": [
    "def write_to_submission_file(predicted_probs, out_file: str = 'to_submission.csv',\n",
    "                             target='target', index_label='session_id'):\n",
    "    df = pd.DataFrame(predicted_probs,\n",
    "                      index = np.arange(1, len(predicted_probs) + 1),\n",
    "                      columns=[target])\n",
    "    df.to_csv(out_file, index_label=index_label)"
   ]
  },
  {
   "cell_type": "code",
   "execution_count": 3,
   "id": "5c200479",
   "metadata": {},
   "outputs": [],
   "source": [
    "\"\"\"Define all type transformations in a single function\"\"\"\n",
    "def convert_types(df: pd.DataFrame) -> pd.DataFrame:\n",
    "    sites = [s for s in df.columns if \"site\" in s]\n",
    "    df[sites] = df[sites].fillna(0).astype('uint16')\n",
    "    times = [t for t in df.columns if \"time\" in t]\n",
    "    df[times] = df[times].apply(pd.to_datetime)\n",
    "    if 'target' in df.columns:\n",
    "        df['target'] = df.target.astype('uint8')\n",
    "    return df"
   ]
  },
  {
   "cell_type": "code",
   "execution_count": 4,
   "id": "6bab86fb",
   "metadata": {},
   "outputs": [],
   "source": [
    "import os\n",
    "# os.getcwd()\n",
    "# os.listdir(\"../../../../\")\n",
    "\n",
    "train_df = pd.read_csv('../../../../data/catch-me-if-you-can-intruder-detection-through-webpage-session-tracking2/train_sessions.csv.zip')\n",
    "train_df = convert_types(train_df)\n",
    "train_df.sort_values(by='time1', inplace=True)\n",
    "\n",
    "test_df = pd.read_csv('../../../../data/catch-me-if-you-can-intruder-detection-through-webpage-session-tracking2/test_sessions.csv.zip')\n",
    "test_df = convert_types(test_df)"
   ]
  },
  {
   "cell_type": "code",
   "execution_count": 5,
   "id": "eb74a951",
   "metadata": {},
   "outputs": [
    {
     "data": {
      "text/plain": [
       "(['site1',\n",
       "  'site2',\n",
       "  'site3',\n",
       "  'site4',\n",
       "  'site5',\n",
       "  'site6',\n",
       "  'site7',\n",
       "  'site8',\n",
       "  'site9',\n",
       "  'site10'],\n",
       " ['time1',\n",
       "  'time2',\n",
       "  'time3',\n",
       "  'time4',\n",
       "  'time5',\n",
       "  'time6',\n",
       "  'time7',\n",
       "  'time8',\n",
       "  'time9',\n",
       "  'time10'])"
      ]
     },
     "execution_count": 5,
     "metadata": {},
     "output_type": "execute_result"
    }
   ],
   "source": [
    "sites = [s for s in train_df.columns if 'site' in s]\n",
    "times = [t for t in train_df.columns if 'time' in t]\n",
    "\n",
    "sites, times"
   ]
  },
  {
   "cell_type": "code",
   "execution_count": 6,
   "id": "c626c46d",
   "metadata": {},
   "outputs": [],
   "source": [
    "# Our target variable\n",
    "y_train = train_df[\"target\"]\n",
    "\n",
    "# United dataframe of the initial data\n",
    "full_df = pd.concat([train_df.drop(\"target\", axis=1), test_df])\n",
    "\n",
    "# Index to split the training and test data sets\n",
    "idx_split = train_df.shape[0]"
   ]
  },
  {
   "cell_type": "code",
   "execution_count": 7,
   "id": "fadd847a",
   "metadata": {},
   "outputs": [
    {
     "name": "stdout",
     "output_type": "stream",
     "text": [
      "Wall time: 8.18 s\n"
     ]
    },
    {
     "data": {
      "text/plain": [
       "['   56    55     0     0     0     0     0     0     0     0',\n",
       " '   56    55    56    55     0     0     0     0     0     0',\n",
       " '  946   946   951   946   946   945   948   784   949   946',\n",
       " '  945   948   949   948   945   946   947   945   946   946',\n",
       " '  947   950   948   947   950   952   946   951   946   947',\n",
       " '  952   947   953   946   947   946   953   955   946   947',\n",
       " '  953   947   946   953   955   947   953   946   953  1033',\n",
       " '  946   947   954   953   946   954   946   956   957   956',\n",
       " '  946   956   946   946   955   954   946   946   946   948',\n",
       " '  948   946   948   784    49    53   812   982    52    52']"
      ]
     },
     "execution_count": 7,
     "metadata": {},
     "output_type": "execute_result"
    }
   ],
   "source": [
    "%%time\n",
    "sites_corpus = full_df[sites].to_string(header=False, index=False).split('\\n')\n",
    "\n",
    "sites_corpus[:10]"
   ]
  },
  {
   "cell_type": "code",
   "execution_count": 8,
   "id": "906b14ef",
   "metadata": {},
   "outputs": [
    {
     "name": "stdout",
     "output_type": "stream",
     "text": [
      "Wall time: 4.19 s\n"
     ]
    },
    {
     "data": {
      "text/plain": [
       "<336358x41592 sparse matrix of type '<class 'numpy.float64'>'\n",
       "\twith 1818178 stored elements in Compressed Sparse Row format>"
      ]
     },
     "execution_count": 8,
     "metadata": {},
     "output_type": "execute_result"
    }
   ],
   "source": [
    "%%time\n",
    "# tfv = TfidfVectorizer(ngram_range=(1,5), max_features=100000) # TODO optimize ngram_range and max_features\n",
    "tfv = TfidfVectorizer()\n",
    "X_train = tfv.fit_transform(sites_corpus[:idx_split])\n",
    "X_test = tfv.transform(sites_corpus[idx_split:])\n",
    "\n",
    "X_full = vstack([X_train, X_test]).tocsr()\n",
    "X_full"
   ]
  },
  {
   "cell_type": "code",
   "execution_count": 9,
   "id": "f89d8305",
   "metadata": {},
   "outputs": [],
   "source": [
    "def get_auc_logit_score(X, y, C=1.0, seed=17, n_splits=10):\n",
    "    # Split the data into the training and validation sets\n",
    "    time_split = TimeSeriesSplit(n_splits=n_splits)\n",
    "    logit = LogisticRegression(C=1, random_state=17, solver='liblinear')\n",
    "    cv_scores = cross_val_score(logit, X, y, cv=time_split, scoring='roc_auc', n_jobs=-1)\n",
    "    return cv_scores.mean()"
   ]
  },
  {
   "cell_type": "code",
   "execution_count": 10,
   "id": "82b38faf",
   "metadata": {},
   "outputs": [
    {
     "name": "stdout",
     "output_type": "stream",
     "text": [
      "Wall time: 7.7 s\n"
     ]
    },
    {
     "data": {
      "text/plain": [
       "0.863111282374818"
      ]
     },
     "execution_count": 10,
     "metadata": {},
     "output_type": "execute_result"
    }
   ],
   "source": [
    "%%time\n",
    "get_auc_logit_score(X_train, y_train)"
   ]
  },
  {
   "cell_type": "code",
   "execution_count": 19,
   "id": "beee99b8",
   "metadata": {},
   "outputs": [
    {
     "name": "stdout",
     "output_type": "stream",
     "text": [
      "Testing n_gram (1, 1)\n",
      "Wall time: 2.77 s\n",
      "Wall time: 3.29 s\n",
      "0.863111282374818\n",
      "Testing n_gram (1, 2)\n",
      "Wall time: 6.09 s\n",
      "Wall time: 4.49 s\n",
      "0.86572433579339\n",
      "Testing n_gram (1, 3)\n",
      "Wall time: 12.2 s\n",
      "Wall time: 5.54 s\n",
      "0.8670511389880462\n",
      "Testing n_gram (1, 4)\n",
      "Wall time: 15.3 s\n",
      "Wall time: 5.11 s\n",
      "0.8668274209992417\n",
      "Testing n_gram (1, 5)\n",
      "Wall time: 20 s\n",
      "Wall time: 5.59 s\n",
      "0.8679579071948579\n",
      "Testing n_gram (1, 6)\n",
      "Wall time: 25.7 s\n",
      "Wall time: 5.41 s\n",
      "0.8679004156228467\n",
      "Testing n_gram (1, 7)\n",
      "Wall time: 27.7 s\n",
      "Wall time: 5.46 s\n",
      "0.8677899000540152\n",
      "Testing n_gram (1, 8)\n",
      "Wall time: 30.6 s\n",
      "Wall time: 5.55 s\n",
      "0.8677830181588959\n",
      "Testing n_gram (1, 9)\n",
      "Wall time: 30.8 s\n",
      "Wall time: 5.59 s\n",
      "0.8681763348362163\n",
      "Testing n_gram (1, 10)\n",
      "Wall time: 32.6 s\n",
      "Wall time: 5.27 s\n",
      "0.868079339817684\n"
     ]
    }
   ],
   "source": [
    "# n_gram range for fixed_maxfeatures\n",
    "\n",
    "max_n_grams = 10\n",
    "max_feat=50000\n",
    "n_gram_range = [(1, x) for x in range(1, max_n_grams + 1)]\n",
    "scores = []\n",
    "for n_gram in n_gram_range:\n",
    "    tfv = TfidfVectorizer(ngram_range=n_gram, max_features=max_feat)\n",
    "    print(f\"Testing n_gram {n_gram}\")\n",
    "    %time X_train = tfv.fit_transform(sites_corpus[:idx_split])    \n",
    "    %time score = get_auc_logit_score(X_train, y_train)\n",
    "    scores.append(score)\n",
    "    print(score)"
   ]
  },
  {
   "cell_type": "code",
   "execution_count": 24,
   "id": "e2045f7e",
   "metadata": {},
   "outputs": [
    {
     "data": {
      "image/png": "[encoded data removed]",
      "text/plain": [
       "<Figure size 432x288 with 1 Axes>"
      ]
     },
     "metadata": {
      "needs_background": "light"
     },
     "output_type": "display_data"
    }
   ],
   "source": [
    "plt.plot(range(1, max_n_grams + 1), scores)\n",
    "plt.yscale('log')"
   ]
  },
  {
   "cell_type": "code",
   "execution_count": 12,
   "id": "ab2856d4",
   "metadata": {},
   "outputs": [
    {
     "name": "stdout",
     "output_type": "stream",
     "text": [
      "Testing max_feat 10000\n",
      "Wall time: 20.4 s\n",
      "Wall time: 4.3 s\n",
      "0.8618739442053389\n",
      "Testing max_feat 120000\n",
      "Wall time: 19.5 s\n",
      "Wall time: 8.64 s\n",
      "0.8645819886666486\n",
      "Testing max_feat 230000\n",
      "Wall time: 22.3 s\n",
      "Wall time: 14 s\n",
      "0.8619296346931057\n",
      "Testing max_feat 340000\n",
      "Wall time: 19.8 s\n",
      "Wall time: 14.8 s\n",
      "0.8604235731148794\n",
      "Testing max_feat 450000\n",
      "Wall time: 20.1 s\n",
      "Wall time: 18.6 s\n",
      "0.8592910974169318\n",
      "Testing max_feat 560000\n",
      "Wall time: 20.8 s\n",
      "Wall time: 19.2 s\n",
      "0.8591141139835254\n",
      "Testing max_feat 670000\n",
      "Wall time: 20.5 s\n",
      "Wall time: 21.6 s\n",
      "0.8583660664728432\n",
      "Testing max_feat 780000\n",
      "Wall time: 20.6 s\n",
      "Wall time: 23.4 s\n",
      "0.8580768339572306\n",
      "Testing max_feat 890000\n",
      "Wall time: 22.3 s\n",
      "Wall time: 23.7 s\n",
      "0.8577592173551578\n",
      "Testing max_feat 1000000\n",
      "Wall time: 20.6 s\n",
      "Wall time: 26.6 s\n",
      "0.8564393383992362\n"
     ]
    }
   ],
   "source": [
    "# max_feat reange for fixed n_grams\n",
    "n_gram = (1, 5)\n",
    "\n",
    "max_feat_range = np.linspace(1e4, 1e6, 10).astype(int)\n",
    "\n",
    "scores = []\n",
    "\n",
    "for max_feat in max_feat_range:\n",
    "    tfv = TfidfVectorizer(ngram_range=n_gram, max_features=max_feat)\n",
    "    print(f\"Testing max_feat {max_feat}\")\n",
    "    %time X_train = tfv.fit_transform(sites_corpus[:idx_split])    \n",
    "    %time score = get_auc_logit_score(X_train, y_train)\n",
    "    scores.append(score)\n",
    "    print(score)"
   ]
  },
  {
   "cell_type": "code",
   "execution_count": 16,
   "id": "638ac028",
   "metadata": {},
   "outputs": [
    {
     "data": {
      "image/png": "[encoded data removed]",
      "text/plain": [
       "<Figure size 432x288 with 1 Axes>"
      ]
     },
     "metadata": {
      "needs_background": "light"
     },
     "output_type": "display_data"
    }
   ],
   "source": [
    "plt.plot(max_feat_range, scores)\n",
    "plt.yscale('log')"
   ]
  },
  {
   "cell_type": "code",
   "execution_count": 17,
   "id": "66ca7f41",
   "metadata": {},
   "outputs": [
    {
     "name": "stdout",
     "output_type": "stream",
     "text": [
      "Testing max_feat 1000\n",
      "Wall time: 20.8 s\n",
      "Wall time: 3.09 s\n",
      "0.8482857951575934\n",
      "Testing max_feat 23111\n",
      "Wall time: 22.6 s\n",
      "Wall time: 4.73 s\n",
      "0.8661891151621687\n",
      "Testing max_feat 45222\n",
      "Wall time: 20.7 s\n",
      "Wall time: 5.32 s\n",
      "0.8681146867772161\n",
      "Testing max_feat 67333\n",
      "Wall time: 22 s\n",
      "Wall time: 6.05 s\n",
      "0.8669399245700161\n",
      "Testing max_feat 89444\n",
      "Wall time: 20.9 s\n",
      "Wall time: 7.91 s\n",
      "0.8645343380047464\n",
      "Testing max_feat 111555\n",
      "Wall time: 21.8 s\n",
      "Wall time: 7.51 s\n",
      "0.8647338658574443\n",
      "Testing max_feat 133666\n",
      "Wall time: 20.6 s\n",
      "Wall time: 9.22 s\n",
      "0.8640291210824627\n",
      "Testing max_feat 155777\n",
      "Wall time: 21.2 s\n",
      "Wall time: 10.5 s\n",
      "0.8634364730363009\n",
      "Testing max_feat 177888\n",
      "Wall time: 19.7 s\n",
      "Wall time: 10.7 s\n",
      "0.8633324020414264\n",
      "Testing max_feat 200000\n",
      "Wall time: 20.6 s\n",
      "Wall time: 11.2 s\n",
      "0.8625892234139284\n"
     ]
    },
    {
     "data": {
      "image/png": "[encoded data removed]",
      "text/plain": [
       "<Figure size 432x288 with 1 Axes>"
      ]
     },
     "metadata": {
      "needs_background": "light"
     },
     "output_type": "display_data"
    }
   ],
   "source": [
    "# fine tuning max_features and n_gram\n",
    "# max_feat reange for fixed n_grams\n",
    "n_gram = (1, 5)\n",
    "\n",
    "max_feat_range = np.linspace(1e3, 2*1e5, 10).astype(int)\n",
    "\n",
    "scores = []\n",
    "\n",
    "for max_feat in max_feat_range:\n",
    "    tfv = TfidfVectorizer(ngram_range=n_gram, max_features=max_feat)\n",
    "    print(f\"Testing max_feat {max_feat}\")\n",
    "    %time X_train = tfv.fit_transform(sites_corpus[:idx_split])\n",
    "    %time score = get_auc_logit_score(X_train, y_train)\n",
    "    scores.append(score)\n",
    "    print(score)\n",
    "    \n",
    "plt.plot(max_feat_range, scores)\n",
    "plt.yscale('log')"
   ]
  },
  {
   "cell_type": "code",
   "execution_count": 94,
   "id": "cbd6cd90",
   "metadata": {
    "scrolled": true
   },
   "outputs": [
    {
     "name": "stdout",
     "output_type": "stream",
     "text": [
      "1 / 90\n",
      "Wall time: 3.19 s\n",
      "Wall time: 6.82 s\n",
      "2 / 90\n",
      "Wall time: 2.94 s\n",
      "Wall time: 3.49 s\n",
      "3 / 90\n",
      "Wall time: 3.39 s\n",
      "Wall time: 3.4 s\n",
      "4 / 90\n",
      "Wall time: 3.22 s\n",
      "Wall time: 3.54 s\n",
      "5 / 90\n",
      "Wall time: 3.14 s\n",
      "Wall time: 3.46 s\n",
      "6 / 90\n",
      "Wall time: 3.16 s\n",
      "Wall time: 3.77 s\n",
      "7 / 90\n",
      "Wall time: 3.16 s\n",
      "Wall time: 3.79 s\n",
      "8 / 90\n",
      "Wall time: 3.21 s\n",
      "Wall time: 4.34 s\n",
      "9 / 90\n",
      "Wall time: 3.68 s\n",
      "Wall time: 4.55 s\n",
      "10 / 90\n",
      "Wall time: 5.23 s\n",
      "Wall time: 3.59 s\n",
      "10 / 90\n",
      "Wall time: 7.23 s\n",
      "Wall time: 4.36 s\n",
      "11 / 90\n",
      "Wall time: 7.1 s\n",
      "Wall time: 4.61 s\n",
      "12 / 90\n",
      "Wall time: 7.09 s\n",
      "Wall time: 4.27 s\n",
      "13 / 90\n",
      "Wall time: 9.4 s\n",
      "Wall time: 5.77 s\n",
      "14 / 90\n",
      "Wall time: 10.3 s\n",
      "Wall time: 4.95 s\n",
      "15 / 90\n",
      "Wall time: 7.26 s\n",
      "Wall time: 4.84 s\n",
      "16 / 90\n",
      "Wall time: 6.38 s\n",
      "Wall time: 4.43 s\n",
      "17 / 90\n",
      "Wall time: 8.73 s\n",
      "Wall time: 6.96 s\n",
      "18 / 90\n",
      "Wall time: 6.96 s\n",
      "Wall time: 5.29 s\n",
      "19 / 90\n",
      "Wall time: 7.38 s\n",
      "Wall time: 5.36 s\n",
      "19 / 90\n",
      "Wall time: 11.6 s\n",
      "Wall time: 4.31 s\n",
      "20 / 90\n",
      "Wall time: 13.1 s\n",
      "Wall time: 4.06 s\n",
      "21 / 90\n",
      "Wall time: 10.5 s\n",
      "Wall time: 5.34 s\n",
      "22 / 90\n",
      "Wall time: 11.5 s\n",
      "Wall time: 4.91 s\n",
      "23 / 90\n",
      "Wall time: 11.4 s\n",
      "Wall time: 4.55 s\n",
      "24 / 90\n",
      "Wall time: 12.3 s\n",
      "Wall time: 5.63 s\n",
      "25 / 90\n",
      "Wall time: 11.2 s\n",
      "Wall time: 4.98 s\n",
      "26 / 90\n",
      "Wall time: 12 s\n",
      "Wall time: 5.11 s\n",
      "27 / 90\n",
      "Wall time: 11.9 s\n",
      "Wall time: 6.24 s\n",
      "28 / 90\n",
      "Wall time: 11.4 s\n",
      "Wall time: 5.21 s\n",
      "28 / 90\n",
      "Wall time: 15.4 s\n",
      "Wall time: 4.61 s\n",
      "29 / 90\n",
      "Wall time: 15.7 s\n",
      "Wall time: 4.52 s\n",
      "30 / 90\n",
      "Wall time: 15.5 s\n",
      "Wall time: 5 s\n",
      "31 / 90\n",
      "Wall time: 22.9 s\n",
      "Wall time: 4.94 s\n",
      "32 / 90\n",
      "Wall time: 17 s\n",
      "Wall time: 4.63 s\n",
      "33 / 90\n",
      "Wall time: 14.7 s\n",
      "Wall time: 4.85 s\n",
      "34 / 90\n",
      "Wall time: 15.2 s\n",
      "Wall time: 6.61 s\n",
      "35 / 90\n",
      "Wall time: 16.7 s\n",
      "Wall time: 5.9 s\n",
      "36 / 90\n",
      "Wall time: 16.6 s\n",
      "Wall time: 5.59 s\n",
      "37 / 90\n",
      "Wall time: 15.4 s\n",
      "Wall time: 5.21 s\n",
      "37 / 90\n",
      "Wall time: 19.2 s\n",
      "Wall time: 4.42 s\n",
      "38 / 90\n",
      "Wall time: 19.5 s\n",
      "Wall time: 4.29 s\n",
      "39 / 90\n",
      "Wall time: 19.2 s\n",
      "Wall time: 4.17 s\n",
      "40 / 90\n",
      "Wall time: 19.3 s\n",
      "Wall time: 4.57 s\n",
      "41 / 90\n",
      "Wall time: 19.4 s\n",
      "Wall time: 5.47 s\n",
      "42 / 90\n",
      "Wall time: 20.2 s\n",
      "Wall time: 4.74 s\n",
      "43 / 90\n",
      "Wall time: 19.5 s\n",
      "Wall time: 5.11 s\n",
      "44 / 90\n",
      "Wall time: 19.6 s\n",
      "Wall time: 5.08 s\n",
      "45 / 90\n",
      "Wall time: 19.4 s\n",
      "Wall time: 5.19 s\n",
      "46 / 90\n",
      "Wall time: 19.2 s\n",
      "Wall time: 6.22 s\n",
      "46 / 90\n",
      "Wall time: 23.9 s\n",
      "Wall time: 4.45 s\n",
      "47 / 90\n",
      "Wall time: 23.7 s\n",
      "Wall time: 4.95 s\n",
      "48 / 90\n",
      "Wall time: 24.2 s\n",
      "Wall time: 4.71 s\n",
      "49 / 90\n",
      "Wall time: 23.7 s\n",
      "Wall time: 4.57 s\n",
      "50 / 90\n",
      "Wall time: 23.1 s\n",
      "Wall time: 4.58 s\n",
      "51 / 90\n",
      "Wall time: 23.5 s\n",
      "Wall time: 4.75 s\n",
      "52 / 90\n",
      "Wall time: 23.9 s\n",
      "Wall time: 5.1 s\n",
      "53 / 90\n",
      "Wall time: 23 s\n",
      "Wall time: 5.11 s\n",
      "54 / 90\n",
      "Wall time: 25.3 s\n",
      "Wall time: 5.21 s\n",
      "55 / 90\n",
      "Wall time: 23.1 s\n",
      "Wall time: 5.36 s\n",
      "55 / 90\n",
      "Wall time: 26.3 s\n",
      "Wall time: 4.13 s\n",
      "56 / 90\n",
      "Wall time: 26.4 s\n",
      "Wall time: 4.24 s\n",
      "57 / 90\n",
      "Wall time: 26.6 s\n",
      "Wall time: 4.26 s\n",
      "58 / 90\n",
      "Wall time: 26.4 s\n",
      "Wall time: 4.69 s\n",
      "59 / 90\n",
      "Wall time: 26.5 s\n",
      "Wall time: 4.84 s\n",
      "60 / 90\n",
      "Wall time: 26.4 s\n",
      "Wall time: 5.08 s\n",
      "61 / 90\n",
      "Wall time: 26 s\n",
      "Wall time: 5.12 s\n",
      "62 / 90\n",
      "Wall time: 26 s\n",
      "Wall time: 5.09 s\n",
      "63 / 90\n",
      "Wall time: 26.2 s\n",
      "Wall time: 5.07 s\n",
      "64 / 90\n",
      "Wall time: 26.6 s\n",
      "Wall time: 5.83 s\n",
      "64 / 90\n",
      "Wall time: 28.8 s\n",
      "Wall time: 3.98 s\n",
      "65 / 90\n",
      "Wall time: 29.7 s\n",
      "Wall time: 4.33 s\n",
      "66 / 90\n",
      "Wall time: 28.7 s\n",
      "Wall time: 4.34 s\n",
      "67 / 90\n",
      "Wall time: 28.4 s\n",
      "Wall time: 4.43 s\n",
      "68 / 90\n",
      "Wall time: 28.6 s\n",
      "Wall time: 4.86 s\n",
      "69 / 90\n",
      "Wall time: 28.7 s\n",
      "Wall time: 4.95 s\n",
      "70 / 90\n",
      "Wall time: 28.3 s\n",
      "Wall time: 4.81 s\n",
      "71 / 90\n",
      "Wall time: 28.3 s\n",
      "Wall time: 5 s\n",
      "72 / 90\n",
      "Wall time: 29.1 s\n",
      "Wall time: 5.93 s\n",
      "73 / 90\n",
      "Wall time: 28.7 s\n",
      "Wall time: 5.35 s\n",
      "73 / 90\n",
      "Wall time: 30.1 s\n",
      "Wall time: 5.07 s\n",
      "74 / 90\n",
      "Wall time: 30.9 s\n",
      "Wall time: 4.69 s\n",
      "75 / 90\n",
      "Wall time: 33.2 s\n",
      "Wall time: 4.56 s\n",
      "76 / 90\n",
      "Wall time: 33.2 s\n",
      "Wall time: 5.2 s\n",
      "77 / 90\n",
      "Wall time: 33 s\n",
      "Wall time: 5.16 s\n",
      "78 / 90\n",
      "Wall time: 33.2 s\n",
      "Wall time: 4.73 s\n",
      "79 / 90\n",
      "Wall time: 32.4 s\n",
      "Wall time: 5.54 s\n",
      "80 / 90\n",
      "Wall time: 37 s\n",
      "Wall time: 6.24 s\n",
      "81 / 90\n",
      "Wall time: 31.8 s\n",
      "Wall time: 5.78 s\n",
      "82 / 90\n",
      "Wall time: 30.2 s\n",
      "Wall time: 7.09 s\n"
     ]
    }
   ],
   "source": [
    "# It seems optimal max_featurs range is close to the total number of words (~45k)\n",
    "# grid search for optimal max_feat and n_gram\n",
    "\n",
    "# n_gram_range = [(1, x) for x in range(2, 10)]\n",
    "# max_feat_range = np.linspace(2e4, 6e4, 10).astype(int)\n",
    "\n",
    "\n",
    "n_gram_range = [(1, x) for x in range(1, 10)]\n",
    "max_feat_range = np.linspace(2e4, 6e4, 10).astype(int)\n",
    "\n",
    "\n",
    "scores_2d = np.empty((len(n_gram_range), len(max_feat_range)))\n",
    "\n",
    "for i, n_gram in enumerate(n_gram_range):\n",
    "    for j, max_feat in enumerate(max_feat_range):\n",
    "            print(f\"{i* scores_2d.shape[0] + (j + 1)} / {scores_2d.size}\")\n",
    "#             print(f\"i:{i} j: {j}\")\n",
    "#             scores_2d[i, j] = 0\n",
    "            tfv = TfidfVectorizer(ngram_range=n_gram, max_features=max_feat)\n",
    "            %time X_train = tfv.fit_transform(sites_corpus[:idx_split])\n",
    "            %time scores_2d[i, j] = get_auc_logit_score(X_train, y_train)                    "
   ]
  },
  {
   "cell_type": "code",
   "execution_count": 95,
   "id": "d15cfdf3",
   "metadata": {},
   "outputs": [
    {
     "data": {
      "image/png": "[encoded data removed]",
      "text/plain": [
       "<Figure size 432x288 with 2 Axes>"
      ]
     },
     "metadata": {
      "needs_background": "light"
     },
     "output_type": "display_data"
    },
    {
     "data": {
      "text/plain": [
       "(array([20000, 24444, 28888, 33333, 37777, 42222, 46666, 51111, 55555,\n",
       "        60000]),\n",
       " array([1, 2, 3, 4, 5, 6, 7, 8, 9]),\n",
       " (9, 10))"
      ]
     },
     "execution_count": 95,
     "metadata": {},
     "output_type": "execute_result"
    }
   ],
   "source": [
    "y = np.array([x[1] for x in n_gram_range])\n",
    "x = max_feat_range\n",
    "z = scores_2d\n",
    "\n",
    "contourplot = plt.contourf(x, y, z, cmap=plt.cm.bone, origin='lower')\n",
    "cbar = plt.colorbar(contourplot)\n",
    "plt.show()"
   ]
  }
 ],
 "metadata": {
  "kernelspec": {
   "display_name": "Python 3",
   "language": "python",
   "name": "python3"
  },
  "language_info": {
   "codemirror_mode": {
    "name": "ipython",
    "version": 3
   },
   "file_extension": ".py",
   "mimetype": "text/x-python",
   "name": "python",
   "nbconvert_exporter": "python",
   "pygments_lexer": "ipython3",
   "version": "3.7.10"
  }
 },
 "nbformat": 4,
 "nbformat_minor": 5
}
