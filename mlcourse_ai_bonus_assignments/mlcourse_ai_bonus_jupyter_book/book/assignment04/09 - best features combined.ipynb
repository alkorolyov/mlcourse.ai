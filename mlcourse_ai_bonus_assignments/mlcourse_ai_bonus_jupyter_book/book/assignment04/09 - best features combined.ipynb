{
 "cells": [
  {
   "cell_type": "code",
   "execution_count": 18,
   "id": "41a5eb0a",
   "metadata": {},
   "outputs": [],
   "source": [
    "\n",
    "from math import isclose\n",
    "from matplotlib import pyplot as plt\n",
    "from sklearn.tree import DecisionTreeClassifier, plot_tree\n",
    "from sklearn.metrics import roc_auc_score"
   ]
  },
  {
   "cell_type": "code",
   "execution_count": 19,
   "id": "4e2382ab",
   "metadata": {},
   "outputs": [
    {
     "name": "stdout",
     "output_type": "stream",
     "text": [
      "Wall time: 25 s\n"
     ]
    }
   ],
   "source": [
    "%%time\n",
    "import tools\n",
    "from tools import test_feature, predict_probs, write_to_submission_file\n",
    "import importlib\n",
    "\n",
    "importlib.reload(tools)\n",
    "tools.initialize()"
   ]
  },
  {
   "cell_type": "code",
   "execution_count": 4,
   "id": "b7100b59",
   "metadata": {},
   "outputs": [
    {
     "data": {
      "text/plain": [
       "Index(['weekday_0', 'weekday_1', 'weekday_2', 'weekday_3', 'weekday_4',\n",
       "       'weekday_5', 'weekday_6', 'hour_0', 'hour_1', 'hour_2', 'hour_3',\n",
       "       'hour_4', 'hour_5', 'hour_6', 'hour_7', 'hour_8', 'hour_9', 'hour_10',\n",
       "       'hour_11', 'hour_12', 'hour_13', 'hour_14', 'hour_15', 'hour_16',\n",
       "       'hour_17', 'hour_18', 'hour_19', 'hour_20', 'hour_21', 'hour_22',\n",
       "       'duration', 'morning', 'noon', 'evening', 'night', 'delta_avg'],\n",
       "      dtype='object')"
      ]
     },
     "execution_count": 4,
     "metadata": {},
     "output_type": "execute_result"
    }
   ],
   "source": [
    "tools.feat_df.columns"
   ]
  },
  {
   "cell_type": "code",
   "execution_count": 7,
   "id": "8498f3cb",
   "metadata": {},
   "outputs": [
    {
     "name": "stdout",
     "output_type": "stream",
     "text": [
      "Testing:\t['morning', 'noon', 'evening', 'duration', 'delta_avg', 'weekday_0']\n",
      "Score:\t\t0.9281\t+++ baseline:\t0.8692\n"
     ]
    },
    {
     "data": {
      "text/plain": [
       "0.928114223179463"
      ]
     },
     "execution_count": 7,
     "metadata": {},
     "output_type": "execute_result"
    }
   ],
   "source": [
    "test_feature(['morning', 'noon', 'evening', 'duration', 'delta_avg', 'weekday_0'])"
   ]
  },
  {
   "cell_type": "code",
   "execution_count": 8,
   "id": "cb4e7755",
   "metadata": {},
   "outputs": [
    {
     "name": "stdout",
     "output_type": "stream",
     "text": [
      "Testing:\t['morning', 'noon', 'evening', 'duration', 'delta_avg']\n",
      "Score:\t\t0.9240\t+++ baseline:\t0.8692\n"
     ]
    },
    {
     "data": {
      "text/plain": [
       "0.9239706182780134"
      ]
     },
     "execution_count": 8,
     "metadata": {},
     "output_type": "execute_result"
    }
   ],
   "source": [
    "test_feature(['morning', 'noon', 'evening', 'duration', 'delta_avg'])"
   ]
  },
  {
   "cell_type": "code",
   "execution_count": 9,
   "id": "8f8bdd88",
   "metadata": {},
   "outputs": [
    {
     "name": "stdout",
     "output_type": "stream",
     "text": [
      "Testing:\t['morning', 'noon', 'evening', 'delta_avg', 'weekday_0']\n",
      "Score:\t\t0.9286\t+++ baseline:\t0.8692\n"
     ]
    },
    {
     "data": {
      "text/plain": [
       "0.9286418333497245"
      ]
     },
     "execution_count": 9,
     "metadata": {},
     "output_type": "execute_result"
    }
   ],
   "source": [
    "test_feature(['morning', 'noon', 'evening', 'delta_avg', 'weekday_0'])"
   ]
  },
  {
   "cell_type": "code",
   "execution_count": 10,
   "id": "385c6f6b",
   "metadata": {},
   "outputs": [
    {
     "name": "stdout",
     "output_type": "stream",
     "text": [
      "Testing:\t['morning', 'noon', 'evening', 'duration', 'weekday_0']\n",
      "Score:\t\t0.9287\t+++ baseline:\t0.8692\n"
     ]
    },
    {
     "data": {
      "text/plain": [
       "0.928724090214956"
      ]
     },
     "execution_count": 10,
     "metadata": {},
     "output_type": "execute_result"
    }
   ],
   "source": [
    "test_feature(['morning', 'noon', 'evening', 'duration', 'weekday_0'])"
   ]
  },
  {
   "cell_type": "code",
   "execution_count": 21,
   "id": "ed8307fd",
   "metadata": {},
   "outputs": [
    {
     "name": "stdout",
     "output_type": "stream",
     "text": [
      "Local score: 0.9286\n",
      "Wall time: 14 s\n"
     ]
    }
   ],
   "source": [
    "%%time\n",
    "write_to_submission_file(predict_probs(['morning', 'noon', 'evening', 'delta_avg', 'weekday_0']), \n",
    "                         out_file='logit_subm15.csv.zip')"
   ]
  },
  {
   "cell_type": "code",
   "execution_count": 24,
   "id": "93f7ee53",
   "metadata": {},
   "outputs": [
    {
     "name": "stdout",
     "output_type": "stream",
     "text": [
      "Local score: 0.9287\n",
      "Wall time: 12.9 s\n"
     ]
    }
   ],
   "source": [
    "%%time\n",
    "write_to_submission_file(predict_probs(['morning', 'noon', 'evening', 'duration', 'weekday_0']), \n",
    "                         out_file='logit_subm16.csv.zip')"
   ]
  },
  {
   "cell_type": "code",
   "execution_count": 25,
   "id": "5a7b2682",
   "metadata": {},
   "outputs": [
    {
     "name": "stdout",
     "output_type": "stream",
     "text": [
      "Local score: 0.9281\n",
      "Wall time: 15.4 s\n"
     ]
    }
   ],
   "source": [
    "%%time\n",
    "write_to_submission_file(predict_probs(['morning', 'noon', 'evening', 'duration', 'delta_avg', 'weekday_0']), \n",
    "                         out_file='logit_subm17.csv.zip')"
   ]
  },
  {
   "cell_type": "code",
   "execution_count": 27,
   "id": "96a98ecb",
   "metadata": {},
   "outputs": [],
   "source": [
    "tools.feat_df['weekday'] = tools.full_df['time1'].dt.weekday"
   ]
  },
  {
   "cell_type": "code",
   "execution_count": 29,
   "id": "5f25ac8e",
   "metadata": {},
   "outputs": [
    {
     "name": "stdout",
     "output_type": "stream",
     "text": [
      "Testing:\t['morning', 'noon', 'evening', 'duration', 'delta_avg', 'weekday']\n",
      "Score:\t\t0.9235\t+++ baseline:\t0.8692\n"
     ]
    },
    {
     "data": {
      "text/plain": [
       "0.9234871654513871"
      ]
     },
     "execution_count": 29,
     "metadata": {},
     "output_type": "execute_result"
    }
   ],
   "source": [
    "test_feature(['morning', 'noon', 'evening', 'duration', 'delta_avg', 'weekday'])"
   ]
  },
  {
   "cell_type": "code",
   "execution_count": 30,
   "id": "0a00c6fc",
   "metadata": {},
   "outputs": [
    {
     "name": "stdout",
     "output_type": "stream",
     "text": [
      "Local score: 0.9235\n",
      "Wall time: 15.9 s\n"
     ]
    }
   ],
   "source": [
    "%%time\n",
    "write_to_submission_file(predict_probs(['morning', 'noon', 'evening', 'duration', 'delta_avg', 'weekday']), \n",
    "                         out_file='logit_subm18.csv.zip')"
   ]
  }
 ],
 "metadata": {
  "kernelspec": {
   "display_name": "Python 3",
   "language": "python",
   "name": "python3"
  },
  "language_info": {
   "codemirror_mode": {
    "name": "ipython",
    "version": 3
   },
   "file_extension": ".py",
   "mimetype": "text/x-python",
   "name": "python",
   "nbconvert_exporter": "python",
   "pygments_lexer": "ipython3",
   "version": "3.7.10"
  }
 },
 "nbformat": 4,
 "nbformat_minor": 5
}
