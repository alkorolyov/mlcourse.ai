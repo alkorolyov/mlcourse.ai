{
 "cells": [
  {
   "cell_type": "code",
   "execution_count": 1,
   "id": "bcdb8402",
   "metadata": {},
   "outputs": [],
   "source": [
    "import numpy as np\n",
    "import pandas as pd\n",
    "from math import isclose\n",
    "from matplotlib import pyplot as plt\n",
    "from scipy.sparse import hstack, vstack\n",
    "from sklearn.feature_extraction.text import CountVectorizer, TfidfVectorizer\n",
    "from sklearn.model_selection import TimeSeriesSplit, cross_val_score, GridSearchCV\n",
    "from sklearn.metrics import roc_auc_score\n",
    "from sklearn.linear_model import LogisticRegression\n",
    "from sklearn.preprocessing import StandardScaler, OneHotEncoder\n",
    "from sklearn.tree import DecisionTreeClassifier, plot_tree\n",
    "from typing import Union, List"
   ]
  },
  {
   "cell_type": "code",
   "execution_count": 2,
   "id": "c62bdc49",
   "metadata": {},
   "outputs": [],
   "source": [
    "def write_to_submission_file(predicted_probs, out_file: str = 'to_submission.csv.zip',\n",
    "                             target='target', index_label='session_id'):\n",
    "    df = pd.DataFrame(predicted_probs,\n",
    "                      index = np.arange(1, len(predicted_probs) + 1),\n",
    "                      columns=[target])\n",
    "    df.to_csv(out_file, index_label=index_label, compression=\"zip\")"
   ]
  },
  {
   "cell_type": "code",
   "execution_count": 3,
   "id": "5c200479",
   "metadata": {},
   "outputs": [],
   "source": [
    "\"\"\"Define all type transformations in a single function\"\"\"\n",
    "def convert_types(df: pd.DataFrame) -> pd.DataFrame:\n",
    "    sites = [s for s in df.columns if \"site\" in s]\n",
    "    df[sites] = df[sites].fillna(0).astype('uint16')\n",
    "    times = [t for t in df.columns if \"time\" in t]\n",
    "    df[times] = df[times].apply(pd.to_datetime)\n",
    "    if 'target' in df.columns:\n",
    "        df['target'] = df.target.astype('uint8')\n",
    "    return df"
   ]
  },
  {
   "cell_type": "code",
   "execution_count": 4,
   "id": "6bab86fb",
   "metadata": {},
   "outputs": [],
   "source": [
    "import os\n",
    "# os.getcwd()\n",
    "# os.listdir(\"../../../../\")\n",
    "\n",
    "train_df = pd.read_csv('../../../../data/catch-me-if-you-can-intruder-detection-through-webpage-session-tracking2/train_sessions.csv.zip')\n",
    "train_df = convert_types(train_df)\n",
    "train_df.sort_values(by='time1', inplace=True)\n",
    "\n",
    "test_df = pd.read_csv('../../../../data/catch-me-if-you-can-intruder-detection-through-webpage-session-tracking2/test_sessions.csv.zip')\n",
    "test_df = convert_types(test_df)"
   ]
  },
  {
   "cell_type": "code",
   "execution_count": 5,
   "id": "eb74a951",
   "metadata": {},
   "outputs": [],
   "source": [
    "sites = [s for s in train_df.columns if 'site' in s]\n",
    "times = [t for t in train_df.columns if 'time' in t]"
   ]
  },
  {
   "cell_type": "code",
   "execution_count": 6,
   "id": "c626c46d",
   "metadata": {},
   "outputs": [],
   "source": [
    "# Our target variable\n",
    "y_train = train_df[\"target\"]\n",
    "\n",
    "# United dataframe of the initial data\n",
    "full_df = pd.concat([train_df.drop(\"target\", axis=1), test_df])\n",
    "\n",
    "# Index to split the training and test data sets\n",
    "idx_split = train_df.shape[0]"
   ]
  },
  {
   "cell_type": "code",
   "execution_count": 7,
   "id": "fadd847a",
   "metadata": {},
   "outputs": [
    {
     "name": "stdout",
     "output_type": "stream",
     "text": [
      "Wall time: 14.2 s\n"
     ]
    }
   ],
   "source": [
    "%%time\n",
    "sites_corpus = full_df[sites].to_string(header=False, index=False).split('\\n')"
   ]
  },
  {
   "cell_type": "code",
   "execution_count": 8,
   "id": "906b14ef",
   "metadata": {},
   "outputs": [
    {
     "name": "stdout",
     "output_type": "stream",
     "text": [
      "Wall time: 10.8 s\n"
     ]
    },
    {
     "data": {
      "text/plain": [
       "<336358x20000 sparse matrix of type '<class 'numpy.float64'>'\n",
       "\twith 3251875 stored elements in Compressed Sparse Row format>"
      ]
     },
     "execution_count": 8,
     "metadata": {},
     "output_type": "execute_result"
    }
   ],
   "source": [
    "%%time\n",
    "tfv = TfidfVectorizer(ngram_range=(1,2), max_features=20000)\n",
    "X_train = tfv.fit_transform(sites_corpus[:idx_split])\n",
    "X_test = tfv.transform(sites_corpus[idx_split:])\n",
    "\n",
    "X_full = vstack([X_train, X_test]).tocsr()\n",
    "X_full"
   ]
  },
  {
   "cell_type": "code",
   "execution_count": 9,
   "id": "f89d8305",
   "metadata": {},
   "outputs": [],
   "source": [
    "logit = LogisticRegression(C=1, random_state=17, solver='liblinear')\n",
    "time_split = TimeSeriesSplit(n_splits=10)\n",
    "\n",
    "def get_auc_logit_score(X, y, C=1.0, seed=17, n_splits=10):\n",
    "    # Split the data into the training and validation sets\n",
    "    time_split = TimeSeriesSplit(n_splits=n_splits)\n",
    "    logit = LogisticRegression(C=C, random_state=17, solver='liblinear')\n",
    "    cv_scores = cross_val_score(logit, X, y, cv=time_split, scoring='roc_auc', n_jobs=-1)\n",
    "    return cv_scores.mean()"
   ]
  },
  {
   "cell_type": "code",
   "execution_count": 10,
   "id": "82b38faf",
   "metadata": {},
   "outputs": [
    {
     "name": "stdout",
     "output_type": "stream",
     "text": [
      "0.8692\n",
      "Wall time: 9.55 s\n"
     ]
    }
   ],
   "source": [
    "%%time\n",
    "BASELINE = get_auc_logit_score(X_train, y_train)\n",
    "print(f\"{BASELINE:.4f}\")"
   ]
  },
  {
   "cell_type": "code",
   "execution_count": 11,
   "id": "2c638a5c",
   "metadata": {},
   "outputs": [],
   "source": [
    "# Features engineering\n",
    "feat_df = pd.DataFrame(index=full_df.index)"
   ]
  },
  {
   "cell_type": "code",
   "execution_count": 12,
   "id": "1dab6c99",
   "metadata": {},
   "outputs": [],
   "source": [
    "# Add the new feature to the sparse matrix\n",
    "def add_feature(feat: str, f_df: pd.DataFrame = feat_df, X_sparse = X_full, standardize=True, onehot=False):\n",
    "    tmp = f_df[[feat]].values\n",
    "    if onehot:\n",
    "        enc = OneHotEncoder(dtype=np.uint8, sparse=False)\n",
    "        tmp = enc.fit_transform(tmp)\n",
    "    if standardize:\n",
    "        tmp = StandardScaler().fit_transform(tmp)        \n",
    "    return hstack([X_sparse, tmp]).tocsr()"
   ]
  },
  {
   "cell_type": "code",
   "execution_count": 13,
   "id": "5faa2eb4",
   "metadata": {},
   "outputs": [],
   "source": [
    "def add_multi_feature(feat_list: list, f_df: pd.DataFrame = feat_df, X_sparse = X_full):\n",
    "    X_new = X_sparse\n",
    "    for feat in feat_list:\n",
    "        X_new = add_feature(feat, X_sparse=X_new)\n",
    "    return X_new[:idx_split, :], X_new[idx_split:, :]     "
   ]
  },
  {
   "cell_type": "code",
   "execution_count": 14,
   "id": "e1347bea",
   "metadata": {},
   "outputs": [],
   "source": [
    "def test_feature(feat: str, standardize=True, onehot=False, baseline=BASELINE, C=1):\n",
    "    print(f\"Testing:\\t{feat}\")\n",
    "        \n",
    "    X_new = add_feature(feat, standardize=standardize, onehot=onehot)\n",
    "    X_train = X_new[:idx_split, :]\n",
    "    score = get_auc_logit_score(X_train, y_train, C=C)\n",
    "    \n",
    "    print(f\"Score:\\t\\t{score:.4f}\\t\", end=\"\")\n",
    "    if score > baseline:\n",
    "        print(\"+++\")\n",
    "    else:\n",
    "        print(\"---\")\n",
    "    return score"
   ]
  },
  {
   "cell_type": "code",
   "execution_count": 15,
   "id": "fd0c3e16",
   "metadata": {},
   "outputs": [],
   "source": [
    "def test_multi_feature(feat_list: list, baseline=BASELINE, C=1):    \n",
    "    print(f\"Testing:\\t{feat_list}\")\n",
    "    \n",
    "    X_new = X_full\n",
    "    for feat in feat_list:\n",
    "        X_new = add_feature(feat, X_sparse=X_new)\n",
    "    X_train = X_new[:idx_split, :]\n",
    "    score = get_auc_logit_score(X_train, y_train, C=C)\n",
    "    \n",
    "    print(f\"Score:\\t\\t{score:.4f}\\t\", end=\"\")\n",
    "    if score > baseline:\n",
    "        print(\"+++\")\n",
    "    else:\n",
    "        print(\"---\")\n",
    "    return score\n",
    "    "
   ]
  },
  {
   "cell_type": "code",
   "execution_count": 16,
   "id": "97ea820c",
   "metadata": {},
   "outputs": [],
   "source": [
    "def predict_probs(feat_list: list, C=1):\n",
    "    X_new = X_full\n",
    "    for feat in feat_list:\n",
    "        X_new = add_feature(feat, X_sparse=X_new)\n",
    "    X_train = X_new[:idx_split, :]\n",
    "    X_test = X_new[idx_split:, :]\n",
    "    estimator = LogisticRegression(C=C, random_state=17, solver='liblinear')\n",
    "    estimator.fit(X_train, y_train)\n",
    "    return estimator.predict_proba(X_test)[:, 1]"
   ]
  },
  {
   "cell_type": "code",
   "execution_count": 17,
   "id": "35eafdc1",
   "metadata": {},
   "outputs": [],
   "source": [
    "# previous features\n",
    "for weekday in range(7):\n",
    "    feat_name = f'weekday_{weekday}'\n",
    "    feat_df[feat_name] = (full_df['time1'].dt.weekday == weekday).astype(int)\n",
    "for hour in range(23):\n",
    "    feat_name = f'hour_{hour}'\n",
    "    feat_df[feat_name] = (full_df['time1'].dt.hour == hour).astype(int)\n",
    "best_hours = ['hour_7', 'hour_8', 'hour_9', 'hour_10', 'hour_11', 'hour_14', 'hour_16', 'hour_17', 'hour_18', 'hour_19', 'hour_20', 'hour_21', 'hour_22']\n",
    "best_weekdays = ['weekday_0']\n",
    "best_previous = best_hours + best_weekdays"
   ]
  },
  {
   "cell_type": "code",
   "execution_count": 18,
   "id": "60f6d01b",
   "metadata": {},
   "outputs": [],
   "source": [
    "# feat_df['duration'] = full_\n",
    "\n",
    "feat_df['duration'] = (full_df[times].max(axis=1) - full_df[times].min(axis=1)).dt.total_seconds()"
   ]
  },
  {
   "cell_type": "code",
   "execution_count": 19,
   "id": "3162763d",
   "metadata": {},
   "outputs": [
    {
     "name": "stdout",
     "output_type": "stream",
     "text": [
      "Testing:\tduration\n",
      "Score:\t\t0.8699\t+++\n"
     ]
    },
    {
     "data": {
      "text/plain": [
       "0.8698902967308999"
      ]
     },
     "execution_count": 19,
     "metadata": {},
     "output_type": "execute_result"
    }
   ],
   "source": [
    "test_feature('duration')"
   ]
  },
  {
   "cell_type": "code",
   "execution_count": 20,
   "id": "07a636cd",
   "metadata": {},
   "outputs": [
    {
     "name": "stdout",
     "output_type": "stream",
     "text": [
      "Wall time: 0 ns\n"
     ]
    }
   ],
   "source": [
    "%%time\n",
    "# feat_df['n_unique'] = full_df[times].nunique(axis=1, dropna=True)"
   ]
  },
  {
   "cell_type": "code",
   "execution_count": 21,
   "id": "69342390",
   "metadata": {},
   "outputs": [],
   "source": [
    "# test_feature('n_unique')"
   ]
  },
  {
   "cell_type": "code",
   "execution_count": 22,
   "id": "d38ef95d",
   "metadata": {},
   "outputs": [
    {
     "data": {
      "text/html": [
       "<div>\n",
       "<style scoped>\n",
       "    .dataframe tbody tr th:only-of-type {\n",
       "        vertical-align: middle;\n",
       "    }\n",
       "\n",
       "    .dataframe tbody tr th {\n",
       "        vertical-align: top;\n",
       "    }\n",
       "\n",
       "    .dataframe thead th {\n",
       "        text-align: right;\n",
       "    }\n",
       "</style>\n",
       "<table border=\"1\" class=\"dataframe\">\n",
       "  <thead>\n",
       "    <tr style=\"text-align: right;\">\n",
       "      <th></th>\n",
       "      <th>delta1</th>\n",
       "      <th>delta2</th>\n",
       "      <th>delta3</th>\n",
       "      <th>delta4</th>\n",
       "      <th>delta5</th>\n",
       "      <th>delta6</th>\n",
       "      <th>delta7</th>\n",
       "      <th>delta8</th>\n",
       "      <th>delta9</th>\n",
       "    </tr>\n",
       "  </thead>\n",
       "  <tbody>\n",
       "    <tr>\n",
       "      <th>21668</th>\n",
       "      <td>0.0</td>\n",
       "      <td>NaN</td>\n",
       "      <td>NaN</td>\n",
       "      <td>NaN</td>\n",
       "      <td>NaN</td>\n",
       "      <td>NaN</td>\n",
       "      <td>NaN</td>\n",
       "      <td>NaN</td>\n",
       "      <td>NaN</td>\n",
       "    </tr>\n",
       "    <tr>\n",
       "      <th>54842</th>\n",
       "      <td>0.0</td>\n",
       "      <td>1784.0</td>\n",
       "      <td>2.0</td>\n",
       "      <td>NaN</td>\n",
       "      <td>NaN</td>\n",
       "      <td>NaN</td>\n",
       "      <td>NaN</td>\n",
       "      <td>NaN</td>\n",
       "      <td>NaN</td>\n",
       "    </tr>\n",
       "    <tr>\n",
       "      <th>77291</th>\n",
       "      <td>1.0</td>\n",
       "      <td>1.0</td>\n",
       "      <td>0.0</td>\n",
       "      <td>1.0</td>\n",
       "      <td>0.0</td>\n",
       "      <td>0.0</td>\n",
       "      <td>0.0</td>\n",
       "      <td>1.0</td>\n",
       "      <td>0.0</td>\n",
       "    </tr>\n",
       "    <tr>\n",
       "      <th>114020</th>\n",
       "      <td>0.0</td>\n",
       "      <td>1.0</td>\n",
       "      <td>0.0</td>\n",
       "      <td>0.0</td>\n",
       "      <td>0.0</td>\n",
       "      <td>1.0</td>\n",
       "      <td>0.0</td>\n",
       "      <td>0.0</td>\n",
       "      <td>1.0</td>\n",
       "    </tr>\n",
       "    <tr>\n",
       "      <th>146669</th>\n",
       "      <td>0.0</td>\n",
       "      <td>0.0</td>\n",
       "      <td>1.0</td>\n",
       "      <td>0.0</td>\n",
       "      <td>0.0</td>\n",
       "      <td>0.0</td>\n",
       "      <td>1.0</td>\n",
       "      <td>0.0</td>\n",
       "      <td>0.0</td>\n",
       "    </tr>\n",
       "  </tbody>\n",
       "</table>\n",
       "</div>"
      ],
      "text/plain": [
       "        delta1  delta2  delta3  delta4  delta5  delta6  delta7  delta8  delta9\n",
       "21668      0.0     NaN     NaN     NaN     NaN     NaN     NaN     NaN     NaN\n",
       "54842      0.0  1784.0     2.0     NaN     NaN     NaN     NaN     NaN     NaN\n",
       "77291      1.0     1.0     0.0     1.0     0.0     0.0     0.0     1.0     0.0\n",
       "114020     0.0     1.0     0.0     0.0     0.0     1.0     0.0     0.0     1.0\n",
       "146669     0.0     0.0     1.0     0.0     0.0     0.0     1.0     0.0     0.0"
      ]
     },
     "execution_count": 22,
     "metadata": {},
     "output_type": "execute_result"
    }
   ],
   "source": [
    "# time between requests\n",
    "deltas = ['delta' + str(i) for i in range(1, 10)]\n",
    "delta_df = (full_df[times] - full_df[times].shift(1, axis=1)) \\\n",
    "                                        .copy() \\\n",
    "                                        .drop(columns='time1') \\\n",
    "                                        .apply(lambda x: x.dt.total_seconds())\n",
    "\n",
    "delta_df.columns = deltas\n",
    "\n",
    "delta_target = delta_df[:idx_split].loc[y_train == 1]\n",
    "delta_rest = delta_df[:idx_split].loc[y_train == 0]\n",
    "\n",
    "delta_df.head()"
   ]
  },
  {
   "cell_type": "code",
   "execution_count": 23,
   "id": "a7b68fc0",
   "metadata": {},
   "outputs": [
    {
     "data": {
      "image/png": "[encoded data removed]",
      "text/plain": [
       "<Figure size 864x504 with 9 Axes>"
      ]
     },
     "metadata": {
      "needs_background": "light"
     },
     "output_type": "display_data"
    }
   ],
   "source": [
    "delta_target.plot(kind='hist',                  \n",
    "                   bins=30,\n",
    "                   subplots=True, \n",
    "                   layout=(3,3), \n",
    "                   figsize=(12, 7), \n",
    "                   logy=True)\n",
    "plt.show()"
   ]
  },
  {
   "cell_type": "code",
   "execution_count": 24,
   "id": "c66e4286",
   "metadata": {},
   "outputs": [
    {
     "data": {
      "image/png": "[encoded data removed]",
      "text/plain": [
       "<Figure size 864x504 with 9 Axes>"
      ]
     },
     "metadata": {
      "needs_background": "light"
     },
     "output_type": "display_data"
    }
   ],
   "source": [
    "delta_rest.plot(kind='hist', \n",
    "               subplots=True,\n",
    "               bins=30,\n",
    "               layout=(3,3), \n",
    "               figsize=(12, 7), \n",
    "               logy=True)\n",
    "plt.show()"
   ]
  },
  {
   "cell_type": "code",
   "execution_count": null,
   "id": "de860803",
   "metadata": {},
   "outputs": [],
   "source": [
    "delta_target['delta1']"
   ]
  },
  {
   "cell_type": "code",
   "execution_count": 56,
   "id": "fcfbfc81",
   "metadata": {},
   "outputs": [
    {
     "data": {
      "image/png": "[encoded data removed]",
      "text/plain": [
       "<Figure size 1080x720 with 9 Axes>"
      ]
     },
     "metadata": {
      "needs_background": "light"
     },
     "output_type": "display_data"
    }
   ],
   "source": [
    "fig = plt.figure(figsize=(15,10))\n",
    "for i, feat in enumerate(deltas):\n",
    "    plt.subplot(3, 3, i+1)\n",
    "    plt.hist(delta_target[feat], bins=30, alpha=0.5, label=\"Target\", density=True)\n",
    "    plt.hist(delta_rest[feat], bins=30, alpha=0.5, label=\"Rest\", density=True)\n",
    "    plt.yscale('log')\n",
    "    plt.legend()    "
   ]
  },
  {
   "cell_type": "code",
   "execution_count": 25,
   "id": "d80d27f2",
   "metadata": {},
   "outputs": [
    {
     "name": "stdout",
     "output_type": "stream",
     "text": [
      "delta1: 0.5416 7.5\n",
      "delta2: 0.5327 11.5\n",
      "delta3: 0.5373 7.5\n",
      "delta4: 0.5372 9.5\n",
      "delta5: 0.5311 21.5\n",
      "delta6: 0.5341 5.5\n",
      "delta7: 0.5310 13.5\n",
      "delta8: 0.5399 8.5\n",
      "delta9: 0.5279 29.5\n"
     ]
    }
   ],
   "source": [
    "tree = DecisionTreeClassifier(max_depth = 1)\n",
    "threshhold = {}\n",
    "for feat in deltas:\n",
    "#     feat_name = 'delta1'\n",
    "    X_train = delta_df[:idx_split][[feat]].fillna(0)\n",
    "    score = cross_val_score(tree, X_train, y_train, cv=5, scoring='roc_auc').mean()\n",
    "    tree.fit(X_train, y_train)\n",
    "    print(f\"{feat}: {score:.4f} {tree.tree_.threshold[0]}\")\n",
    "    threshhold[feat] = tree.tree_.threshold[0]    "
   ]
  },
  {
   "cell_type": "code",
   "execution_count": 27,
   "id": "b01c44b2",
   "metadata": {},
   "outputs": [
    {
     "data": {
      "image/png": "[encoded data removed]",
      "text/plain": [
       "<Figure size 432x288 with 1 Axes>"
      ]
     },
     "metadata": {
      "needs_background": "light"
     },
     "output_type": "display_data"
    }
   ],
   "source": [
    "plot_tree(tree)\n",
    "plt.show()"
   ]
  },
  {
   "cell_type": "code",
   "execution_count": 37,
   "id": "4985d684",
   "metadata": {},
   "outputs": [
    {
     "name": "stdout",
     "output_type": "stream",
     "text": [
      "Testing:\tdelta1\n",
      "Score:\t\t0.8677\t---\n",
      "Testing:\tdelta2\n",
      "Score:\t\t0.8667\t---\n",
      "Testing:\tdelta3\n",
      "Score:\t\t0.8648\t---\n",
      "Testing:\tdelta4\n",
      "Score:\t\t0.8679\t---\n",
      "Testing:\tdelta5\n",
      "Score:\t\t0.8692\t---\n",
      "Testing:\tdelta6\n",
      "Score:\t\t0.8678\t---\n",
      "Testing:\tdelta7\n",
      "Score:\t\t0.8695\t+++\n",
      "Testing:\tdelta8\n",
      "Score:\t\t0.8675\t---\n",
      "Testing:\tdelta9\n",
      "Score:\t\t0.8692\t---\n"
     ]
    }
   ],
   "source": [
    "# new features after decision tree found the relevant thresholds\n",
    "for feat in deltas:\n",
    "    feat_df[feat] = (delta_df[feat] > threshhold[feat]).astype(int)\n",
    "    test_feature(feat)"
   ]
  },
  {
   "cell_type": "code",
   "execution_count": 38,
   "id": "9dd63aa6",
   "metadata": {},
   "outputs": [
    {
     "name": "stdout",
     "output_type": "stream",
     "text": [
      "Testing:\tdelta1\n",
      "Score:\t\t0.8670\t---\n",
      "Testing:\tdelta2\n",
      "Score:\t\t0.8661\t---\n",
      "Testing:\tdelta3\n",
      "Score:\t\t0.8638\t---\n",
      "Testing:\tdelta4\n",
      "Score:\t\t0.8667\t---\n",
      "Testing:\tdelta5\n",
      "Score:\t\t0.8669\t---\n",
      "Testing:\tdelta6\n",
      "Score:\t\t0.8665\t---\n",
      "Testing:\tdelta7\n",
      "Score:\t\t0.8682\t---\n",
      "Testing:\tdelta8\n",
      "Score:\t\t0.8666\t---\n",
      "Testing:\tdelta9\n",
      "Score:\t\t0.8679\t---\n"
     ]
    }
   ],
   "source": [
    "# new features after decision tree found the relevant thresholds\n",
    "for feat in deltas:\n",
    "    feat_df[feat] = (delta_df[feat] < threshhold[feat]).astype(int)\n",
    "    test_feature(feat)"
   ]
  },
  {
   "cell_type": "code",
   "execution_count": 39,
   "id": "f02fb8c9",
   "metadata": {},
   "outputs": [
    {
     "name": "stdout",
     "output_type": "stream",
     "text": [
      "Testing:\tdelta1\n",
      "Score:\t\t0.8690\t---\n",
      "Testing:\tdelta2\n",
      "Score:\t\t0.8691\t---\n",
      "Testing:\tdelta3\n",
      "Score:\t\t0.8693\t+++\n",
      "Testing:\tdelta4\n",
      "Score:\t\t0.8689\t---\n",
      "Testing:\tdelta5\n",
      "Score:\t\t0.8693\t+++\n",
      "Testing:\tdelta6\n",
      "Score:\t\t0.8692\t---\n",
      "Testing:\tdelta7\n",
      "Score:\t\t0.8693\t+++\n",
      "Testing:\tdelta8\n",
      "Score:\t\t0.8690\t---\n",
      "Testing:\tdelta9\n",
      "Score:\t\t0.8689\t---\n"
     ]
    }
   ],
   "source": [
    "for feat in deltas:\n",
    "    feat_df[feat] = (delta_df[feat] > 400).astype(int)\n",
    "    test_feature(feat)"
   ]
  },
  {
   "cell_type": "code",
   "execution_count": 42,
   "id": "72f0e2a0",
   "metadata": {},
   "outputs": [
    {
     "name": "stdout",
     "output_type": "stream",
     "text": [
      "Testing:\tdelta1\n",
      "Score:\t\t0.8685\t---\n",
      "Testing:\tdelta2\n",
      "Score:\t\t0.8683\t---\n",
      "Testing:\tdelta3\n",
      "Score:\t\t0.8696\t+++\n",
      "Testing:\tdelta4\n",
      "Score:\t\t0.8693\t+++\n",
      "Testing:\tdelta5\n",
      "Score:\t\t0.8692\t---\n",
      "Testing:\tdelta6\n",
      "Score:\t\t0.8694\t+++\n",
      "Testing:\tdelta7\n",
      "Score:\t\t0.8688\t---\n",
      "Testing:\tdelta8\n",
      "Score:\t\t0.8695\t+++\n",
      "Testing:\tdelta9\n",
      "Score:\t\t0.8697\t+++\n"
     ]
    }
   ],
   "source": [
    "for feat in deltas:\n",
    "    feat_df[feat] = (delta_df[feat] > 100).astype(int)\n",
    "    test_feature(feat)"
   ]
  },
  {
   "cell_type": "code",
   "execution_count": 41,
   "id": "5a58572d",
   "metadata": {},
   "outputs": [
    {
     "name": "stdout",
     "output_type": "stream",
     "text": [
      "Testing:\tdelta1\n",
      "Score:\t\t0.8680\t---\n",
      "Testing:\tdelta2\n",
      "Score:\t\t0.8684\t---\n",
      "Testing:\tdelta3\n",
      "Score:\t\t0.8689\t---\n",
      "Testing:\tdelta4\n",
      "Score:\t\t0.8694\t+++\n",
      "Testing:\tdelta5\n",
      "Score:\t\t0.8695\t+++\n",
      "Testing:\tdelta6\n",
      "Score:\t\t0.8694\t+++\n",
      "Testing:\tdelta7\n",
      "Score:\t\t0.8691\t---\n",
      "Testing:\tdelta8\n",
      "Score:\t\t0.8697\t+++\n",
      "Testing:\tdelta9\n",
      "Score:\t\t0.8691\t---\n"
     ]
    }
   ],
   "source": [
    "for feat in deltas:\n",
    "    feat_df[feat] = (delta_df[feat] > 50).astype(int)\n",
    "    test_feature(feat)"
   ]
  },
  {
   "cell_type": "code",
   "execution_count": 44,
   "id": "83e710c6",
   "metadata": {},
   "outputs": [
    {
     "name": "stdout",
     "output_type": "stream",
     "text": [
      "Testing:\tdelta1\n",
      "Score:\t\t0.8685\t---\n",
      "Testing:\tdelta2\n",
      "Score:\t\t0.8689\t---\n",
      "Testing:\tdelta3\n",
      "Score:\t\t0.8694\t+++\n",
      "Testing:\tdelta4\n",
      "Score:\t\t0.8693\t+++\n",
      "Testing:\tdelta5\n",
      "Score:\t\t0.8692\t---\n",
      "Testing:\tdelta6\n",
      "Score:\t\t0.8694\t+++\n",
      "Testing:\tdelta7\n",
      "Score:\t\t0.8689\t---\n",
      "Testing:\tdelta8\n",
      "Score:\t\t0.8695\t+++\n",
      "Testing:\tdelta9\n",
      "Score:\t\t0.8682\t---\n"
     ]
    }
   ],
   "source": [
    "# new features after decision tree found the relevant thresholds\n",
    "for feat in deltas:\n",
    "    feat_df[feat] = (delta_df[feat] > threshhold[feat] * 10).astype(int)\n",
    "    test_feature(feat)"
   ]
  },
  {
   "cell_type": "code",
   "execution_count": 45,
   "id": "48b089be",
   "metadata": {},
   "outputs": [
    {
     "name": "stdout",
     "output_type": "stream",
     "text": [
      "Testing:\tdelta1\n",
      "Score:\t\t0.8685\t---\n",
      "Testing:\tdelta2\n",
      "Score:\t\t0.8683\t---\n",
      "Testing:\tdelta3\n",
      "Score:\t\t0.8696\t+++\n",
      "Testing:\tdelta4\n",
      "Score:\t\t0.8693\t+++\n",
      "Testing:\tdelta5\n",
      "Score:\t\t0.8692\t---\n",
      "Testing:\tdelta6\n",
      "Score:\t\t0.8694\t+++\n",
      "Testing:\tdelta7\n",
      "Score:\t\t0.8688\t---\n",
      "Testing:\tdelta8\n",
      "Score:\t\t0.8695\t+++\n",
      "Testing:\tdelta9\n",
      "Score:\t\t0.8697\t+++\n"
     ]
    }
   ],
   "source": [
    "best_delta = []\n",
    "for feat in deltas:\n",
    "    feat_df[feat] = (delta_df[feat] > 100).astype(int)\n",
    "    if test_feature(feat) > BASELINE:\n",
    "        best_delta.append(feat)"
   ]
  },
  {
   "cell_type": "code",
   "execution_count": 47,
   "id": "a6fc025b",
   "metadata": {},
   "outputs": [
    {
     "name": "stdout",
     "output_type": "stream",
     "text": [
      "Testing:\t['delta3', 'delta4', 'delta6', 'delta8', 'delta9']\n",
      "Score:\t\t0.8701\t+++\n"
     ]
    }
   ],
   "source": [
    "test_multi_feature(best_delta)"
   ]
  },
  {
   "cell_type": "code",
   "execution_count": 51,
   "id": "4a6b5970",
   "metadata": {},
   "outputs": [
    {
     "name": "stdout",
     "output_type": "stream",
     "text": [
      "Testing:\t['delta3', 'delta4', 'delta6', 'delta8', 'delta9', 'duration']\n",
      "Score:\t\t0.8696\t+++\n"
     ]
    }
   ],
   "source": [
    "test_multi_feature(best_delta + ['duration'])"
   ]
  },
  {
   "cell_type": "code",
   "execution_count": 52,
   "id": "7353b5b3",
   "metadata": {},
   "outputs": [
    {
     "name": "stdout",
     "output_type": "stream",
     "text": [
      "Testing:\t['duration']\n",
      "Score:\t\t0.8699\t+++\n"
     ]
    }
   ],
   "source": [
    "test_multi_feature(['duration'])"
   ]
  },
  {
   "cell_type": "code",
   "execution_count": 50,
   "id": "0f9deb52",
   "metadata": {},
   "outputs": [
    {
     "name": "stdout",
     "output_type": "stream",
     "text": [
      "Testing:\t['hour_7', 'hour_8', 'hour_9', 'hour_10', 'hour_11', 'hour_14', 'hour_16', 'hour_17', 'hour_18', 'hour_19', 'hour_20', 'hour_21', 'hour_22', 'weekday_0']\n",
      "Score:\t\t0.9193\t+++\n"
     ]
    }
   ],
   "source": [
    "test_multi_feature(best_previous)"
   ]
  },
  {
   "cell_type": "code",
   "execution_count": 53,
   "id": "45cd6480",
   "metadata": {},
   "outputs": [
    {
     "name": "stdout",
     "output_type": "stream",
     "text": [
      "Testing:\t['hour_7', 'hour_8', 'hour_9', 'hour_10', 'hour_11', 'hour_14', 'hour_16', 'hour_17', 'hour_18', 'hour_19', 'hour_20', 'hour_21', 'hour_22', 'weekday_0', 'delta3', 'delta4', 'delta6', 'delta8', 'delta9']\n",
      "Score:\t\t0.9203\t+++\n"
     ]
    }
   ],
   "source": [
    "test_multi_feature(best_previous + best_delta)"
   ]
  },
  {
   "cell_type": "code",
   "execution_count": 54,
   "id": "80df4735",
   "metadata": {},
   "outputs": [
    {
     "name": "stdout",
     "output_type": "stream",
     "text": [
      "Testing:\t['hour_7', 'hour_8', 'hour_9', 'hour_10', 'hour_11', 'hour_14', 'hour_16', 'hour_17', 'hour_18', 'hour_19', 'hour_20', 'hour_21', 'hour_22', 'weekday_0', 'delta3', 'delta4', 'delta6', 'delta8', 'delta9', 'duration']\n",
      "Score:\t\t0.9203\t+++\n"
     ]
    }
   ],
   "source": [
    "test_multi_feature(best_previous + best_delta + ['duration'])"
   ]
  },
  {
   "cell_type": "code",
   "execution_count": 55,
   "id": "7bc2927a",
   "metadata": {},
   "outputs": [],
   "source": [
    "write_to_submission_file(predict_probs(best_previous + best_delta), out_file='logit_subm11.csv.zip')"
   ]
  },
  {
   "cell_type": "code",
   "execution_count": 28,
   "id": "33a42f71",
   "metadata": {},
   "outputs": [
    {
     "data": {
      "text/plain": [
       "\"\\nc_values = np.logspace(0, 2, 10)\\nlogit_grid_searcher = GridSearchCV(estimator=logit,\\n                                   param_grid={'C': c_values},\\n                                   scoring='roc_auc',\\n                                   cv=time_split,\\n                                   n_jobs=-1,\\n                                   verbose=1)\\n\""
      ]
     },
     "execution_count": 28,
     "metadata": {},
     "output_type": "execute_result"
    }
   ],
   "source": [
    "### Optimize regularization for best set of features\n",
    "\"\"\"\n",
    "c_values = np.logspace(0, 2, 10)\n",
    "logit_grid_searcher = GridSearchCV(estimator=logit,\n",
    "                                   param_grid={'C': c_values},\n",
    "                                   scoring='roc_auc',\n",
    "                                   cv=time_split,\n",
    "                                   n_jobs=-1,\n",
    "                                   verbose=1)\n",
    "\"\"\"                                   "
   ]
  },
  {
   "cell_type": "code",
   "execution_count": 29,
   "id": "386874bb",
   "metadata": {},
   "outputs": [],
   "source": [
    "# X_train_new, X_test_new = add_multi_feature()"
   ]
  },
  {
   "cell_type": "code",
   "execution_count": 30,
   "id": "737a93a3",
   "metadata": {},
   "outputs": [],
   "source": [
    "# logit_grid_searcher.fit(X_train_new, y_train)"
   ]
  },
  {
   "cell_type": "code",
   "execution_count": 31,
   "id": "8c27d7dc",
   "metadata": {},
   "outputs": [],
   "source": [
    "# logit_grid_searcher.best_score_, logit_grid_searcher.best_params_"
   ]
  },
  {
   "cell_type": "code",
   "execution_count": 32,
   "id": "240af320",
   "metadata": {},
   "outputs": [],
   "source": [
    "# logit_test_probs = logit_grid_searcher.predict_proba(X_test_new)[:, 1]\n",
    "# write_to_submission_file(logit_test_probs, 'logit_subm11.csv.zip')"
   ]
  }
 ],
 "metadata": {
  "kernelspec": {
   "display_name": "Python 3",
   "language": "python",
   "name": "python3"
  },
  "language_info": {
   "codemirror_mode": {
    "name": "ipython",
    "version": 3
   },
   "file_extension": ".py",
   "mimetype": "text/x-python",
   "name": "python",
   "nbconvert_exporter": "python",
   "pygments_lexer": "ipython3",
   "version": "3.7.10"
  }
 },
 "nbformat": 4,
 "nbformat_minor": 5
}
