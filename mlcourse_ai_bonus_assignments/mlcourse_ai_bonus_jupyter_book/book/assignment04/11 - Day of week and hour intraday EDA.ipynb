{
 "cells": [
  {
   "cell_type": "code",
   "execution_count": 1,
   "id": "41a5eb0a",
   "metadata": {},
   "outputs": [],
   "source": [
    "from matplotlib import pyplot as plt\n",
    "from sklearn.tree import DecisionTreeClassifier, plot_tree\n",
    "from sklearn.metrics import roc_auc_score\n",
    "import numpy as np\n",
    "import pandas as pd\n",
    "from scipy.sparse import hstack, vstack\n",
    "from sklearn.feature_extraction.text import CountVectorizer, TfidfVectorizer\n",
    "from sklearn.model_selection import TimeSeriesSplit, cross_val_score, GridSearchCV\n",
    "from sklearn.linear_model import LogisticRegression\n",
    "from sklearn.preprocessing import StandardScaler, OneHotEncoder\n",
    "from typing import Union, List\n",
    "\n",
    "%load_ext autoreload \n",
    "%autoreload 2"
   ]
  },
  {
   "cell_type": "code",
   "execution_count": 2,
   "id": "f402b3b1",
   "metadata": {},
   "outputs": [
    {
     "name": "stdout",
     "output_type": "stream",
     "text": [
      "Wall time: 33.4 s\n"
     ]
    }
   ],
   "source": [
    "%%time\n",
    "\n",
    "def write_to_submission_file(predicted_probs, out_file: str = 'to_submission.csv.zip',\n",
    "                             target='target', index_label='session_id'):\n",
    "    df = pd.DataFrame(predicted_probs,\n",
    "                      index=np.arange(1, len(predicted_probs) + 1),\n",
    "                      columns=[target])\n",
    "    df.to_csv(out_file, index_label=index_label, compression=\"zip\")\n",
    "\n",
    "def convert_types(df: pd.DataFrame) -> pd.DataFrame:\n",
    "    \"\"\" Define all type transformations in a single function \"\"\"\n",
    "    sites = [s for s in df.columns if \"site\" in s]\n",
    "    df[sites] = df[sites].fillna(0).astype('uint16')\n",
    "    times = [t for t in df.columns if \"time\" in t]\n",
    "    df[times] = df[times].apply(pd.to_datetime)\n",
    "    if 'target' in df.columns:\n",
    "        df['target'] = df.target.astype('uint8')\n",
    "    return df\n",
    "\n",
    "train_df = pd.read_csv('../../../../data/catch-me-if-you-can-intruder-detection-through-webpage-session-tracking2/train_sessions.csv.zip')\n",
    "train_df = convert_types(train_df)\n",
    "train_df.sort_values(by='time1', inplace=True)\n",
    "\n",
    "test_df = pd.read_csv('../../../../data/catch-me-if-you-can-intruder-detection-through-webpage-session-tracking2/test_sessions.csv.zip')\n",
    "test_df = convert_types(test_df)\n",
    "\n",
    "sites = [s for s in train_df.columns if 'site' in s]\n",
    "times = [t for t in train_df.columns if 'time' in t]\n",
    "\n",
    "# Our target variable\n",
    "y_train = train_df[\"target\"]\n",
    "\n",
    "# United dataframe of the initial data\n",
    "full_df = pd.concat([train_df.drop(\"target\", axis=1), test_df])\n",
    "\n",
    "# Index to split the training and test data sets\n",
    "idx_split = train_df.shape[0]\n",
    "\n",
    "sites_corpus = full_df[sites].to_string(header=False, index=False).split('\\n')\n",
    "\n",
    "tfv = TfidfVectorizer(ngram_range=(1,2), max_features=20000)\n",
    "X_train = tfv.fit_transform(sites_corpus[:idx_split])\n",
    "X_test = tfv.transform(sites_corpus[idx_split:])\n",
    "\n",
    "X_full = vstack([X_train, X_test]).tocsr()\n",
    "\n",
    "\n",
    "def get_auc_logit_score(X, y, C=1.0, seed=17, n_splits=10):\n",
    "    # Split the data into the training and validation sets\n",
    "    time_split = TimeSeriesSplit(n_splits=n_splits)\n",
    "    logit = LogisticRegression(C=C, random_state=seed, solver='liblinear')\n",
    "    cv_scores = cross_val_score(logit, X, y, cv=time_split, scoring='roc_auc', n_jobs=-1)\n",
    "    return cv_scores.mean()\n",
    "\n",
    "\n",
    "def get_features(full_df) -> pd.DataFrame:\n",
    "    times = [t for t in full_df.columns if 'time' in t]\n",
    "    feat_df = pd.DataFrame(index=full_df.index)\n",
    "\n",
    "    feat_df['weekday'] = full_df['time1'].dt.weekday\n",
    "    for weekday in range(7):\n",
    "        feat_name = f'weekday_{weekday}'\n",
    "        feat_df[feat_name] = (full_df['time1'].dt.weekday == weekday).astype(int)\n",
    "    for hour in range(23):\n",
    "        feat_name = f'hour_{hour}'\n",
    "        feat_df[feat_name] = (full_df['time1'].dt.hour == hour).astype(int)\n",
    "\n",
    "    feat_df['duration'] = (full_df[times].max(axis=1) - full_df[times].min(axis=1)).dt.total_seconds()\n",
    "\n",
    "    feat_df['hour_sin'] = np.sin(full_df['time1'].dt.hour / 24)\n",
    "    feat_df['hour_cos'] = np.cos(full_df['time1'].dt.hour / 24)\n",
    "\n",
    "    feat_df['hour'] = full_df['time1'].dt.hour\n",
    "\n",
    "    feat_df['morning'] = feat_df['hour'].between(7, 11).astype(int)\n",
    "    feat_df['noon'] = feat_df['hour'].between(12, 18).astype(int)\n",
    "    feat_df['evening'] = feat_df['hour'].between(19, 23).astype(int)\n",
    "    feat_df['night'] = feat_df['hour'].between(0, 6).astype(int)\n",
    "\n",
    "    deltas = ['delta' + str(i) for i in range(1, 10)]    \n",
    "    delta_df = (full_df[times] - full_df[times].shift(1, axis=1)) \\\n",
    "        .copy() \\\n",
    "        .drop(columns='time1') \\\n",
    "        .apply(lambda x: x.dt.total_seconds())\n",
    "\n",
    "    delta_df.columns = deltas\n",
    "    for delta in deltas:\n",
    "        feat_df[delta] = delta_df[delta]\n",
    "\n",
    "    feat_df['delta_avg'] = delta_df.mean(axis=1, skipna=True).fillna(0.0)\n",
    "\n",
    "    best_hours = ['hour_7', 'hour_8', 'hour_9', 'hour_10', 'hour_11', 'hour_14', 'hour_16', 'hour_17', 'hour_18',\n",
    "                  'hour_19', 'hour_20', 'hour_21', 'hour_22']\n",
    "    best_weekdays = ['weekday_0']\n",
    "    best_previous = ['morning', 'noon', 'evening']\n",
    "\n",
    "    return feat_df\n",
    "\n",
    "# Add the new feature to the sparse matrix\n",
    "def add_feature(feat: str, X_sparse, standardize=True, onehot=False):\n",
    "    tmp = feat_df[[feat]].values\n",
    "    if onehot:\n",
    "        enc = OneHotEncoder(dtype=np.uint8, sparse=False)\n",
    "        tmp = enc.fit_transform(tmp)\n",
    "    if standardize:\n",
    "        tmp = StandardScaler().fit_transform(tmp)\n",
    "    return hstack([X_sparse, tmp]).tocsr()\n",
    "\n",
    "\n",
    "def add_multi_feature(feat_list: list):\n",
    "    X_new = X_full\n",
    "    for feat in feat_list:\n",
    "        X_new = add_feature(feat, X_new)\n",
    "    return X_new[:idx_split, :], X_new[idx_split:, :]\n",
    "\n",
    "\n",
    "def test_feature(features: Union[list, str], standardize=True, onehot=False, C=1):\n",
    "    print(f\"Testing:\\t{features}\")\n",
    "\n",
    "    if isinstance(features, str):\n",
    "        features = [features]\n",
    "    \n",
    "    X_new = X_full\n",
    "    for feat in features:\n",
    "        X_new = add_feature(feat, X_new, onehot=onehot, standardize=standardize)\n",
    "    X_train_new = X_new[:idx_split, :]\n",
    "    score = get_auc_logit_score(X_train_new, y_train, C=C)\n",
    "\n",
    "    print(f\"Score:\\t\\t{score:.4f}\\t\", end=\"\")\n",
    "\n",
    "    if score > BASELINE:\n",
    "        print(f\"+++ baseline:\\t{BASELINE:.4f}\")\n",
    "    else:\n",
    "        print(f\"--- baseline:\\t{BASELINE:.4f}\")\n",
    "    return score\n",
    "\n",
    "\n",
    "def test_multi_feature(feat_list: list, C=1):\n",
    "    \"\"\"\n",
    "    Deprecated\n",
    "    \"\"\"\n",
    "    print(f\"Testing:\\t{feat_list}\")\n",
    "\n",
    "    X_new = X_full\n",
    "    for feat in feat_list:\n",
    "        X_new = add_feature(feat, X_sparse=X_new)\n",
    "    X_train_new = X_new[:idx_split, :]\n",
    "    score = get_auc_logit_score(X_train_new, y_train, C=C)\n",
    "\n",
    "    print(f\"Score:\\t\\t{score:.4f}\\t\", end=\"\")\n",
    "    if score > BASELINE:\n",
    "        print(f\"+++ baseline: {BASELINE:.4f}\")\n",
    "    else:\n",
    "        print(f\"--- baseline: {BASELINE:.4f}\")\n",
    "    return score\n",
    "\n",
    "\n",
    "def predict_probs(feat_list: list = None, C=1):\n",
    "    X_new = X_full\n",
    "\n",
    "    if feat_list is not None:\n",
    "        for feat in feat_list:\n",
    "            X_new = add_feature(feat, X_sparse=X_new)\n",
    "    else:\n",
    "        pass\n",
    "\n",
    "    X_train_new = X_new[:idx_split, :]\n",
    "    X_test_new = X_new[idx_split:, :]\n",
    "    estimator = LogisticRegression(C=C, random_state=17, solver='liblinear')\n",
    "    estimator.fit(X_train_new, y_train)\n",
    "    print(f\"Local score: {get_auc_logit_score(X_train_new, y_train, C=C):.4f}\")\n",
    "    return estimator.predict_proba(X_test_new)[:, 1]\n",
    "\n",
    "\n",
    "BASELINE = get_auc_logit_score(X_train, y_train)\n",
    "\n",
    "feat_df = get_features(full_df)"
   ]
  },
  {
   "cell_type": "code",
   "execution_count": 3,
   "id": "c82cde6e",
   "metadata": {},
   "outputs": [
    {
     "data": {
      "text/plain": [
       "Index(['weekday', 'weekday_0', 'weekday_1', 'weekday_2', 'weekday_3',\n",
       "       'weekday_4', 'weekday_5', 'weekday_6', 'hour_0', 'hour_1', 'hour_2',\n",
       "       'hour_3', 'hour_4', 'hour_5', 'hour_6', 'hour_7', 'hour_8', 'hour_9',\n",
       "       'hour_10', 'hour_11', 'hour_12', 'hour_13', 'hour_14', 'hour_15',\n",
       "       'hour_16', 'hour_17', 'hour_18', 'hour_19', 'hour_20', 'hour_21',\n",
       "       'hour_22', 'duration', 'hour_sin', 'hour_cos', 'hour', 'morning',\n",
       "       'noon', 'evening', 'night', 'delta1', 'delta2', 'delta3', 'delta4',\n",
       "       'delta5', 'delta6', 'delta7', 'delta8', 'delta9', 'delta_avg'],\n",
       "      dtype='object')"
      ]
     },
     "execution_count": 3,
     "metadata": {},
     "output_type": "execute_result"
    }
   ],
   "source": [
    "feat_df.columns"
   ]
  },
  {
   "cell_type": "code",
   "execution_count": 4,
   "id": "610c3296",
   "metadata": {},
   "outputs": [
    {
     "data": {
      "text/plain": [
       "<AxesSubplot:xlabel='weekday', ylabel='Density'>"
      ]
     },
     "execution_count": 4,
     "metadata": {},
     "output_type": "execute_result"
    },
    {
     "data": {
      "image/png": "[encoded data removed]",
      "text/plain": [
       "<Figure size 432x288 with 1 Axes>"
      ]
     },
     "metadata": {},
     "output_type": "display_data"
    }
   ],
   "source": [
    "import seaborn as sns\n",
    "sns.histplot(x='weekday',\n",
    "             hue=y_train,\n",
    "             data=feat_df[:idx_split],\n",
    "             stat='density',\n",
    "             common_norm=False,\n",
    "#              multiple=\"dodge\",\n",
    "#              binwidth=1,\n",
    "             discrete=True,\n",
    "             log_scale=(False, True)\n",
    "             )"
   ]
  },
  {
   "cell_type": "code",
   "execution_count": 10,
   "id": "e6caff6b",
   "metadata": {},
   "outputs": [
    {
     "data": {
      "image/png": "[encoded data removed]",
      "text/plain": [
       "<Figure size 432x288 with 1 Axes>"
      ]
     },
     "metadata": {},
     "output_type": "display_data"
    }
   ],
   "source": [
    "sns.histplot(x='hour', \n",
    "             hue=y_train,\n",
    "             data=feat_df[:idx_split],\n",
    "             stat='density',\n",
    "             common_norm=False,\n",
    "#              multiple=\"dodge\",\n",
    "#              binwidth=1,\n",
    "             discrete=True,\n",
    "             log_scale=(False, True))\n",
    "plt.show()"
   ]
  },
  {
   "cell_type": "code",
   "execution_count": 6,
   "id": "d470a5fd",
   "metadata": {},
   "outputs": [
    {
     "data": {
      "text/plain": [
       "<AxesSubplot:xlabel='duration', ylabel='Density'>"
      ]
     },
     "execution_count": 6,
     "metadata": {},
     "output_type": "execute_result"
    },
    {
     "data": {
      "image/png": "[encoded data removed]",
      "text/plain": [
       "<Figure size 432x288 with 1 Axes>"
      ]
     },
     "metadata": {},
     "output_type": "display_data"
    }
   ],
   "source": [
    "sns.histplot(x='duration',\n",
    "             hue=y_train,\n",
    "             data=feat_df[:idx_split],\n",
    "             stat='density',\n",
    "             common_norm=False,\n",
    "#              multiple=\"dodge\",\n",
    "             binwidth=50,\n",
    "#              discrete=True,\n",
    "             log_scale=(False, True))"
   ]
  },
  {
   "cell_type": "code",
   "execution_count": 7,
   "id": "bc977cb0",
   "metadata": {},
   "outputs": [
    {
     "data": {
      "text/plain": [
       "<AxesSubplot:xlabel='delta_avg', ylabel='Density'>"
      ]
     },
     "execution_count": 7,
     "metadata": {},
     "output_type": "execute_result"
    },
    {
     "data": {
      "image/png": "[encoded data removed]",
      "text/plain": [
       "<Figure size 432x288 with 1 Axes>"
      ]
     },
     "metadata": {},
     "output_type": "display_data"
    }
   ],
   "source": [
    "sns.histplot(x='delta_avg',\n",
    "             hue=y_train,\n",
    "             data=feat_df[:idx_split],\n",
    "             stat='density',\n",
    "             common_norm=False,\n",
    "#              multiple=\"dodge\",\n",
    "             binwidth=50,\n",
    "#              discrete=True,\n",
    "             log_scale=(False, True))"
   ]
  }
 ],
 "metadata": {
  "kernelspec": {
   "display_name": "Python 3",
   "language": "python",
   "name": "python3"
  },
  "language_info": {
   "codemirror_mode": {
    "name": "ipython",
    "version": 3
   },
   "file_extension": ".py",
   "mimetype": "text/x-python",
   "name": "python",
   "nbconvert_exporter": "python",
   "pygments_lexer": "ipython3",
   "version": "3.7.10"
  }
 },
 "nbformat": 4,
 "nbformat_minor": 5
}
