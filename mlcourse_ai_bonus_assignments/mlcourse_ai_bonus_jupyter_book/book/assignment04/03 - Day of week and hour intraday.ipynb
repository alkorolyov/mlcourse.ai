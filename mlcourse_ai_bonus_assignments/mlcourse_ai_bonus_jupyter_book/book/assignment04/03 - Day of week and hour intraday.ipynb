{
 "cells": [
  {
   "cell_type": "code",
   "execution_count": 1,
   "id": "bcdb8402",
   "metadata": {},
   "outputs": [],
   "source": [
    "import numpy as np\n",
    "import pandas as pd\n",
    "from math import isclose\n",
    "from scipy.sparse import hstack, vstack\n",
    "from sklearn.feature_extraction.text import CountVectorizer, TfidfVectorizer\n",
    "from sklearn.model_selection import TimeSeriesSplit, cross_val_score, GridSearchCV\n",
    "from sklearn.metrics import roc_auc_score\n",
    "from sklearn.linear_model import LogisticRegression\n",
    "from sklearn.preprocessing import StandardScaler, OneHotEncoder\n",
    "from typing import Union, List"
   ]
  },
  {
   "cell_type": "code",
   "execution_count": 62,
   "id": "c62bdc49",
   "metadata": {},
   "outputs": [],
   "source": [
    "def write_to_submission_file(predicted_probs, out_file: str = 'to_submission.csv',\n",
    "                             target='target', index_label='session_id'):\n",
    "    df = pd.DataFrame(predicted_probs,\n",
    "                      index = np.arange(1, len(predicted_probs) + 1),\n",
    "                      columns=[target])\n",
    "    df.to_csv(out_file, index_label=index_label, compression=\"zip\")"
   ]
  },
  {
   "cell_type": "code",
   "execution_count": 3,
   "id": "5c200479",
   "metadata": {},
   "outputs": [],
   "source": [
    "\"\"\"Define all type transformations in a single function\"\"\"\n",
    "def convert_types(df: pd.DataFrame) -> pd.DataFrame:\n",
    "    sites = [s for s in df.columns if \"site\" in s]\n",
    "    df[sites] = df[sites].fillna(0).astype('uint16')\n",
    "    times = [t for t in df.columns if \"time\" in t]\n",
    "    df[times] = df[times].apply(pd.to_datetime)\n",
    "    if 'target' in df.columns:\n",
    "        df['target'] = df.target.astype('uint8')\n",
    "    return df"
   ]
  },
  {
   "cell_type": "code",
   "execution_count": 4,
   "id": "6bab86fb",
   "metadata": {},
   "outputs": [],
   "source": [
    "import os\n",
    "# os.getcwd()\n",
    "# os.listdir(\"../../../../\")\n",
    "\n",
    "train_df = pd.read_csv('../../../../data/catch-me-if-you-can-intruder-detection-through-webpage-session-tracking2/train_sessions.csv.zip')\n",
    "train_df = convert_types(train_df)\n",
    "train_df.sort_values(by='time1', inplace=True)\n",
    "\n",
    "test_df = pd.read_csv('../../../../data/catch-me-if-you-can-intruder-detection-through-webpage-session-tracking2/test_sessions.csv.zip')\n",
    "test_df = convert_types(test_df)"
   ]
  },
  {
   "cell_type": "code",
   "execution_count": 5,
   "id": "eb74a951",
   "metadata": {},
   "outputs": [
    {
     "data": {
      "text/plain": [
       "(['site1',\n",
       "  'site2',\n",
       "  'site3',\n",
       "  'site4',\n",
       "  'site5',\n",
       "  'site6',\n",
       "  'site7',\n",
       "  'site8',\n",
       "  'site9',\n",
       "  'site10'],\n",
       " ['time1',\n",
       "  'time2',\n",
       "  'time3',\n",
       "  'time4',\n",
       "  'time5',\n",
       "  'time6',\n",
       "  'time7',\n",
       "  'time8',\n",
       "  'time9',\n",
       "  'time10'])"
      ]
     },
     "execution_count": 5,
     "metadata": {},
     "output_type": "execute_result"
    }
   ],
   "source": [
    "sites = [s for s in train_df.columns if 'site' in s]\n",
    "times = [t for t in train_df.columns if 'time' in t]\n",
    "\n",
    "sites, times"
   ]
  },
  {
   "cell_type": "code",
   "execution_count": 6,
   "id": "c626c46d",
   "metadata": {},
   "outputs": [],
   "source": [
    "# Our target variable\n",
    "y_train = train_df[\"target\"]\n",
    "\n",
    "# United dataframe of the initial data\n",
    "full_df = pd.concat([train_df.drop(\"target\", axis=1), test_df])\n",
    "\n",
    "# Index to split the training and test data sets\n",
    "idx_split = train_df.shape[0]"
   ]
  },
  {
   "cell_type": "code",
   "execution_count": 7,
   "id": "fadd847a",
   "metadata": {},
   "outputs": [
    {
     "name": "stdout",
     "output_type": "stream",
     "text": [
      "Wall time: 8.01 s\n"
     ]
    },
    {
     "data": {
      "text/plain": [
       "['   56    55     0     0     0     0     0     0     0     0',\n",
       " '   56    55    56    55     0     0     0     0     0     0',\n",
       " '  946   946   951   946   946   945   948   784   949   946',\n",
       " '  945   948   949   948   945   946   947   945   946   946',\n",
       " '  947   950   948   947   950   952   946   951   946   947',\n",
       " '  952   947   953   946   947   946   953   955   946   947',\n",
       " '  953   947   946   953   955   947   953   946   953  1033',\n",
       " '  946   947   954   953   946   954   946   956   957   956',\n",
       " '  946   956   946   946   955   954   946   946   946   948',\n",
       " '  948   946   948   784    49    53   812   982    52    52']"
      ]
     },
     "execution_count": 7,
     "metadata": {},
     "output_type": "execute_result"
    }
   ],
   "source": [
    "%%time\n",
    "sites_corpus = full_df[sites].to_string(header=False, index=False).split('\\n')\n",
    "\n",
    "sites_corpus[:10]"
   ]
  },
  {
   "cell_type": "code",
   "execution_count": 8,
   "id": "906b14ef",
   "metadata": {},
   "outputs": [
    {
     "name": "stdout",
     "output_type": "stream",
     "text": [
      "Wall time: 7.93 s\n"
     ]
    },
    {
     "data": {
      "text/plain": [
       "<336358x20000 sparse matrix of type '<class 'numpy.float64'>'\n",
       "\twith 3251875 stored elements in Compressed Sparse Row format>"
      ]
     },
     "execution_count": 8,
     "metadata": {},
     "output_type": "execute_result"
    }
   ],
   "source": [
    "%%time\n",
    "tfv = TfidfVectorizer(ngram_range=(1,2), max_features=20000)\n",
    "X_train = tfv.fit_transform(sites_corpus[:idx_split])\n",
    "X_test = tfv.transform(sites_corpus[idx_split:])\n",
    "\n",
    "X_full = vstack([X_train, X_test]).tocsr()\n",
    "X_full"
   ]
  },
  {
   "cell_type": "code",
   "execution_count": 67,
   "id": "f89d8305",
   "metadata": {},
   "outputs": [],
   "source": [
    "logit = LogisticRegression(C=1, random_state=17, solver='liblinear')\n",
    "time_split = TimeSeriesSplit(n_splits=10)\n",
    "\n",
    "def get_auc_logit_score(X, y, C=1.0, seed=17, n_splits=10):\n",
    "    # Split the data into the training and validation sets\n",
    "    time_split = TimeSeriesSplit(n_splits=n_splits)\n",
    "    logit = LogisticRegression(C=C, random_state=17, solver='liblinear')\n",
    "    cv_scores = cross_val_score(logit, X, y, cv=time_split, scoring='roc_auc', n_jobs=-1)\n",
    "    return cv_scores.mean()"
   ]
  },
  {
   "cell_type": "code",
   "execution_count": 10,
   "id": "82b38faf",
   "metadata": {},
   "outputs": [
    {
     "name": "stdout",
     "output_type": "stream",
     "text": [
      "Wall time: 7.79 s\n"
     ]
    },
    {
     "data": {
      "text/plain": [
       "0.8692386533117059"
      ]
     },
     "execution_count": 10,
     "metadata": {},
     "output_type": "execute_result"
    }
   ],
   "source": [
    "%%time\n",
    "get_auc_logit_score(X_train, y_train)"
   ]
  },
  {
   "cell_type": "code",
   "execution_count": 65,
   "id": "1dab6c99",
   "metadata": {},
   "outputs": [],
   "source": [
    "# Add the new feature to the sparse matrix\n",
    "def add_feature(feat: str, f_df: pd.DataFrame = feat_df, X_sparse = X_full, standardize=True, onehot=False):\n",
    "    tmp = f_df[[feat]].values    \n",
    "    if onehot:\n",
    "        enc = OneHotEncoder(dtype=np.uint8, sparse=False)\n",
    "        tmp = enc.fit_transform(tmp)\n",
    "    if standardize:\n",
    "        tmp = StandardScaler().fit_transform(tmp)        \n",
    "    return hstack([X_sparse, tmp]).tocsr()"
   ]
  },
  {
   "cell_type": "code",
   "execution_count": 66,
   "id": "5faa2eb4",
   "metadata": {},
   "outputs": [],
   "source": [
    "def add_multi_feature(feat_list: list, f_df: pd.DataFrame = feat_df, X_sparse = X_full):\n",
    "    X_new = X_sparse\n",
    "    for feat in feat_list:\n",
    "        X_new = add_feature(feat, X_sparse=X_new)\n",
    "    return X_new[:idx_split, :], X_new[idx_split:, :]     "
   ]
  },
  {
   "cell_type": "code",
   "execution_count": 64,
   "id": "e1347bea",
   "metadata": {},
   "outputs": [],
   "source": [
    "def test_feature(feat: str, standardize=True, onehot=False, baseline=0.8693, C=1):\n",
    "    print(f\"Testing:\\t{feat}\")\n",
    "    \n",
    "    X_new = add_feature(feat, standardize=standardize, onehot=onehot)\n",
    "    X_train = X_new[:idx_split, :]\n",
    "    score = get_auc_logit_score(X_train, y_train, C=C)\n",
    "    \n",
    "    print(f\"Score:\\t\\t{score:.4f}\\t\", end=\"\")\n",
    "    if score > baseline:\n",
    "        print(\"+++\")\n",
    "        return True\n",
    "    else:\n",
    "        print(\"---\")\n",
    "        return False"
   ]
  },
  {
   "cell_type": "code",
   "execution_count": 71,
   "id": "fd0c3e16",
   "metadata": {},
   "outputs": [],
   "source": [
    "def test_multi_feature(feat_list: list, baseline=0.8693, C=1):    \n",
    "    print(f\"Testing:\\t{feat_list}\")\n",
    "    \n",
    "    X_new = X_full\n",
    "    for feat in feat_list:\n",
    "        X_new = add_feature(feat, X_sparse=X_new)\n",
    "    X_train = X_new[:idx_split, :]\n",
    "    score = get_auc_logit_score(X_train, y_train, C=C)\n",
    "    \n",
    "    print(f\"Score:\\t\\t{score:.4f}\\t\", end=\"\")\n",
    "    if score > baseline:\n",
    "        print(\"+++\")\n",
    "    else:\n",
    "        print(\"---\")\n",
    "    return\n",
    "    "
   ]
  },
  {
   "cell_type": "code",
   "execution_count": 18,
   "id": "39198d2e",
   "metadata": {},
   "outputs": [
    {
     "data": {
      "text/html": [
       "<div>\n",
       "<style scoped>\n",
       "    .dataframe tbody tr th:only-of-type {\n",
       "        vertical-align: middle;\n",
       "    }\n",
       "\n",
       "    .dataframe tbody tr th {\n",
       "        vertical-align: top;\n",
       "    }\n",
       "\n",
       "    .dataframe thead th {\n",
       "        text-align: right;\n",
       "    }\n",
       "</style>\n",
       "<table border=\"1\" class=\"dataframe\">\n",
       "  <thead>\n",
       "    <tr style=\"text-align: right;\">\n",
       "      <th></th>\n",
       "      <th>weekday</th>\n",
       "    </tr>\n",
       "  </thead>\n",
       "  <tbody>\n",
       "    <tr>\n",
       "      <th>21668</th>\n",
       "      <td>5</td>\n",
       "    </tr>\n",
       "    <tr>\n",
       "      <th>54842</th>\n",
       "      <td>5</td>\n",
       "    </tr>\n",
       "    <tr>\n",
       "      <th>77291</th>\n",
       "      <td>5</td>\n",
       "    </tr>\n",
       "    <tr>\n",
       "      <th>114020</th>\n",
       "      <td>5</td>\n",
       "    </tr>\n",
       "    <tr>\n",
       "      <th>146669</th>\n",
       "      <td>5</td>\n",
       "    </tr>\n",
       "  </tbody>\n",
       "</table>\n",
       "</div>"
      ],
      "text/plain": [
       "        weekday\n",
       "21668         5\n",
       "54842         5\n",
       "77291         5\n",
       "114020        5\n",
       "146669        5"
      ]
     },
     "execution_count": 18,
     "metadata": {},
     "output_type": "execute_result"
    }
   ],
   "source": [
    "# Features engineering\n",
    "feat_df = pd.DataFrame(index=full_df.index)\n",
    "feat_df['weekday'] = full_df['time1'].dt.weekday\n",
    "feat_df.head()"
   ]
  },
  {
   "cell_type": "code",
   "execution_count": 22,
   "id": "eab0e91f",
   "metadata": {},
   "outputs": [
    {
     "name": "stdout",
     "output_type": "stream",
     "text": [
      "Testing:\tweekday\n",
      "Score:\t\t0.8668\t---\n"
     ]
    },
    {
     "data": {
      "text/plain": [
       "False"
      ]
     },
     "execution_count": 22,
     "metadata": {},
     "output_type": "execute_result"
    }
   ],
   "source": [
    "test_feature('weekday')"
   ]
  },
  {
   "cell_type": "code",
   "execution_count": 23,
   "id": "58355cbf",
   "metadata": {},
   "outputs": [
    {
     "name": "stdout",
     "output_type": "stream",
     "text": [
      "Testing:\tweekday\n",
      "Score:\t\t0.8446\t---\n"
     ]
    },
    {
     "data": {
      "text/plain": [
       "False"
      ]
     },
     "execution_count": 23,
     "metadata": {},
     "output_type": "execute_result"
    }
   ],
   "source": [
    "test_feature('weekday', onehot=True, standardize=False)"
   ]
  },
  {
   "cell_type": "code",
   "execution_count": 24,
   "id": "f35dd140",
   "metadata": {},
   "outputs": [
    {
     "name": "stdout",
     "output_type": "stream",
     "text": [
      "Testing:\tweekday\n",
      "Score:\t\t0.8368\t---\n"
     ]
    },
    {
     "data": {
      "text/plain": [
       "False"
      ]
     },
     "execution_count": 24,
     "metadata": {},
     "output_type": "execute_result"
    }
   ],
   "source": [
    "test_feature('weekday', onehot=True, standardize=True)"
   ]
  },
  {
   "cell_type": "code",
   "execution_count": 70,
   "id": "a81e0b0c",
   "metadata": {},
   "outputs": [
    {
     "name": "stdout",
     "output_type": "stream",
     "text": [
      "Testing:\tweekday_0\n",
      "Score:\t\t0.8776\t+++\n",
      "Testing:\tweekday_1\n",
      "Score:\t\t0.8680\t---\n",
      "Testing:\tweekday_2\n",
      "Score:\t\t0.8644\t---\n",
      "Testing:\tweekday_3\n",
      "Score:\t\t0.8509\t---\n",
      "Testing:\tweekday_4\n",
      "Score:\t\t0.8442\t---\n",
      "Testing:\tweekday_5\n",
      "Score:\t\t0.8540\t---\n",
      "Testing:\tweekday_6\n",
      "Score:\t\t0.8690\t---\n"
     ]
    }
   ],
   "source": [
    "best_weekdays = []\n",
    "for weekday in range(7):\n",
    "    feat_name = f'weekday_{weekday}'\n",
    "    feat_df[feat_name] = (full_df['time1'].dt.weekday == weekday).astype(int)\n",
    "    if test_feature(feat_name):\n",
    "        best_weekdays.append(feat_name)"
   ]
  },
  {
   "cell_type": "code",
   "execution_count": 27,
   "id": "bff63874",
   "metadata": {},
   "outputs": [],
   "source": [
    "feat_df['hour'] = full_df['time1'].dt.hour.astype(int)"
   ]
  },
  {
   "cell_type": "code",
   "execution_count": 28,
   "id": "c95ef156",
   "metadata": {},
   "outputs": [
    {
     "name": "stdout",
     "output_type": "stream",
     "text": [
      "Testing:\thour\n",
      "Score:\t\t0.8991\t+++\n"
     ]
    },
    {
     "data": {
      "text/plain": [
       "True"
      ]
     },
     "execution_count": 28,
     "metadata": {},
     "output_type": "execute_result"
    }
   ],
   "source": [
    "test_feature('hour')"
   ]
  },
  {
   "cell_type": "code",
   "execution_count": 29,
   "id": "454d38ec",
   "metadata": {},
   "outputs": [
    {
     "name": "stdout",
     "output_type": "stream",
     "text": [
      "Testing:\thour\n",
      "Score:\t\t0.9064\t+++\n"
     ]
    },
    {
     "data": {
      "text/plain": [
       "True"
      ]
     },
     "execution_count": 29,
     "metadata": {},
     "output_type": "execute_result"
    }
   ],
   "source": [
    "test_feature('hour', onehot=True)"
   ]
  },
  {
   "cell_type": "code",
   "execution_count": 69,
   "id": "b363d19f",
   "metadata": {},
   "outputs": [
    {
     "name": "stdout",
     "output_type": "stream",
     "text": [
      "Testing:\thour_0\n",
      "Score:\t\t0.8692\t---\n",
      "Testing:\thour_1\n",
      "Score:\t\t0.8692\t---\n",
      "Testing:\thour_2\n",
      "Score:\t\t0.8692\t---\n",
      "Testing:\thour_3\n",
      "Score:\t\t0.8692\t---\n",
      "Testing:\thour_4\n",
      "Score:\t\t0.8692\t---\n",
      "Testing:\thour_5\n",
      "Score:\t\t0.8692\t---\n",
      "Testing:\thour_6\n",
      "Score:\t\t0.8692\t---\n",
      "Testing:\thour_7\n",
      "Score:\t\t0.8694\t+++\n",
      "Testing:\thour_8\n",
      "Score:\t\t0.8798\t+++\n",
      "Testing:\thour_9\n",
      "Score:\t\t0.8768\t+++\n",
      "Testing:\thour_10\n",
      "Score:\t\t0.8838\t+++\n",
      "Testing:\thour_11\n",
      "Score:\t\t0.8822\t+++\n",
      "Testing:\thour_12\n",
      "Score:\t\t0.8542\t---\n",
      "Testing:\thour_13\n",
      "Score:\t\t0.8487\t---\n",
      "Testing:\thour_14\n",
      "Score:\t\t0.8806\t+++\n",
      "Testing:\thour_15\n",
      "Score:\t\t0.8592\t---\n",
      "Testing:\thour_16\n",
      "Score:\t\t0.8746\t+++\n",
      "Testing:\thour_17\n",
      "Score:\t\t0.8763\t+++\n",
      "Testing:\thour_18\n",
      "Score:\t\t0.8730\t+++\n",
      "Testing:\thour_19\n",
      "Score:\t\t0.8699\t+++\n",
      "Testing:\thour_20\n",
      "Score:\t\t0.8696\t+++\n",
      "Testing:\thour_21\n",
      "Score:\t\t0.8699\t+++\n",
      "Testing:\thour_22\n",
      "Score:\t\t0.8698\t+++\n",
      "['hour_7', 'hour_8', 'hour_9', 'hour_10', 'hour_11', 'hour_14', 'hour_16', 'hour_17', 'hour_18', 'hour_19', 'hour_20', 'hour_21', 'hour_22']\n"
     ]
    }
   ],
   "source": [
    "best_hours = []\n",
    "for hour in range(23):\n",
    "    feat_name = f'hour_{hour}'\n",
    "    feat_df[feat_name] = (full_df['time1'].dt.hour == hour).astype(int)\n",
    "    if test_feature(feat_name):\n",
    "        best_hours.append(feat_name)\n",
    "print(best_hours)"
   ]
  },
  {
   "cell_type": "code",
   "execution_count": 33,
   "id": "72b12ef8",
   "metadata": {},
   "outputs": [
    {
     "name": "stdout",
     "output_type": "stream",
     "text": [
      "Testing:\t['weekday_0']\n",
      "Score:\t\t0.8776\t+++\n"
     ]
    }
   ],
   "source": [
    "test_multi_feature(best_weekdays)"
   ]
  },
  {
   "cell_type": "code",
   "execution_count": 31,
   "id": "e0e13ebb",
   "metadata": {},
   "outputs": [
    {
     "name": "stdout",
     "output_type": "stream",
     "text": [
      "Testing:\t['hour_7', 'hour_8', 'hour_9', 'hour_10', 'hour_11', 'hour_14', 'hour_16', 'hour_17', 'hour_18', 'hour_19', 'hour_20', 'hour_21', 'hour_22']\n",
      "Score:\t\t0.9184\t+++\n"
     ]
    }
   ],
   "source": [
    "test_multi_feature(best_hours)"
   ]
  },
  {
   "cell_type": "code",
   "execution_count": 32,
   "id": "246c9e05",
   "metadata": {},
   "outputs": [
    {
     "name": "stdout",
     "output_type": "stream",
     "text": [
      "Testing:\t['hour_7', 'hour_8', 'hour_9', 'hour_10', 'hour_11', 'hour_14', 'hour_16', 'hour_17', 'hour_18', 'hour_19', 'hour_20', 'hour_21', 'hour_22', 'weekday_0']\n",
      "Score:\t\t0.9193\t+++\n"
     ]
    }
   ],
   "source": [
    "test_multi_feature(best_hours+best_weekdays)"
   ]
  },
  {
   "cell_type": "code",
   "execution_count": 59,
   "id": "3162763d",
   "metadata": {},
   "outputs": [],
   "source": [
    "def predict_probs(feat_list: list,  C=1):\n",
    "    X_new = X_full\n",
    "    for feat in feat_list:\n",
    "        X_new = add_feature(feat, X_sparse=X_new)\n",
    "    X_train = X_new[:idx_split, :]\n",
    "    X_test = X_new[idx_split:, :]\n",
    "    estimator = LogisticRegression(C=C, random_state=17, solver='liblinear')\n",
    "    estimator.fit(X_train, y_train)\n",
    "    return estimator.predict_proba(X_test)[:, 1]"
   ]
  },
  {
   "cell_type": "code",
   "execution_count": 42,
   "id": "f3562b46",
   "metadata": {},
   "outputs": [
    {
     "name": "stdout",
     "output_type": "stream",
     "text": [
      "Wall time: 7.82 s\n"
     ]
    }
   ],
   "source": [
    "%%time\n",
    "y_pred = predict_probs(best_hours + best_weekdays)\n",
    "write_to_submission_file(y_pred, out_file='logit_subm8.zip.csv')"
   ]
  },
  {
   "cell_type": "code",
   "execution_count": 52,
   "id": "33a42f71",
   "metadata": {},
   "outputs": [],
   "source": [
    "### Optimize regularization for best set of features\n",
    "\n",
    "c_values = np.logspace(0, 2, 10)\n",
    "logit_grid_searcher = GridSearchCV(estimator=logit,\n",
    "                                   param_grid={'C': c_values},\n",
    "                                   scoring='roc_auc',\n",
    "                                   cv=time_split,\n",
    "                                   n_jobs=-1,\n",
    "                                   verbose=1)"
   ]
  },
  {
   "cell_type": "code",
   "execution_count": 49,
   "id": "386874bb",
   "metadata": {},
   "outputs": [],
   "source": [
    "X_train_new, X_test_new = add_multi_feature(best_hours + best_weekdays)"
   ]
  },
  {
   "cell_type": "code",
   "execution_count": 53,
   "id": "737a93a3",
   "metadata": {},
   "outputs": [
    {
     "name": "stdout",
     "output_type": "stream",
     "text": [
      "Fitting 10 folds for each of 10 candidates, totalling 100 fits\n"
     ]
    },
    {
     "data": {
      "text/plain": [
       "GridSearchCV(cv=TimeSeriesSplit(gap=0, max_train_size=None, n_splits=10, test_size=None),\n",
       "             estimator=LogisticRegression(C=1, random_state=17,\n",
       "                                          solver='liblinear'),\n",
       "             n_jobs=1,\n",
       "             param_grid={'C': array([  0.1       ,   0.21544347,   0.46415888,   1.        ,\n",
       "         2.15443469,   4.64158883,  10.        ,  21.5443469 ,\n",
       "        46.41588834, 100.        ])},\n",
       "             scoring='roc_auc', verbose=1)"
      ]
     },
     "execution_count": 53,
     "metadata": {},
     "output_type": "execute_result"
    }
   ],
   "source": [
    "logit_grid_searcher.fit(X_train_new, y_train)"
   ]
  },
  {
   "cell_type": "code",
   "execution_count": 54,
   "id": "8c27d7dc",
   "metadata": {},
   "outputs": [
    {
     "data": {
      "text/plain": [
       "(0.9253743965862873, {'C': 46.41588833612777})"
      ]
     },
     "execution_count": 54,
     "metadata": {},
     "output_type": "execute_result"
    }
   ],
   "source": [
    "logit_grid_searcher.best_score_, logit_grid_searcher.best_params_"
   ]
  },
  {
   "cell_type": "code",
   "execution_count": 57,
   "id": "240af320",
   "metadata": {},
   "outputs": [],
   "source": [
    "logit_test_probs = logit_grid_searcher.predict_proba(X_test_new)[:, 1]\n",
    "write_to_submission_file(logit_test_probs, 'logit_subm9.csv.zip')"
   ]
  },
  {
   "cell_type": "code",
   "execution_count": 72,
   "id": "8e43bb44",
   "metadata": {},
   "outputs": [
    {
     "name": "stdout",
     "output_type": "stream",
     "text": [
      "Testing:\t['hour_7', 'hour_8', 'hour_9', 'hour_10', 'hour_11', 'hour_14', 'hour_16', 'hour_17', 'hour_18', 'hour_19', 'hour_20', 'hour_21', 'hour_22', 'weekday_0']\n",
      "Score:\t\t0.9239\t+++\n"
     ]
    }
   ],
   "source": [
    "test_multi_feature(best_hours + best_weekdays, C=4.64)"
   ]
  },
  {
   "cell_type": "code",
   "execution_count": 63,
   "id": "1efaa581",
   "metadata": {},
   "outputs": [
    {
     "name": "stdout",
     "output_type": "stream",
     "text": [
      "Wall time: 10.5 s\n"
     ]
    }
   ],
   "source": [
    "%%time\n",
    "write_to_submission_file(predict_probs(best_hours + best_weekdays, C=4.64), 'logit_subm10.csv.zip')"
   ]
  }
 ],
 "metadata": {
  "kernelspec": {
   "display_name": "Python 3",
   "language": "python",
   "name": "python3"
  },
  "language_info": {
   "codemirror_mode": {
    "name": "ipython",
    "version": 3
   },
   "file_extension": ".py",
   "mimetype": "text/x-python",
   "name": "python",
   "nbconvert_exporter": "python",
   "pygments_lexer": "ipython3",
   "version": "3.7.10"
  }
 },
 "nbformat": 4,
 "nbformat_minor": 5
}
