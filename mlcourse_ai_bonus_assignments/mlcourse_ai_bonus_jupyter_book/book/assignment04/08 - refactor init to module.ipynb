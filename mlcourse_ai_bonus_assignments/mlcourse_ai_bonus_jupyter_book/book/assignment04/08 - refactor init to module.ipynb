{
 "cells": [
  {
   "cell_type": "code",
   "execution_count": 66,
   "id": "9384b503",
   "metadata": {},
   "outputs": [
    {
     "name": "stdout",
     "output_type": "stream",
     "text": [
      "Wall time: 29.2 s\n"
     ]
    }
   ],
   "source": [
    "%%time\n",
    "from tools import *\n",
    "initialize()"
   ]
  },
  {
   "cell_type": "code",
   "execution_count": 62,
   "id": "41a5eb0a",
   "metadata": {},
   "outputs": [],
   "source": [
    "from math import isclose\n",
    "from matplotlib import pyplot as plt\n",
    "from sklearn.tree import DecisionTreeClassifier, plot_tree\n",
    "from sklearn.metrics import roc_auc_score"
   ]
  },
  {
   "cell_type": "code",
   "execution_count": 63,
   "id": "b7100b59",
   "metadata": {},
   "outputs": [
    {
     "data": {
      "text/plain": [
       "Index(['weekday_0', 'weekday_1', 'weekday_2', 'weekday_3', 'weekday_4',\n",
       "       'weekday_5', 'weekday_6', 'hour_0', 'hour_1', 'hour_2', 'hour_3',\n",
       "       'hour_4', 'hour_5', 'hour_6', 'hour_7', 'hour_8', 'hour_9', 'hour_10',\n",
       "       'hour_11', 'hour_12', 'hour_13', 'hour_14', 'hour_15', 'hour_16',\n",
       "       'hour_17', 'hour_18', 'hour_19', 'hour_20', 'hour_21', 'hour_22',\n",
       "       'duration', 'morning', 'noon', 'evening', 'night'],\n",
       "      dtype='object')"
      ]
     },
     "execution_count": 63,
     "metadata": {},
     "output_type": "execute_result"
    }
   ],
   "source": [
    "feat_df.columns"
   ]
  },
  {
   "cell_type": "code",
   "execution_count": 72,
   "id": "78d0bc69",
   "metadata": {},
   "outputs": [
    {
     "data": {
      "text/plain": [
       "0.8692386533117059"
      ]
     },
     "execution_count": 72,
     "metadata": {},
     "output_type": "execute_result"
    }
   ],
   "source": [
    "tools.BASELINE"
   ]
  },
  {
   "cell_type": "code",
   "execution_count": 67,
   "id": "ea1172f8",
   "metadata": {},
   "outputs": [
    {
     "name": "stdout",
     "output_type": "stream",
     "text": [
      "Testing:\t['hour_7', 'hour_8', 'hour_9', 'hour_10', 'hour_11']\n",
      "Score:\t\t0.9202\t+++ baseline:\t0.0000\n"
     ]
    },
    {
     "data": {
      "text/plain": [
       "0.920210507604193"
      ]
     },
     "execution_count": 67,
     "metadata": {},
     "output_type": "execute_result"
    }
   ],
   "source": [
    "test_feature(['hour_7', 'hour_8', 'hour_9', 'hour_10','hour_11'])"
   ]
  },
  {
   "cell_type": "code",
   "execution_count": 68,
   "id": "8498f3cb",
   "metadata": {},
   "outputs": [
    {
     "name": "stdout",
     "output_type": "stream",
     "text": [
      "Testing:\tmorning\n",
      "Score:\t\t0.9214\t+++ baseline:\t0.0000\n"
     ]
    },
    {
     "data": {
      "text/plain": [
       "0.921390629228388"
      ]
     },
     "execution_count": 68,
     "metadata": {},
     "output_type": "execute_result"
    }
   ],
   "source": [
    "test_feature('morning')"
   ]
  },
  {
   "cell_type": "code",
   "execution_count": 59,
   "id": "7bc2927a",
   "metadata": {},
   "outputs": [],
   "source": [
    "write_to_submission_file(predict_probs(['morning']), out_file='logit_subm13.csv.zip')"
   ]
  },
  {
   "cell_type": "code",
   "execution_count": 60,
   "id": "d1bffd00",
   "metadata": {},
   "outputs": [],
   "source": [
    "write_to_submission_file(predict_probs(['hour_7', 'hour_8', 'hour_9', 'hour_10','hour_11']), out_file='logit_subm14.csv.zip')"
   ]
  },
  {
   "cell_type": "code",
   "execution_count": null,
   "id": "edd471c9",
   "metadata": {},
   "outputs": [],
   "source": [
    "# baseline\n"
   ]
  }
 ],
 "metadata": {
  "kernelspec": {
   "display_name": "Python 3",
   "language": "python",
   "name": "python3"
  },
  "language_info": {
   "codemirror_mode": {
    "name": "ipython",
    "version": 3
   },
   "file_extension": ".py",
   "mimetype": "text/x-python",
   "name": "python",
   "nbconvert_exporter": "python",
   "pygments_lexer": "ipython3",
   "version": "3.7.10"
  }
 },
 "nbformat": 4,
 "nbformat_minor": 5
}
