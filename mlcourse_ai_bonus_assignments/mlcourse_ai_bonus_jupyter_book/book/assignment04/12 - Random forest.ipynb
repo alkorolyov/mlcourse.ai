{
 "cells": [
  {
   "cell_type": "code",
   "execution_count": 1,
   "id": "41a5eb0a",
   "metadata": {},
   "outputs": [],
   "source": [
    "\n",
    "import numpy as np\n",
    "import pandas as pd\n",
    "from scipy.sparse import hstack, vstack, csr_matrix\n",
    "from matplotlib import pyplot as plt\n",
    "from sklearn.tree import DecisionTreeClassifier, plot_tree\n",
    "from sklearn.metrics import roc_auc_score\n",
    "from sklearn.model_selection import TimeSeriesSplit, cross_val_score, cross_validate, GridSearchCV\n",
    "from sklearn.ensemble import RandomForestClassifier\n",
    "from sklearn.linear_model import LogisticRegression\n",
    "from sklearn.feature_extraction.text import TfidfVectorizer\n",
    "from sklearn.preprocessing import StandardScaler, OneHotEncoder\n",
    "from typing import Union, List"
   ]
  },
  {
   "cell_type": "code",
   "execution_count": 2,
   "id": "e95dc348",
   "metadata": {},
   "outputs": [],
   "source": [
    "def write_to_submission_file(predicted_probs, out_file: str = 'to_submission.csv.zip',\n",
    "                             target='target', index_label='session_id'):\n",
    "    df = pd.DataFrame(predicted_probs,\n",
    "                      index=np.arange(1, len(predicted_probs) + 1),\n",
    "                      columns=[target])\n",
    "    df.to_csv(out_file, index_label=index_label, compression=\"zip\")\n",
    "\n",
    "def convert_types(df: pd.DataFrame) -> pd.DataFrame:\n",
    "    \"\"\" Define all type transformations in a single function \"\"\"\n",
    "    sites = [s for s in df.columns if \"site\" in s]\n",
    "    df[sites] = df[sites].fillna(0).astype('uint16')\n",
    "    times = [t for t in df.columns if \"time\" in t]\n",
    "    df[times] = df[times].apply(pd.to_datetime)\n",
    "    if 'target' in df.columns:\n",
    "        df['target'] = df.target.astype('uint8')\n",
    "    return df\n",
    "\n",
    "train_df = pd.read_csv('../../../../data/catch-me-if-you-can-intruder-detection-through-webpage-session-tracking2/train_sessions.csv.zip')\n",
    "train_df = convert_types(train_df)\n",
    "train_df.sort_values(by='time1', inplace=True)\n",
    "\n",
    "test_df = pd.read_csv('../../../../data/catch-me-if-you-can-intruder-detection-through-webpage-session-tracking2/test_sessions.csv.zip')\n",
    "test_df = convert_types(test_df)\n",
    "\n",
    "sites = [s for s in train_df.columns if 'site' in s]\n",
    "times = [t for t in train_df.columns if 'time' in t]\n",
    "\n",
    "# Our target variable\n",
    "y_train = train_df[\"target\"]\n",
    "\n",
    "# United dataframe of the initial data\n",
    "full_df = pd.concat([train_df.drop(\"target\", axis=1), test_df])\n",
    "\n",
    "# Index to split the training and test data sets\n",
    "idx_split = train_df.shape[0]\n",
    "\n",
    "sites_corpus = full_df[sites].to_string(header=False, index=False).split('\\n')\n",
    "\n",
    "tfv = TfidfVectorizer(ngram_range=(1,2), max_features=20000)\n",
    "X_train = tfv.fit_transform(sites_corpus[:idx_split])\n",
    "X_test = tfv.transform(sites_corpus[idx_split:])\n",
    "\n",
    "X_full = vstack([X_train, X_test]).tocsr()"
   ]
  },
  {
   "cell_type": "code",
   "execution_count": 3,
   "id": "447e745a",
   "metadata": {},
   "outputs": [],
   "source": [
    "def get_auc_logit_score(X, y, C=1.0, seed=17, n_splits=10):\n",
    "    # Split the data into the training and validation sets\n",
    "    time_split = TimeSeriesSplit(n_splits=n_splits)\n",
    "    logit = LogisticRegression(C=C, random_state=seed, solver='liblinear')\n",
    "    cv_scores = cross_val_score(logit, X, y, cv=time_split, scoring='roc_auc', n_jobs=-1)\n",
    "    return cv_scores.mean()\n",
    "\n",
    "def get_auc_rf_score(X, y, seed=17, max_depth=10, n_estimators=10, \n",
    "                     n_splits=10, max_features='auto'):\n",
    "    time_split = TimeSeriesSplit(n_splits=n_splits)\n",
    "    rf = RandomForestClassifier(random_state=seed, \n",
    "                                max_depth=max_depth, \n",
    "                                max_features=max_features, \n",
    "                                n_estimators=n_estimators)\n",
    "    cv_scores = cross_val_score(rf, X, y, cv=time_split, scoring='roc_auc', n_jobs=-1)\n",
    "    return cv_scores.mean()\n",
    "\n",
    "def get_auc_rf_scores(X, y, seed=17, max_depth=10, n_estimators=10, \n",
    "                     n_splits=10, max_features='auto'):\n",
    "    time_split = TimeSeriesSplit(n_splits=n_splits)\n",
    "    rf = RandomForestClassifier(random_state=seed, \n",
    "                                max_depth=max_depth, \n",
    "                                max_features=max_features, \n",
    "                                n_estimators=n_estimators)\n",
    "    cv_scores = cross_validate(rf, X, y, cv=time_split, scoring='roc_auc', \n",
    "                               return_train_score=True, n_jobs=-1)\n",
    "    return cv_scores\n",
    "\n",
    "\n",
    "def get_features(full_df) -> pd.DataFrame:\n",
    "    times = [t for t in full_df.columns if 'time' in t]\n",
    "    feat_df = pd.DataFrame(index=full_df.index)\n",
    "\n",
    "    feat_df['weekday'] = full_df['time1'].dt.weekday\n",
    "    for weekday in range(7):\n",
    "        feat_name = f'weekday_{weekday}'\n",
    "        feat_df[feat_name] = (full_df['time1'].dt.weekday == weekday).astype(int)\n",
    "    for hour in range(23):\n",
    "        feat_name = f'hour_{hour}'\n",
    "        feat_df[feat_name] = (full_df['time1'].dt.hour == hour).astype(int)\n",
    "\n",
    "    feat_df['duration'] = (full_df[times].max(axis=1) - full_df[times].min(axis=1)).dt.total_seconds()\n",
    "\n",
    "    feat_df['hour_sin'] = np.sin(full_df['time1'].dt.hour / 24)\n",
    "    feat_df['hour_cos'] = np.cos(full_df['time1'].dt.hour / 24)\n",
    "\n",
    "    feat_df['hour'] = full_df['time1'].dt.hour\n",
    "\n",
    "    feat_df['morning'] = feat_df['hour'].between(7, 11).astype(int)\n",
    "    feat_df['noon'] = feat_df['hour'].between(12, 18).astype(int)\n",
    "    feat_df['evening'] = feat_df['hour'].between(19, 23).astype(int)\n",
    "    feat_df['night'] = feat_df['hour'].between(0, 6).astype(int)\n",
    "\n",
    "    deltas = ['delta' + str(i) for i in range(1, 10)]    \n",
    "    delta_df = (full_df[times] - full_df[times].shift(1, axis=1)) \\\n",
    "        .copy() \\\n",
    "        .drop(columns='time1') \\\n",
    "        .apply(lambda x: x.dt.total_seconds())\n",
    "\n",
    "    delta_df.columns = deltas\n",
    "    for delta in deltas:\n",
    "        feat_df[delta] = delta_df[delta]\n",
    "\n",
    "    feat_df['delta_avg'] = delta_df.mean(axis=1, skipna=True).fillna(0.0)\n",
    "\n",
    "    best_hours = ['hour_7', 'hour_8', 'hour_9', 'hour_10', 'hour_11', 'hour_14', 'hour_16', 'hour_17', 'hour_18',\n",
    "                  'hour_19', 'hour_20', 'hour_21', 'hour_22']\n",
    "    best_weekdays = ['weekday_0']\n",
    "    best_previous = ['morning', 'noon', 'evening']\n",
    "\n",
    "    return feat_df.fillna(0.0)\n",
    "\n",
    "# Add the new feature to the sparse matrix\n",
    "def add_feature(feat: str, X_sparse=None, standardize=True, onehot=False):\n",
    "    tmp = feat_df[[feat]].values\n",
    "    if onehot:\n",
    "        enc = OneHotEncoder(dtype=np.uint8, sparse=False)\n",
    "        tmp = enc.fit_transform(tmp)\n",
    "    if standardize:\n",
    "        tmp = StandardScaler().fit_transform(tmp)\n",
    "    if X_sparse is not None:\n",
    "        return hstack([X_sparse, tmp]).tocsr()\n",
    "    else:\n",
    "        return csr_matrix(tmp)\n",
    "\n",
    "\n",
    "def add_multi_feature(feat_list: list, X_sparse=None):\n",
    "    X_new = X_sparse\n",
    "    for feat in feat_list:\n",
    "        X_new = add_feature(feat, X_new)\n",
    "    return X_new[:idx_split, :], X_new[idx_split:, :]\n",
    "\n",
    "\n",
    "def test_feature(features: Union[list, str], standardize=True, onehot=False, C=1):\n",
    "    print(f\"Testing:\\t{features}\")\n",
    "\n",
    "    if isinstance(features, str):\n",
    "        features = [features]\n",
    "    \n",
    "    X_new = X_full\n",
    "    for feat in features:\n",
    "        X_new = add_feature(feat, X_new, onehot=onehot, standardize=standardize)\n",
    "    X_train_new = X_new[:idx_split, :]\n",
    "    score = get_auc_logit_score(X_train_new, y_train, C=C)\n",
    "\n",
    "    print(f\"Score:\\t\\t{score:.4f}\\t\", end=\"\")\n",
    "\n",
    "    if score > BASELINE:\n",
    "        print(f\"+++ baseline:\\t{BASELINE:.4f}\")\n",
    "    else:\n",
    "        print(f\"--- baseline:\\t{BASELINE:.4f}\")\n",
    "    return score\n",
    "\n",
    "\n",
    "def test_multi_feature(feat_list: list, C=1):\n",
    "    \"\"\"\n",
    "    Deprecated\n",
    "    \"\"\"\n",
    "    print(f\"Testing:\\t{feat_list}\")\n",
    "\n",
    "    X_new = X_full\n",
    "    for feat in feat_list:\n",
    "        X_new = add_feature(feat, X_sparse=X_new)\n",
    "    X_train_new = X_new[:idx_split, :]\n",
    "    score = get_auc_logit_score(X_train_new, y_train, C=C)\n",
    "\n",
    "    print(f\"Score:\\t\\t{score:.4f}\\t\", end=\"\")\n",
    "    if score > BASELINE:\n",
    "        print(f\"+++ baseline: {BASELINE:.4f}\")\n",
    "    else:\n",
    "        print(f\"--- baseline: {BASELINE:.4f}\")\n",
    "    return score\n",
    "\n",
    "\n",
    "def predict_probs(feat_list: list = None, n_splits=10, calc_local = True,\n",
    "                  estimator=LogisticRegression(C=1, random_state=17, solver='liblinear')):\n",
    "    X_new = X_full\n",
    "\n",
    "    if feat_list is not None:\n",
    "        for feat in feat_list:\n",
    "            X_new = add_feature(feat, X_sparse=X_new)\n",
    "    else:\n",
    "        pass\n",
    "\n",
    "    X_train_new = X_new[:idx_split, :]\n",
    "    X_test_new = X_new[idx_split:, :]\n",
    "    estimator.fit(X_train_new, y_train)\n",
    "\n",
    "    if calc_local:\n",
    "        time_split = TimeSeriesSplit(n_splits=n_splits)\n",
    "        cv_scores = cross_val_score(estimator, X_train_new, y_train, cv=time_split, scoring='roc_auc', n_jobs=-1)\n",
    "        print(f\"Local score: {cv_scores.mean():.4f}\")\n",
    "    return estimator.predict_proba(X_test_new)[:, 1]"
   ]
  },
  {
   "cell_type": "code",
   "execution_count": 4,
   "id": "f2edde4b",
   "metadata": {},
   "outputs": [
    {
     "name": "stdout",
     "output_type": "stream",
     "text": [
      "Wall time: 11.9 s\n"
     ]
    }
   ],
   "source": [
    "%%time\n",
    "BASELINE = get_auc_logit_score(X_train, y_train)\n",
    "\n",
    "feat_df = get_features(full_df)"
   ]
  },
  {
   "cell_type": "code",
   "execution_count": 5,
   "id": "6be8e178",
   "metadata": {},
   "outputs": [
    {
     "name": "stdout",
     "output_type": "stream",
     "text": [
      "Wall time: 19 s\n"
     ]
    }
   ],
   "source": [
    "%%time\n",
    "X_feat_only = add_multi_feature(feat_df.columns)[0]"
   ]
  },
  {
   "cell_type": "code",
   "execution_count": 50,
   "id": "a7400dd4",
   "metadata": {},
   "outputs": [
    {
     "name": "stdout",
     "output_type": "stream",
     "text": [
      "Wall time: 22.2 s\n"
     ]
    },
    {
     "data": {
      "text/plain": [
       "0.8359167625505787"
      ]
     },
     "execution_count": 50,
     "metadata": {},
     "output_type": "execute_result"
    }
   ],
   "source": [
    "%%time\n",
    "get_auc_logit_score(X_feat_only, y_train)"
   ]
  },
  {
   "cell_type": "code",
   "execution_count": 53,
   "id": "2746a9ec",
   "metadata": {},
   "outputs": [
    {
     "name": "stdout",
     "output_type": "stream",
     "text": [
      "Wall time: 1min 44s\n"
     ]
    },
    {
     "data": {
      "text/plain": [
       "0.6728095310832349"
      ]
     },
     "execution_count": 53,
     "metadata": {},
     "output_type": "execute_result"
    }
   ],
   "source": [
    "%%time\n",
    "get_auc_rf_score(X_feat_only, y_train, max_depth=50, n_estimators=20)"
   ]
  },
  {
   "cell_type": "code",
   "execution_count": 52,
   "id": "96bba726",
   "metadata": {},
   "outputs": [
    {
     "name": "stdout",
     "output_type": "stream",
     "text": [
      "Wall time: 4min 28s\n"
     ]
    },
    {
     "data": {
      "text/plain": [
       "0.7184717779336385"
      ]
     },
     "execution_count": 52,
     "metadata": {},
     "output_type": "execute_result"
    }
   ],
   "source": [
    "%%time\n",
    "get_auc_rf_score(X_feat_only, y_train, max_depth=50, n_estimators=50)"
   ]
  },
  {
   "cell_type": "code",
   "execution_count": 51,
   "id": "37eb2904",
   "metadata": {},
   "outputs": [
    {
     "name": "stdout",
     "output_type": "stream",
     "text": [
      "Wall time: 8min 18s\n"
     ]
    },
    {
     "data": {
      "text/plain": [
       "0.7389212566618661"
      ]
     },
     "execution_count": 51,
     "metadata": {},
     "output_type": "execute_result"
    }
   ],
   "source": [
    "%%time\n",
    "get_auc_rf_score(X_feat_only, y_train, max_depth=50, n_estimators=100)"
   ]
  },
  {
   "cell_type": "code",
   "execution_count": 54,
   "id": "726952c4",
   "metadata": {},
   "outputs": [
    {
     "name": "stdout",
     "output_type": "stream",
     "text": [
      "Wall time: 15min 59s\n"
     ]
    },
    {
     "data": {
      "text/plain": [
       "0.8044483760647612"
      ]
     },
     "execution_count": 54,
     "metadata": {},
     "output_type": "execute_result"
    }
   ],
   "source": [
    "%%time\n",
    "get_auc_rf_score(X_train, y_train, max_depth=50, n_estimators=50)"
   ]
  },
  {
   "cell_type": "code",
   "execution_count": 55,
   "id": "0e3d8bcd",
   "metadata": {},
   "outputs": [
    {
     "name": "stdout",
     "output_type": "stream",
     "text": [
      "Wall time: 16.4 s\n"
     ]
    },
    {
     "data": {
      "text/plain": [
       "0.8692386533117059"
      ]
     },
     "execution_count": 55,
     "metadata": {},
     "output_type": "execute_result"
    }
   ],
   "source": [
    "%%time\n",
    "get_auc_logit_score(X_train, y_train)"
   ]
  },
  {
   "cell_type": "code",
   "execution_count": 6,
   "id": "e16cd6de",
   "metadata": {},
   "outputs": [
    {
     "data": {
      "text/plain": [
       "<253561x20049 sparse matrix of type '<class 'numpy.float64'>'\n",
       "\twith 12894251 stored elements in Compressed Sparse Row format>"
      ]
     },
     "execution_count": 6,
     "metadata": {},
     "output_type": "execute_result"
    }
   ],
   "source": [
    "X_train_new, X_test_new = add_multi_feature(feat_df.columns, X_full)\n",
    "X_train_new"
   ]
  },
  {
   "cell_type": "code",
   "execution_count": 66,
   "id": "e647e52f",
   "metadata": {},
   "outputs": [
    {
     "name": "stdout",
     "output_type": "stream",
     "text": [
      "Wall time: 11min 57s\n"
     ]
    },
    {
     "data": {
      "text/plain": [
       "0.8637073220177072"
      ]
     },
     "execution_count": 66,
     "metadata": {},
     "output_type": "execute_result"
    }
   ],
   "source": [
    "%%time\n",
    "get_auc_rf_score(X_train_new, y_train, max_depth=50, n_estimators=100)"
   ]
  },
  {
   "cell_type": "code",
   "execution_count": 67,
   "id": "c8147b1b",
   "metadata": {},
   "outputs": [
    {
     "name": "stdout",
     "output_type": "stream",
     "text": [
      "Wall time: 46.6 s\n"
     ]
    },
    {
     "data": {
      "text/plain": [
       "0.8940521081752836"
      ]
     },
     "execution_count": 67,
     "metadata": {},
     "output_type": "execute_result"
    }
   ],
   "source": [
    "%%time\n",
    "get_auc_logit_score(X_train_new, y_train)"
   ]
  },
  {
   "cell_type": "code",
   "execution_count": 68,
   "id": "9b3e1278",
   "metadata": {},
   "outputs": [
    {
     "data": {
      "text/plain": [
       "Index(['weekday', 'weekday_0', 'weekday_1', 'weekday_2', 'weekday_3',\n",
       "       'weekday_4', 'weekday_5', 'weekday_6', 'hour_0', 'hour_1', 'hour_2',\n",
       "       'hour_3', 'hour_4', 'hour_5', 'hour_6', 'hour_7', 'hour_8', 'hour_9',\n",
       "       'hour_10', 'hour_11', 'hour_12', 'hour_13', 'hour_14', 'hour_15',\n",
       "       'hour_16', 'hour_17', 'hour_18', 'hour_19', 'hour_20', 'hour_21',\n",
       "       'hour_22', 'duration', 'hour_sin', 'hour_cos', 'hour', 'morning',\n",
       "       'noon', 'evening', 'night', 'delta1', 'delta2', 'delta3', 'delta4',\n",
       "       'delta5', 'delta6', 'delta7', 'delta8', 'delta9', 'delta_avg'],\n",
       "      dtype='object')"
      ]
     },
     "execution_count": 68,
     "metadata": {},
     "output_type": "execute_result"
    }
   ],
   "source": [
    "feat_df.columns"
   ]
  },
  {
   "cell_type": "code",
   "execution_count": 6,
   "id": "c4bd6b11",
   "metadata": {},
   "outputs": [],
   "source": [
    "X_train_new, _ = add_multi_feature(['hour', 'duration', 'delta_avg', 'weekday'], X_full)"
   ]
  },
  {
   "cell_type": "code",
   "execution_count": 70,
   "id": "9357aec9",
   "metadata": {},
   "outputs": [
    {
     "name": "stdout",
     "output_type": "stream",
     "text": [
      "Wall time: 20min 57s\n"
     ]
    },
    {
     "data": {
      "text/plain": [
       "0.8416101219043896"
      ]
     },
     "execution_count": 70,
     "metadata": {},
     "output_type": "execute_result"
    }
   ],
   "source": [
    "%%time\n",
    "get_auc_rf_score(X_train_new, y_train, max_depth=50, n_estimators=100)"
   ]
  },
  {
   "cell_type": "code",
   "execution_count": 71,
   "id": "2d084403",
   "metadata": {},
   "outputs": [
    {
     "name": "stdout",
     "output_type": "stream",
     "text": [
      "Wall time: 8.84 s\n"
     ]
    },
    {
     "data": {
      "text/plain": [
       "0.8997304714631973"
      ]
     },
     "execution_count": 71,
     "metadata": {},
     "output_type": "execute_result"
    }
   ],
   "source": [
    "%%time\n",
    "get_auc_logit_score(X_train_new, y_train)"
   ]
  },
  {
   "cell_type": "code",
   "execution_count": 10,
   "id": "0ad91734",
   "metadata": {},
   "outputs": [
    {
     "data": {
      "text/plain": [
       "0.6237839949553792"
      ]
     },
     "execution_count": 10,
     "metadata": {},
     "output_type": "execute_result"
    }
   ],
   "source": [
    "%%time\n",
    "get_auc_rf_score(X_feat_only, y_train, n_estimators=10)"
   ]
  },
  {
   "cell_type": "code",
   "execution_count": 15,
   "id": "9de44981",
   "metadata": {},
   "outputs": [
    {
     "name": "stdout",
     "output_type": "stream",
     "text": [
      "Wall time: 1min 31s\n"
     ]
    },
    {
     "data": {
      "text/plain": [
       "0.8673731828990621"
      ]
     },
     "execution_count": 15,
     "metadata": {},
     "output_type": "execute_result"
    }
   ],
   "source": [
    "%%time\n",
    "get_auc_rf_score(X_feat_only, y_train, max_depth=5, n_estimators=100)"
   ]
  },
  {
   "cell_type": "code",
   "execution_count": 25,
   "id": "71322f9c",
   "metadata": {},
   "outputs": [
    {
     "name": "stdout",
     "output_type": "stream",
     "text": [
      "Wall time: 10.2 s\n"
     ]
    },
    {
     "data": {
      "text/plain": [
       "0.8659491829485312"
      ]
     },
     "execution_count": 25,
     "metadata": {},
     "output_type": "execute_result"
    }
   ],
   "source": [
    "%%time\n",
    "get_auc_rf_score(X_feat_only, y_train, max_depth=5, n_estimators=10)"
   ]
  },
  {
   "cell_type": "code",
   "execution_count": 11,
   "id": "2be5113e",
   "metadata": {},
   "outputs": [
    {
     "name": "stdout",
     "output_type": "stream",
     "text": [
      "Wall time: 20.8 s\n"
     ]
    },
    {
     "data": {
      "text/plain": [
       "0.836876047309139"
      ]
     },
     "execution_count": 11,
     "metadata": {},
     "output_type": "execute_result"
    }
   ],
   "source": [
    "%%time\n",
    "get_auc_rf_score(X_feat_only, y_train, max_depth=10, n_estimators=10)"
   ]
  },
  {
   "cell_type": "code",
   "execution_count": 12,
   "id": "cac7d89d",
   "metadata": {},
   "outputs": [
    {
     "name": "stdout",
     "output_type": "stream",
     "text": [
      "Wall time: 42.5 s\n"
     ]
    },
    {
     "data": {
      "text/plain": [
       "0.7151870797016454"
      ]
     },
     "execution_count": 12,
     "metadata": {},
     "output_type": "execute_result"
    }
   ],
   "source": [
    "%%time\n",
    "get_auc_rf_score(X_feat_only, y_train, max_depth=20, n_estimators=10)"
   ]
  },
  {
   "cell_type": "code",
   "execution_count": 13,
   "id": "471eb001",
   "metadata": {},
   "outputs": [
    {
     "name": "stdout",
     "output_type": "stream",
     "text": [
      "Wall time: 48 s\n"
     ]
    },
    {
     "data": {
      "text/plain": [
       "0.6237839949553792"
      ]
     },
     "execution_count": 13,
     "metadata": {},
     "output_type": "execute_result"
    }
   ],
   "source": [
    "%%time\n",
    "get_auc_rf_score(X_feat_only, y_train, max_depth=50, n_estimators=10)"
   ]
  },
  {
   "cell_type": "code",
   "execution_count": 24,
   "id": "2e803550",
   "metadata": {},
   "outputs": [
    {
     "name": "stdout",
     "output_type": "stream",
     "text": [
      "Wall time: 12.1 s\n"
     ]
    },
    {
     "data": {
      "text/plain": [
       "{'fit_time': array([0.41457343, 0.91722822, 1.69537973, 2.11288285, 3.14251041,\n",
       "        3.55302835, 4.31777549, 5.10610843, 5.56865764, 5.62666726]),\n",
       " 'score_time': array([0.07181478, 0.08078384, 0.07539725, 0.11469197, 0.10090065,\n",
       "        0.09274888, 0.08875942, 0.07589865, 0.07450175, 0.04483414]),\n",
       " 'test_score': array([0.56935017, 0.88016339, 0.90397584, 0.93013221, 0.88319445,\n",
       "        0.9564578 , 0.74748009, 0.94849304, 0.89020704, 0.9500378 ]),\n",
       " 'train_score': array([0.97750002, 0.95807711, 0.94317557, 0.94022271, 0.94508261,\n",
       "        0.93952479, 0.93716111, 0.9326295 , 0.9308813 , 0.93162742])}"
      ]
     },
     "execution_count": 24,
     "metadata": {},
     "output_type": "execute_result"
    }
   ],
   "source": [
    "%%time\n",
    "get_auc_rf_scores(X_feat_only, y_train, max_depth=5, n_estimators=10)"
   ]
  },
  {
   "cell_type": "code",
   "execution_count": 35,
   "id": "5f1b4596",
   "metadata": {},
   "outputs": [
    {
     "name": "stdout",
     "output_type": "stream",
     "text": [
      "1 / 15\n",
      "2 / 15\n",
      "3 / 15\n",
      "4 / 15\n",
      "5 / 15\n",
      "6 / 15\n",
      "7 / 15\n",
      "8 / 15\n",
      "9 / 15\n",
      "10 / 15\n",
      "11 / 15\n",
      "12 / 15\n",
      "13 / 15\n",
      "14 / 15\n",
      "15 / 15\n",
      "Wall time: 6min 31s\n"
     ]
    }
   ],
   "source": [
    "%%time\n",
    "max_depth_grid = [1, 2, 3, 4, 5, 6, 7, 9, 11, 13, 15, 17, 20, 22, 24]\n",
    "scores = []\n",
    "for i, max_depth in enumerate(max_depth_grid):\n",
    "    print(f\"{i + 1} / {len(max_depth_grid)}\")\n",
    "    scores.append(get_auc_rf_scores(X_feat_only, y_train, max_depth=max_depth))"
   ]
  },
  {
   "cell_type": "code",
   "execution_count": 36,
   "id": "1fd26031",
   "metadata": {},
   "outputs": [
    {
     "data": {
      "text/html": [
       "<div>\n",
       "<style scoped>\n",
       "    .dataframe tbody tr th:only-of-type {\n",
       "        vertical-align: middle;\n",
       "    }\n",
       "\n",
       "    .dataframe tbody tr th {\n",
       "        vertical-align: top;\n",
       "    }\n",
       "\n",
       "    .dataframe thead th {\n",
       "        text-align: right;\n",
       "    }\n",
       "</style>\n",
       "<table border=\"1\" class=\"dataframe\">\n",
       "  <thead>\n",
       "    <tr style=\"text-align: right;\">\n",
       "      <th></th>\n",
       "      <th>fit_time</th>\n",
       "      <th>score_time</th>\n",
       "      <th>test_score</th>\n",
       "      <th>train_score</th>\n",
       "    </tr>\n",
       "    <tr>\n",
       "      <th>max_depth</th>\n",
       "      <th></th>\n",
       "      <th></th>\n",
       "      <th></th>\n",
       "      <th></th>\n",
       "    </tr>\n",
       "  </thead>\n",
       "  <tbody>\n",
       "    <tr>\n",
       "      <th>1</th>\n",
       "      <td>[0.36992430686950684, 0.5167012214660645, 0.76...</td>\n",
       "      <td>[0.07480287551879883, 0.08477282524108887, 0.0...</td>\n",
       "      <td>[0.698048238092668, 0.7260819624887332, 0.9300...</td>\n",
       "      <td>[0.9240037875615362, 0.856876290356564, 0.8449...</td>\n",
       "    </tr>\n",
       "    <tr>\n",
       "      <th>2</th>\n",
       "      <td>[0.45261192321777344, 0.6772806644439697, 1.06...</td>\n",
       "      <td>[0.11867952346801758, 0.0937495231628418, 0.11...</td>\n",
       "      <td>[0.4948539341361602, 0.7836667090440393, 0.915...</td>\n",
       "      <td>[0.939861619066231, 0.8892114614096276, 0.8817...</td>\n",
       "    </tr>\n",
       "    <tr>\n",
       "      <th>3</th>\n",
       "      <td>[0.2124335765838623, 0.3311176300048828, 0.522...</td>\n",
       "      <td>[0.042351484298706055, 0.0340726375579834, 0.0...</td>\n",
       "      <td>[0.6460352514942016, 0.8526556187482146, 0.899...</td>\n",
       "      <td>[0.9670948844654141, 0.919443287358854, 0.9085...</td>\n",
       "    </tr>\n",
       "    <tr>\n",
       "      <th>4</th>\n",
       "      <td>[0.4129023551940918, 0.7529833316802979, 1.090...</td>\n",
       "      <td>[0.0718083381652832, 0.06582760810852051, 0.04...</td>\n",
       "      <td>[0.6073327593881245, 0.8628716831119406, 0.899...</td>\n",
       "      <td>[0.9745545660124515, 0.9388362102208774, 0.930...</td>\n",
       "    </tr>\n",
       "    <tr>\n",
       "      <th>5</th>\n",
       "      <td>[0.4750945568084717, 1.034078598022461, 1.7294...</td>\n",
       "      <td>[0.06882667541503906, 0.07180905342102051, 0.1...</td>\n",
       "      <td>[0.5693501651906002, 0.8801633948904302, 0.903...</td>\n",
       "      <td>[0.97750002326512, 0.9580771077557502, 0.94317...</td>\n",
       "    </tr>\n",
       "    <tr>\n",
       "      <th>6</th>\n",
       "      <td>[0.5455498695373535, 1.024277925491333, 1.8371...</td>\n",
       "      <td>[0.058843135833740234, 0.06781911849975586, 0....</td>\n",
       "      <td>[0.5452510676599575, 0.8926347069414454, 0.914...</td>\n",
       "      <td>[0.9840383595298584, 0.9640080639841535, 0.953...</td>\n",
       "    </tr>\n",
       "    <tr>\n",
       "      <th>7</th>\n",
       "      <td>[0.4847104549407959, 1.1260054111480713, 2.330...</td>\n",
       "      <td>[0.05685734748840332, 0.12267398834228516, 0.0...</td>\n",
       "      <td>[0.6099468505844783, 0.8794219229668134, 0.879...</td>\n",
       "      <td>[0.9864809179485747, 0.970247191907398, 0.9613...</td>\n",
       "    </tr>\n",
       "    <tr>\n",
       "      <th>9</th>\n",
       "      <td>[0.6422920227050781, 1.4182288646697998, 2.206...</td>\n",
       "      <td>[0.07579779624938965, 0.05684971809387207, 0.0...</td>\n",
       "      <td>[0.6372054758667356, 0.8903844525979497, 0.874...</td>\n",
       "      <td>[0.9908472691402143, 0.9770984005632712, 0.972...</td>\n",
       "    </tr>\n",
       "    <tr>\n",
       "      <th>11</th>\n",
       "      <td>[0.9275362491607666, 1.9049315452575684, 3.434...</td>\n",
       "      <td>[0.07280945777893066, 0.0628354549407959, 0.08...</td>\n",
       "      <td>[0.5876381400228998, 0.8672964990477772, 0.719...</td>\n",
       "      <td>[0.9947126292377417, 0.9849011447344276, 0.982...</td>\n",
       "    </tr>\n",
       "    <tr>\n",
       "      <th>13</th>\n",
       "      <td>[1.111034870147705, 2.503288507461548, 4.30594...</td>\n",
       "      <td>[0.08676743507385254, 0.05652260780334473, 0.0...</td>\n",
       "      <td>[0.5347064203518997, 0.866567550113357, 0.8060...</td>\n",
       "      <td>[0.9964221502554509, 0.9910018283541582, 0.988...</td>\n",
       "    </tr>\n",
       "    <tr>\n",
       "      <th>15</th>\n",
       "      <td>[1.0611779689788818, 2.8982956409454346, 4.759...</td>\n",
       "      <td>[0.0688180923461914, 0.07480049133300781, 0.06...</td>\n",
       "      <td>[0.5309788957619167, 0.8691612355466476, 0.702...</td>\n",
       "      <td>[0.9981529821230819, 0.9959021987294902, 0.992...</td>\n",
       "    </tr>\n",
       "    <tr>\n",
       "      <th>17</th>\n",
       "      <td>[1.179863691329956, 2.7187716960906982, 4.6456...</td>\n",
       "      <td>[0.06383037567138672, 0.05585312843322754, 0.0...</td>\n",
       "      <td>[0.5140488178411651, 0.8541884167739575, 0.685...</td>\n",
       "      <td>[0.9988077556604038, 0.9972978436308412, 0.996...</td>\n",
       "    </tr>\n",
       "    <tr>\n",
       "      <th>20</th>\n",
       "      <td>[1.3783373832702637, 2.9631171226501465, 4.658...</td>\n",
       "      <td>[0.06981444358825684, 0.058846473693847656, 0....</td>\n",
       "      <td>[0.5091815999781797, 0.8350029595469404, 0.644...</td>\n",
       "      <td>[0.999390081614041, 0.9986273961053818, 0.9984...</td>\n",
       "    </tr>\n",
       "    <tr>\n",
       "      <th>22</th>\n",
       "      <td>[1.2001051902770996, 3.220407485961914, 5.8218...</td>\n",
       "      <td>[0.06479120254516602, 0.06045079231262207, 0.0...</td>\n",
       "      <td>[0.5321197496925708, 0.7886384942738236, 0.627...</td>\n",
       "      <td>[0.9994801176284468, 0.9990587316819394, 0.998...</td>\n",
       "    </tr>\n",
       "    <tr>\n",
       "      <th>24</th>\n",
       "      <td>[1.241685152053833, 3.3390843868255615, 5.9730...</td>\n",
       "      <td>[0.08577227592468262, 0.058844566345214844, 0....</td>\n",
       "      <td>[0.5317091670482329, 0.7968670492889003, 0.644...</td>\n",
       "      <td>[0.9995762956345329, 0.9992781664694752, 0.998...</td>\n",
       "    </tr>\n",
       "  </tbody>\n",
       "</table>\n",
       "</div>"
      ],
      "text/plain": [
       "                                                    fit_time  \\\n",
       "max_depth                                                      \n",
       "1          [0.36992430686950684, 0.5167012214660645, 0.76...   \n",
       "2          [0.45261192321777344, 0.6772806644439697, 1.06...   \n",
       "3          [0.2124335765838623, 0.3311176300048828, 0.522...   \n",
       "4          [0.4129023551940918, 0.7529833316802979, 1.090...   \n",
       "5          [0.4750945568084717, 1.034078598022461, 1.7294...   \n",
       "6          [0.5455498695373535, 1.024277925491333, 1.8371...   \n",
       "7          [0.4847104549407959, 1.1260054111480713, 2.330...   \n",
       "9          [0.6422920227050781, 1.4182288646697998, 2.206...   \n",
       "11         [0.9275362491607666, 1.9049315452575684, 3.434...   \n",
       "13         [1.111034870147705, 2.503288507461548, 4.30594...   \n",
       "15         [1.0611779689788818, 2.8982956409454346, 4.759...   \n",
       "17         [1.179863691329956, 2.7187716960906982, 4.6456...   \n",
       "20         [1.3783373832702637, 2.9631171226501465, 4.658...   \n",
       "22         [1.2001051902770996, 3.220407485961914, 5.8218...   \n",
       "24         [1.241685152053833, 3.3390843868255615, 5.9730...   \n",
       "\n",
       "                                                  score_time  \\\n",
       "max_depth                                                      \n",
       "1          [0.07480287551879883, 0.08477282524108887, 0.0...   \n",
       "2          [0.11867952346801758, 0.0937495231628418, 0.11...   \n",
       "3          [0.042351484298706055, 0.0340726375579834, 0.0...   \n",
       "4          [0.0718083381652832, 0.06582760810852051, 0.04...   \n",
       "5          [0.06882667541503906, 0.07180905342102051, 0.1...   \n",
       "6          [0.058843135833740234, 0.06781911849975586, 0....   \n",
       "7          [0.05685734748840332, 0.12267398834228516, 0.0...   \n",
       "9          [0.07579779624938965, 0.05684971809387207, 0.0...   \n",
       "11         [0.07280945777893066, 0.0628354549407959, 0.08...   \n",
       "13         [0.08676743507385254, 0.05652260780334473, 0.0...   \n",
       "15         [0.0688180923461914, 0.07480049133300781, 0.06...   \n",
       "17         [0.06383037567138672, 0.05585312843322754, 0.0...   \n",
       "20         [0.06981444358825684, 0.058846473693847656, 0....   \n",
       "22         [0.06479120254516602, 0.06045079231262207, 0.0...   \n",
       "24         [0.08577227592468262, 0.058844566345214844, 0....   \n",
       "\n",
       "                                                  test_score  \\\n",
       "max_depth                                                      \n",
       "1          [0.698048238092668, 0.7260819624887332, 0.9300...   \n",
       "2          [0.4948539341361602, 0.7836667090440393, 0.915...   \n",
       "3          [0.6460352514942016, 0.8526556187482146, 0.899...   \n",
       "4          [0.6073327593881245, 0.8628716831119406, 0.899...   \n",
       "5          [0.5693501651906002, 0.8801633948904302, 0.903...   \n",
       "6          [0.5452510676599575, 0.8926347069414454, 0.914...   \n",
       "7          [0.6099468505844783, 0.8794219229668134, 0.879...   \n",
       "9          [0.6372054758667356, 0.8903844525979497, 0.874...   \n",
       "11         [0.5876381400228998, 0.8672964990477772, 0.719...   \n",
       "13         [0.5347064203518997, 0.866567550113357, 0.8060...   \n",
       "15         [0.5309788957619167, 0.8691612355466476, 0.702...   \n",
       "17         [0.5140488178411651, 0.8541884167739575, 0.685...   \n",
       "20         [0.5091815999781797, 0.8350029595469404, 0.644...   \n",
       "22         [0.5321197496925708, 0.7886384942738236, 0.627...   \n",
       "24         [0.5317091670482329, 0.7968670492889003, 0.644...   \n",
       "\n",
       "                                                 train_score  \n",
       "max_depth                                                     \n",
       "1          [0.9240037875615362, 0.856876290356564, 0.8449...  \n",
       "2          [0.939861619066231, 0.8892114614096276, 0.8817...  \n",
       "3          [0.9670948844654141, 0.919443287358854, 0.9085...  \n",
       "4          [0.9745545660124515, 0.9388362102208774, 0.930...  \n",
       "5          [0.97750002326512, 0.9580771077557502, 0.94317...  \n",
       "6          [0.9840383595298584, 0.9640080639841535, 0.953...  \n",
       "7          [0.9864809179485747, 0.970247191907398, 0.9613...  \n",
       "9          [0.9908472691402143, 0.9770984005632712, 0.972...  \n",
       "11         [0.9947126292377417, 0.9849011447344276, 0.982...  \n",
       "13         [0.9964221502554509, 0.9910018283541582, 0.988...  \n",
       "15         [0.9981529821230819, 0.9959021987294902, 0.992...  \n",
       "17         [0.9988077556604038, 0.9972978436308412, 0.996...  \n",
       "20         [0.999390081614041, 0.9986273961053818, 0.9984...  \n",
       "22         [0.9994801176284468, 0.9990587316819394, 0.998...  \n",
       "24         [0.9995762956345329, 0.9992781664694752, 0.998...  "
      ]
     },
     "execution_count": 36,
     "metadata": {},
     "output_type": "execute_result"
    }
   ],
   "source": [
    "import seaborn as sns\n",
    "df = pd.DataFrame(scores, index=max_depth_grid)\n",
    "df.index.name = 'max_depth'\n",
    "df"
   ]
  },
  {
   "cell_type": "code",
   "execution_count": 37,
   "id": "262b3e5b",
   "metadata": {},
   "outputs": [
    {
     "data": {
      "text/html": [
       "<div>\n",
       "<style scoped>\n",
       "    .dataframe tbody tr th:only-of-type {\n",
       "        vertical-align: middle;\n",
       "    }\n",
       "\n",
       "    .dataframe tbody tr th {\n",
       "        vertical-align: top;\n",
       "    }\n",
       "\n",
       "    .dataframe thead th {\n",
       "        text-align: right;\n",
       "    }\n",
       "</style>\n",
       "<table border=\"1\" class=\"dataframe\">\n",
       "  <thead>\n",
       "    <tr style=\"text-align: right;\">\n",
       "      <th></th>\n",
       "      <th>max_depth</th>\n",
       "      <th>fit_time</th>\n",
       "      <th>score_time</th>\n",
       "      <th>test_score</th>\n",
       "      <th>train_score</th>\n",
       "    </tr>\n",
       "  </thead>\n",
       "  <tbody>\n",
       "    <tr>\n",
       "      <th>0</th>\n",
       "      <td>1</td>\n",
       "      <td>0.369924</td>\n",
       "      <td>0.074803</td>\n",
       "      <td>0.698048</td>\n",
       "      <td>0.924004</td>\n",
       "    </tr>\n",
       "    <tr>\n",
       "      <th>1</th>\n",
       "      <td>1</td>\n",
       "      <td>0.516701</td>\n",
       "      <td>0.084773</td>\n",
       "      <td>0.726082</td>\n",
       "      <td>0.856876</td>\n",
       "    </tr>\n",
       "    <tr>\n",
       "      <th>2</th>\n",
       "      <td>1</td>\n",
       "      <td>0.766066</td>\n",
       "      <td>0.091026</td>\n",
       "      <td>0.930054</td>\n",
       "      <td>0.844908</td>\n",
       "    </tr>\n",
       "    <tr>\n",
       "      <th>3</th>\n",
       "      <td>1</td>\n",
       "      <td>1.023296</td>\n",
       "      <td>0.071744</td>\n",
       "      <td>0.956248</td>\n",
       "      <td>0.851045</td>\n",
       "    </tr>\n",
       "    <tr>\n",
       "      <th>4</th>\n",
       "      <td>1</td>\n",
       "      <td>1.22165</td>\n",
       "      <td>0.107067</td>\n",
       "      <td>0.838701</td>\n",
       "      <td>0.860174</td>\n",
       "    </tr>\n",
       "    <tr>\n",
       "      <th>...</th>\n",
       "      <td>...</td>\n",
       "      <td>...</td>\n",
       "      <td>...</td>\n",
       "      <td>...</td>\n",
       "      <td>...</td>\n",
       "    </tr>\n",
       "    <tr>\n",
       "      <th>145</th>\n",
       "      <td>24</td>\n",
       "      <td>13.373306</td>\n",
       "      <td>0.06383</td>\n",
       "      <td>0.781252</td>\n",
       "      <td>0.998665</td>\n",
       "    </tr>\n",
       "    <tr>\n",
       "      <th>146</th>\n",
       "      <td>24</td>\n",
       "      <td>16.551274</td>\n",
       "      <td>0.062537</td>\n",
       "      <td>0.464732</td>\n",
       "      <td>0.998698</td>\n",
       "    </tr>\n",
       "    <tr>\n",
       "      <th>147</th>\n",
       "      <td>24</td>\n",
       "      <td>18.761976</td>\n",
       "      <td>0.052857</td>\n",
       "      <td>0.774719</td>\n",
       "      <td>0.998552</td>\n",
       "    </tr>\n",
       "    <tr>\n",
       "      <th>148</th>\n",
       "      <td>24</td>\n",
       "      <td>20.416149</td>\n",
       "      <td>0.076796</td>\n",
       "      <td>0.627466</td>\n",
       "      <td>0.998483</td>\n",
       "    </tr>\n",
       "    <tr>\n",
       "      <th>149</th>\n",
       "      <td>24</td>\n",
       "      <td>20.399191</td>\n",
       "      <td>0.041972</td>\n",
       "      <td>0.831504</td>\n",
       "      <td>0.998316</td>\n",
       "    </tr>\n",
       "  </tbody>\n",
       "</table>\n",
       "<p>150 rows × 5 columns</p>\n",
       "</div>"
      ],
      "text/plain": [
       "     max_depth   fit_time score_time test_score train_score\n",
       "0            1   0.369924   0.074803   0.698048    0.924004\n",
       "1            1   0.516701   0.084773   0.726082    0.856876\n",
       "2            1   0.766066   0.091026   0.930054    0.844908\n",
       "3            1   1.023296   0.071744   0.956248    0.851045\n",
       "4            1    1.22165   0.107067   0.838701    0.860174\n",
       "..         ...        ...        ...        ...         ...\n",
       "145         24  13.373306    0.06383   0.781252    0.998665\n",
       "146         24  16.551274   0.062537   0.464732    0.998698\n",
       "147         24  18.761976   0.052857   0.774719    0.998552\n",
       "148         24  20.416149   0.076796   0.627466    0.998483\n",
       "149         24  20.399191   0.041972   0.831504    0.998316\n",
       "\n",
       "[150 rows x 5 columns]"
      ]
     },
     "execution_count": 37,
     "metadata": {},
     "output_type": "execute_result"
    }
   ],
   "source": [
    "df = df.explode(list(df.columns)).reset_index()\n",
    "df"
   ]
  },
  {
   "cell_type": "code",
   "execution_count": 38,
   "id": "e7db4a1f",
   "metadata": {},
   "outputs": [
    {
     "data": {
      "image/png": "[encoded data removed]",
      "text/plain": [
       "<Figure size 432x288 with 1 Axes>"
      ]
     },
     "metadata": {},
     "output_type": "display_data"
    }
   ],
   "source": [
    "sns.lineplot(y='train_score', x='max_depth', data=df, label='train')\n",
    "sns.lineplot(y='test_score', x='max_depth', data=df, label='test')\n",
    "plt.show()"
   ]
  },
  {
   "cell_type": "code",
   "execution_count": 51,
   "id": "eb3fa40d",
   "metadata": {},
   "outputs": [
    {
     "name": "stdout",
     "output_type": "stream",
     "text": [
      "1 / 10\n",
      "2 / 10\n",
      "3 / 10\n",
      "4 / 10\n",
      "5 / 10\n",
      "6 / 10\n",
      "7 / 10\n",
      "8 / 10\n",
      "9 / 10\n",
      "10 / 10\n"
     ]
    },
    {
     "data": {
      "image/png": "[encoded data removed]",
      "text/plain": [
       "<Figure size 432x288 with 1 Axes>"
      ]
     },
     "metadata": {},
     "output_type": "display_data"
    },
    {
     "name": "stdout",
     "output_type": "stream",
     "text": [
      "Wall time: 5min 50s\n"
     ]
    }
   ],
   "source": [
    "%%time\n",
    "param_grid = [1, 2, 3, 4, 5, 6, 7, 8, 9, 10]\n",
    "# param_grid = [2, 5]\n",
    "param_name = 'max_depth'\n",
    "scores = []\n",
    "for i, param in enumerate(param_grid):\n",
    "    print(f\"{i + 1} / {len(param_grid)}\")\n",
    "    scores.append(get_auc_rf_scores(X_feat_only, y_train, n_estimators=30, **{param_name: param}))\n",
    "    \n",
    "df = pd.DataFrame(scores, index=param_grid)\n",
    "df.index.name = param_name\n",
    "df = df.explode(list(df.columns)).reset_index()\n",
    "\n",
    "sns.lineplot(x=param_name, y='train_score', data=df, label='train')\n",
    "sns.lineplot(x=param_name, y='test_score', data=df, label='test')\n",
    "plt.ylabel('roc_auc_score')\n",
    "plt.show()"
   ]
  },
  {
   "cell_type": "code",
   "execution_count": 50,
   "id": "0556b45d",
   "metadata": {},
   "outputs": [
    {
     "name": "stdout",
     "output_type": "stream",
     "text": [
      "1 / 10\n",
      "2 / 10\n",
      "3 / 10\n",
      "4 / 10\n",
      "5 / 10\n",
      "6 / 10\n",
      "7 / 10\n",
      "8 / 10\n",
      "9 / 10\n",
      "10 / 10\n"
     ]
    },
    {
     "data": {
      "image/png": "[encoded data removed]",
      "text/plain": [
       "<Figure size 432x288 with 1 Axes>"
      ]
     },
     "metadata": {},
     "output_type": "display_data"
    },
    {
     "name": "stdout",
     "output_type": "stream",
     "text": [
      "Wall time: 9min 25s\n"
     ]
    }
   ],
   "source": [
    "%%time\n",
    "param_grid = [1, 2, 5, 10, 20, 25, 30, 40, 50, 100]\n",
    "# param_grid = [2, 5]\n",
    "param_name = 'n_estimators'\n",
    "scores = []\n",
    "for i, param in enumerate(param_grid):\n",
    "    print(f\"{i + 1} / {len(param_grid)}\")\n",
    "    scores.append(get_auc_rf_scores(X_feat_only, y_train, **{param_name: param}))\n",
    "    \n",
    "df = pd.DataFrame(scores, index=param_grid)\n",
    "df.index.name = param_name\n",
    "df = df.explode(list(df.columns)).reset_index()\n",
    "\n",
    "sns.lineplot(y='train_score', x=param_name, data=df, label='train')\n",
    "sns.lineplot(y='test_score', x=param_name, data=df, label='test')\n",
    "plt.ylabel('roc_auc_score')\n",
    "plt.show()"
   ]
  },
  {
   "cell_type": "code",
   "execution_count": 53,
   "id": "2e6bf416",
   "metadata": {},
   "outputs": [
    {
     "name": "stdout",
     "output_type": "stream",
     "text": [
      "1 / 7\n",
      "2 / 7\n",
      "3 / 7\n",
      "4 / 7\n",
      "5 / 7\n",
      "6 / 7\n",
      "7 / 7\n"
     ]
    },
    {
     "data": {
      "image/png": "[encoded data removed]",
      "text/plain": [
       "<Figure size 432x288 with 1 Axes>"
      ]
     },
     "metadata": {},
     "output_type": "display_data"
    },
    {
     "name": "stdout",
     "output_type": "stream",
     "text": [
      "Wall time: 10min 59s\n"
     ]
    }
   ],
   "source": [
    "%%time\n",
    "param_grid = [1, 2, 5, 7, 10, 13, 20]\n",
    "# param_grid = [2, 5]\n",
    "param_name = 'max_features'\n",
    "scores = []\n",
    "for i, param in enumerate(param_grid):\n",
    "    print(f\"{i + 1} / {len(param_grid)}\")\n",
    "    scores.append(get_auc_rf_scores(X_feat_only, y_train, n_estimators=50, **{param_name: param}))\n",
    "    \n",
    "df = pd.DataFrame(scores, index=param_grid)\n",
    "df.index.name = param_name\n",
    "df = df.explode(list(df.columns)).reset_index()\n",
    "\n",
    "sns.lineplot(y='train_score', x=param_name, data=df, label='train')\n",
    "sns.lineplot(y='test_score', x=param_name, data=df, label='test')\n",
    "plt.ylabel('roc_auc_score')\n",
    "plt.show()"
   ]
  },
  {
   "cell_type": "code",
   "execution_count": 54,
   "id": "ec7e1a83",
   "metadata": {},
   "outputs": [
    {
     "name": "stdout",
     "output_type": "stream",
     "text": [
      "Wall time: 1min 52s\n"
     ]
    },
    {
     "data": {
      "text/plain": [
       "0.8673731828990621"
      ]
     },
     "execution_count": 54,
     "metadata": {},
     "output_type": "execute_result"
    }
   ],
   "source": [
    "%%time\n",
    "get_auc_rf_scores(X_feat_only, y_train, max_depth=5, n_estimators=100)['test_score'].mean()"
   ]
  },
  {
   "cell_type": "code",
   "execution_count": 58,
   "id": "d748f7ed",
   "metadata": {},
   "outputs": [
    {
     "name": "stdout",
     "output_type": "stream",
     "text": [
      "Wall time: 39.7 s\n"
     ]
    },
    {
     "data": {
      "text/plain": [
       "0.8501311968623828"
      ]
     },
     "execution_count": 58,
     "metadata": {},
     "output_type": "execute_result"
    }
   ],
   "source": [
    "%%time\n",
    "X_train_new, _ = add_multi_feature(['hour', 'duration', 'delta_avg', 'weekday'], X_full)\n",
    "get_auc_rf_score(X_train_new, y_train, max_depth=5, n_estimators=100)"
   ]
  },
  {
   "cell_type": "code",
   "execution_count": 60,
   "id": "6e3d6781",
   "metadata": {},
   "outputs": [
    {
     "name": "stdout",
     "output_type": "stream",
     "text": [
      "Wall time: 1min 4s\n"
     ]
    },
    {
     "data": {
      "text/plain": [
       "0.8819156194958142"
      ]
     },
     "execution_count": 60,
     "metadata": {},
     "output_type": "execute_result"
    }
   ],
   "source": [
    "%%time\n",
    "X_train_new, X_test_new = add_multi_feature(feat_df.columns, X_full)\n",
    "get_auc_rf_score(X_train_new, y_train, max_depth=5, n_estimators=100)"
   ]
  },
  {
   "cell_type": "code",
   "execution_count": 7,
   "id": "636a3151",
   "metadata": {},
   "outputs": [
    {
     "name": "stdout",
     "output_type": "stream",
     "text": [
      "Local score: 0.8819\n",
      "Wall time: 1min 38s\n"
     ]
    }
   ],
   "source": [
    "%%time\n",
    "probs = predict_probs(feat_df.columns, estimator=RandomForestClassifier(random_state=17, \n",
    "                                max_depth=5, \n",
    "                                n_estimators=100))"
   ]
  },
  {
   "cell_type": "code",
   "execution_count": 8,
   "id": "89934ead",
   "metadata": {},
   "outputs": [],
   "source": [
    "write_to_submission_file(probs, 'logit_subm22.csv.zip')"
   ]
  },
  {
   "cell_type": "code",
   "execution_count": 9,
   "id": "2d1f0928",
   "metadata": {},
   "outputs": [
    {
     "data": {
      "text/plain": [
       "Index(['weekday', 'weekday_0', 'weekday_1', 'weekday_2', 'weekday_3',\n",
       "       'weekday_4', 'weekday_5', 'weekday_6', 'hour_0', 'hour_1', 'hour_2',\n",
       "       'hour_3', 'hour_4', 'hour_5', 'hour_6', 'hour_7', 'hour_8', 'hour_9',\n",
       "       'hour_10', 'hour_11', 'hour_12', 'hour_13', 'hour_14', 'hour_15',\n",
       "       'hour_16', 'hour_17', 'hour_18', 'hour_19', 'hour_20', 'hour_21',\n",
       "       'hour_22', 'duration', 'hour_sin', 'hour_cos', 'hour', 'morning',\n",
       "       'noon', 'evening', 'night', 'delta1', 'delta2', 'delta3', 'delta4',\n",
       "       'delta5', 'delta6', 'delta7', 'delta8', 'delta9', 'delta_avg'],\n",
       "      dtype='object')"
      ]
     },
     "execution_count": 9,
     "metadata": {},
     "output_type": "execute_result"
    }
   ],
   "source": [
    "feat_df.columns"
   ]
  }
 ],
 "metadata": {
  "kernelspec": {
   "display_name": "Python 3 (ipykernel)",
   "language": "python",
   "name": "python3"
  },
  "language_info": {
   "codemirror_mode": {
    "name": "ipython",
    "version": 3
   },
   "file_extension": ".py",
   "mimetype": "text/x-python",
   "name": "python",
   "nbconvert_exporter": "python",
   "pygments_lexer": "ipython3",
   "version": "3.7.11"
  }
 },
 "nbformat": 4,
 "nbformat_minor": 5
}
